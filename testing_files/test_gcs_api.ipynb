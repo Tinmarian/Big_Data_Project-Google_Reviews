{
 "cells": [
  {
   "cell_type": "code",
   "execution_count": 38,
   "metadata": {},
   "outputs": [],
   "source": [
    "from google.cloud import storage\n",
    "\n",
    "from google.oauth2 import service_account\n",
    "\n",
    "SCOPES = ['https://www.googleapis.com/auth/drive.readonly','https://www.googleapis.com/auth/devstorage.full_control','https://www.googleapis.com/auth/drive']\n",
    "SERVICE_ACCOUNT_FILE = '../credentials/fiery-protocol-399500-f2566dd92ef4.json'\n",
    "\n",
    "creds = service_account.Credentials.from_service_account_file(\n",
    "        SERVICE_ACCOUNT_FILE, scopes=SCOPES)\n",
    "\n",
    "def list_blobs(bucket_name):\n",
    "    \"\"\"Lists all the blobs in the bucket.\"\"\"\n",
    "    # bucket_name = \"your-bucket-name\"\n",
    "\n",
    "    storage_client = storage.Client(credentials=creds)\n",
    "\n",
    "    # Note: Client.list_blobs requires at least package version 1.17.0.\n",
    "    blobs = storage_client.list_blobs(bucket_name, prefix='out_dataproc/all_california_raw')\n",
    "\n",
    "    # Note: The call returns a response only when the iterator is consumed.\n",
    "    for blob in blobs:\n",
    "        print(blob.name)\n",
    "        print(blob.id[:-17])"
   ]
  },
  {
   "cell_type": "code",
   "execution_count": 39,
   "metadata": {},
   "outputs": [
    {
     "name": "stdout",
     "output_type": "stream",
     "text": [
      "out_dataproc/all_california_raw/\n",
      "dataproc-pyspark-ops/out_dataproc/all_california_raw/\n",
      "out_dataproc/all_california_raw/_SUCCESS\n",
      "dataproc-pyspark-ops/out_dataproc/all_california_raw/_SUCCESS\n",
      "out_dataproc/all_california_raw/part-00000-d050384e-4c65-4fcf-98be-0d7746ab51e7-c000.json\n",
      "dataproc-pyspark-ops/out_dataproc/all_california_raw/part-00000-d050384e-4c65-4fcf-98be-0d7746ab51e7-c000.json\n",
      "out_dataproc/all_california_raw/part-00001-d050384e-4c65-4fcf-98be-0d7746ab51e7-c000.json\n",
      "dataproc-pyspark-ops/out_dataproc/all_california_raw/part-00001-d050384e-4c65-4fcf-98be-0d7746ab51e7-c000.json\n",
      "out_dataproc/all_california_raw/part-00002-d050384e-4c65-4fcf-98be-0d7746ab51e7-c000.json\n",
      "dataproc-pyspark-ops/out_dataproc/all_california_raw/part-00002-d050384e-4c65-4fcf-98be-0d7746ab51e7-c000.json\n",
      "out_dataproc/all_california_raw/part-00003-d050384e-4c65-4fcf-98be-0d7746ab51e7-c000.json\n",
      "dataproc-pyspark-ops/out_dataproc/all_california_raw/part-00003-d050384e-4c65-4fcf-98be-0d7746ab51e7-c000.json\n",
      "out_dataproc/all_california_raw/part-00004-d050384e-4c65-4fcf-98be-0d7746ab51e7-c000.json\n",
      "dataproc-pyspark-ops/out_dataproc/all_california_raw/part-00004-d050384e-4c65-4fcf-98be-0d7746ab51e7-c000.json\n",
      "out_dataproc/all_california_raw/part-00005-d050384e-4c65-4fcf-98be-0d7746ab51e7-c000.json\n",
      "dataproc-pyspark-ops/out_dataproc/all_california_raw/part-00005-d050384e-4c65-4fcf-98be-0d7746ab51e7-c000.json\n",
      "out_dataproc/all_california_raw/part-00006-d050384e-4c65-4fcf-98be-0d7746ab51e7-c000.json\n",
      "dataproc-pyspark-ops/out_dataproc/all_california_raw/part-00006-d050384e-4c65-4fcf-98be-0d7746ab51e7-c000.json\n",
      "out_dataproc/all_california_raw/part-00007-d050384e-4c65-4fcf-98be-0d7746ab51e7-c000.json\n",
      "dataproc-pyspark-ops/out_dataproc/all_california_raw/part-00007-d050384e-4c65-4fcf-98be-0d7746ab51e7-c000.json\n"
     ]
    }
   ],
   "source": [
    "list_blobs('dataproc-pyspark-ops')"
   ]
  }
 ],
 "metadata": {
  "kernelspec": {
   "display_name": "Python 3",
   "language": "python",
   "name": "python3"
  },
  "language_info": {
   "codemirror_mode": {
    "name": "ipython",
    "version": 3
   },
   "file_extension": ".py",
   "mimetype": "text/x-python",
   "name": "python",
   "nbconvert_exporter": "python",
   "pygments_lexer": "ipython3",
   "version": "3.10.8"
  },
  "orig_nbformat": 4
 },
 "nbformat": 4,
 "nbformat_minor": 2
}
