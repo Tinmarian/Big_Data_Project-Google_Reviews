{
 "cells": [
  {
   "cell_type": "code",
   "execution_count": 1,
   "metadata": {},
   "outputs": [
    {
     "data": {
      "text/html": [
       "\n",
       "            <div>\n",
       "                <p><b>SparkSession - in-memory</b></p>\n",
       "                \n",
       "        <div>\n",
       "            <p><b>SparkContext</b></p>\n",
       "\n",
       "            <p><a href=\"http://Tinmar:4040\">Spark UI</a></p>\n",
       "\n",
       "            <dl>\n",
       "              <dt>Version</dt>\n",
       "                <dd><code>v3.5.0</code></dd>\n",
       "              <dt>Master</dt>\n",
       "                <dd><code>local[5]</code></dd>\n",
       "              <dt>AppName</dt>\n",
       "                <dd><code>PySpark Transformations to Populate our Data Warehouse</code></dd>\n",
       "            </dl>\n",
       "        </div>\n",
       "        \n",
       "            </div>\n",
       "        "
      ],
      "text/plain": [
       "<pyspark.sql.session.SparkSession at 0x1bc7ff02110>"
      ]
     },
     "execution_count": 1,
     "metadata": {},
     "output_type": "execute_result"
    }
   ],
   "source": [
    "import os\n",
    "import gc\n",
    "import sys\n",
    "import pandas as pd\n",
    "import numpy as np\n",
    "import ast\n",
    "os.environ['PYSPARK_PYTHON'] = sys.executable \n",
    "os.environ['PYSPARK_DRIVER_PYTHON'] = sys.executable\n",
    "os.environ[\"PYARROW_IGNORE_TIMEZONE\"] = '1' \n",
    "\n",
    "# imports para trabajar con spark en local\n",
    "import findspark\n",
    "findspark.init()\n",
    "from pyspark.sql import SparkSession\n",
    "from pyspark.sql.utils import AnalysisException\n",
    "from pyspark.sql.types import IntegerType,StructField,StructType,StringType,LongType,MapType\n",
    "from pyspark.sql import functions as F\n",
    "import pyspark.pandas as ps\n",
    "\n",
    "# imports para trabajar con GCP\n",
    "from google.oauth2 import service_account\n",
    "from google.cloud import translate_v2 as translate\n",
    "\n",
    "\n",
    "\n",
    "\n",
    "# Credenciales para API's de GCP\n",
    "SERVICE_ACCOUNT_FILE = '../../credentials/fiery-protocol-399500-f2566dd92ef4.json'\n",
    "creds = service_account.Credentials.from_service_account_file(\n",
    "        SERVICE_ACCOUNT_FILE)\n",
    "translate_client = translate.Client(credentials=creds)\n",
    "\n",
    "\n",
    "# Iniciamos sesión de spark.\n",
    "SparkSession.stop(spk)\n",
    "spk = SparkSession.builder.appName(\"PySpark Transformations to Populate our Data Warehouse\") \\\n",
    "        .master(\"local[5]\") \\\n",
    "        .config(\"spark.executor.memory\",\"2g\") \\\n",
    "        .config(\"spark.driver.memory\",\"2g\") \\\n",
    "        .config(\"spark.speculation\",\"false\") \\\n",
    "        .config(\"parquet.enable.summary-metadata\", \"false\") \\\n",
    "        .config(\"mapreduce.fileoutputcommitter.marksuccessfuljobs\", \"false\") \\\n",
    "        .getOrCreate()\n",
    "ps.options.compute.ops_on_diff_frames = True\n",
    "spk"
   ]
  },
  {
   "cell_type": "code",
   "execution_count": 2,
   "metadata": {},
   "outputs": [
    {
     "name": "stdout",
     "output_type": "stream",
     "text": [
      "pyspark.pandas data frame persisted\n"
     ]
    },
    {
     "name": "stderr",
     "output_type": "stream",
     "text": [
      "C:\\spark-3.5.0\\python\\pyspark\\pandas\\utils.py:1016: PandasAPIOnSparkAdviceWarning: If `index_col` is not specified for `to_spark`, the existing index is lost when converting to Spark DataFrame.\n",
      "  warnings.warn(message, PandasAPIOnSparkAdviceWarning)\n"
     ]
    }
   ],
   "source": [
    "schema = StructType([\n",
    "    StructField('user_id',StringType(),False),\n",
    "    StructField('name',StringType(),True),\n",
    "    StructField('time',LongType(),True),\n",
    "    StructField('rating',IntegerType(),True),\n",
    "    StructField('text',StringType(),True),\n",
    "    StructField('resp',MapType(StringType(),StringType()),False),\n",
    "    StructField('gmap_id',StringType(),False)\n",
    "])\n",
    "\n",
    "\n",
    "i = 1\n",
    "df_list = []\n",
    "while True:\n",
    "    try:\n",
    "\n",
    "        # Leemos los archivos en un SPARK Data Frame para poder acceder directamente a GCS\n",
    "        sdf = spk.read.schema(schema).json(f'../../data/Google Maps/estados/review-California/{i}.json')[['gmap_id', 'user_id', 'name', 'time', 'rating', 'text', 'resp']].cache()\n",
    "        sdf.selectExpr('cast(user_id as int) user_id').cache()\n",
    "        sdf = sdf.withColumn('tiempo_respuesta',F.col('resp').getField('time')).cache()\n",
    "        sdf = sdf.withColumn('tiempo_respuesta',F.col('tiempo_respuesta').cast(LongType())).cache()\n",
    "        sdf = sdf.withColumn('respuesta',F.col('resp').getField('text')).sort('user_id').cache()\n",
    "        sdf = sdf.withColumn('time',F.col('time').cast(LongType())).cache()\n",
    "        sdf = sdf[['gmap_id','user_id','name','time','rating','text','tiempo_respuesta','respuesta']].cache()\n",
    "        # Transformamos el dataframe de respuestas a pandas para realizar las siguientes operaciones\n",
    "        # respuestas = respuestas.toPandas()\n",
    "        # respuestas['lenguaje_respuesta'] = pd.Series([],dtype=str)\n",
    "        # for i in range(len(respuestas)):\n",
    "        #     translation = translate_client.translate(respuestas.loc[i,'respuesta'], target_language='en')\n",
    "        #     if translation['detectedSourceLanguage'] == 'en':\n",
    "        #         respuestas.loc[i,'lenguaje_respuesta'] = 'en'\n",
    "        #     else:\n",
    "        #         respuestas.loc[i,'respuesta'] = translation['translatedText']\n",
    "        #         respuestas.loc[i,'lenguaje_respuesta'] = translation['detectedSourceLanguage']\n",
    "\n",
    "\n",
    "        # PANDAS API Data Frame: Paso intermedio para trabajar con los métodos de pandas pero con la potencia de spark, posteriormente guardaremos los datos en BQ después de \n",
    "        # las transformaciones...\n",
    "        psdf = sdf.pandas_api()\n",
    "        # sdf.unpersist()\n",
    "        # del sdf\n",
    "        # gc.collect()\n",
    "        # psdf = psdf[['gmap_id','user_id','name','time','rating','text','tiempo_respuesta','respuesta']].reset_index(drop=True).spark.cache()\n",
    "        psdf['estado'] = 'California' # state\n",
    "        df_list.append(psdf)\n",
    "        i += 1\n",
    "    except AnalysisException:\n",
    "        break\n",
    "\n",
    "psdf = ps.concat(df_list,axis=0)\n",
    "psdf = psdf.drop_duplicates().reset_index().spark.cache()   # 2,700,000 registros antes de drop_duplicates()\n",
    "\n",
    "del df_list\n",
    "gc.collect()\n",
    "\n",
    "sdft = psdf.to_spark().cache()\n",
    "csdf = sdft.fillna('nan')\n",
    "srespuestas = csdf[csdf.respuesta != 'nan'][['index','gmap_id','user_id','tiempo_respuesta','respuesta']].cache()\n",
    "srespuestas_gytrans = srespuestas.where(srespuestas.respuesta.contains('(Translated by Google)')).cache()\n",
    "srespuestas_gntrans = srespuestas.where(srespuestas.respuesta.contains('(Translated by Google)') == False).cache()\n",
    "del srespuestas\n",
    "del csdf\n",
    "gc.collect()\n",
    "# psdf.to_csv('../../data/Google Maps/clean_test/estados/california')  # 59.8s master('local[6]')\n",
    "# sdft.coalesce(1).write.mode('overwrite').format('csv').save('../../data/Google Maps/clean_test/estados/california')  # 56.2s, 1m 8s master('local[6]') # 57.6s, 1m 0.4s master('local[5]') # 1m 42.1s master('local[3]') # 1m 17s master('local[9]') # 1m 52s master('local[*]') # 1m 5.1s master('local[7]')\n",
    "print(f'pyspark.pandas data frame persisted')  # 2.3s master(local[5]) # 2.8s master(local[1]) # 4.8s master(local[*])"
   ]
  },
  {
   "cell_type": "code",
   "execution_count": 253,
   "metadata": {},
   "outputs": [
    {
     "name": "stdout",
     "output_type": "stream",
     "text": [
      "+------+--------------------+--------------------+---------------+-------------+------+--------------------+----------------+--------------------+----------+\n",
      "| index|             gmap_id|             user_id|           name|         time|rating|                text|tiempo_respuesta|           respuesta|    estado|\n",
      "+------+--------------------+--------------------+---------------+-------------+------+--------------------+----------------+--------------------+----------+\n",
      "| 23183|0x0:0x13154eabf70...|10363023463792407...|   Evelyn Smith|1597486754434|     5|        Easy access.|            NULL|                NULL|California|\n",
      "| 35641|0x0:0x13154eabf70...|10461531724534491...|     Brett Pyle|1560665142117|     5|        Fun airport!|            NULL|                NULL|California|\n",
      "| 84147|0x0:0x13154eabf70...|11042059297073811...|     jeff brown|1584485924747|     5|                NULL|            NULL|                NULL|California|\n",
      "| 85571|0x0:0x13154eabf70...|11059108636833709...|     Bill Keanu|1612057889844|     5|Great place for l...|            NULL|                NULL|California|\n",
      "|102056|0x0:0xdf872b4788f...|11249512557397464...|     luis vidal|1548523812049|     5|Always good servi...|   1574524668849|Thank you. We app...|California|\n",
      "|102774|0x0:0xdf872b4788f...|11258838864651637...|    midi master|1514905391091|     5|                NULL|            NULL|                NULL|California|\n",
      "|125576|0x0:0xdf872b4788f...|11543896192906748...| Vanessa Turner|1554913179851|     5|I own a vehicle w...|            NULL|                NULL|California|\n",
      "|141203|0x0:0xdf872b4788f...|11736414943911538...|    Gary Ortega|1546794961010|     5|                NULL|   1546802390681|  Thank you Gary!!!!|California|\n",
      "|147824|0x0:0xdf872b4788f...|11818319885363239...|    Tony Quarry|1500940739438|     1|I told the guy at...|   1519404556470|Tony, our sincere...|California|\n",
      "| 92388|0x14e036e7e86002a...|11167250513341757...|    Noreza Chan|1518749487985|     1|Please give me a ...|            NULL|                NULL|California|\n",
      "| 55814|0x14e04aa5733ddbc...|10699998988022649...|Hossain Yaghtin|1510362031680|     2|Hi,\\n\\nThis place...|            NULL|                NULL|California|\n",
      "| 58202|0x14e177de6fee934...|10757971762336693...|  Alfred Garcia|1511208144286|     3|                NULL|            NULL|                NULL|California|\n",
      "| 61630|0x14e177de6fee934...|10798227284043444...|   Enrique Boss|1506528195955|     3|                NULL|            NULL|                NULL|California|\n",
      "| 99398|0x14e177de6fee934...|11245017131436745...|       K Miller|1491844359667|     5|      Great place!!!|            NULL|                NULL|California|\n",
      "|  8384|0x14e178202092598...|10123855124527846...|      SANTIA853|1499208820372|     3|                NULL|            NULL|                NULL|California|\n",
      "|112625|0x14e178202092598...|11404816493160959...|  Mark Hanohano|1501965739106|     5|                NULL|            NULL|                NULL|California|\n",
      "|136494|0x14e178202092598...|11684980634928730...|         Jill J|1494630686150|     5|You can donate yo...|            NULL|                NULL|California|\n",
      "| 54382|0x14e179060f0442e...|10687919537608056...|  Gerardo Perez|1547105694138|     5|Everyone was so c...|   1548177848059|Thank you very mu...|California|\n",
      "| 57852|0x14e179060f0442e...|10728724238104686...|     Kim Gaines|1554010991489|     5|                NULL|            NULL|                NULL|California|\n",
      "| 78632|0x14e179060f0442e...|10979818065563175...| Heather Rowson|1602019462671|     5|Ms. Jacqueline an...|            NULL|                NULL|California|\n",
      "+------+--------------------+--------------------+---------------+-------------+------+--------------------+----------------+--------------------+----------+\n",
      "only showing top 20 rows\n",
      "\n"
     ]
    }
   ],
   "source": [
    "sdft.show()"
   ]
  },
  {
   "cell_type": "code",
   "execution_count": 237,
   "metadata": {},
   "outputs": [
    {
     "name": "stdout",
     "output_type": "stream",
     "text": [
      "root\n",
      " |-- index: long (nullable = false)\n",
      " |-- gmap_id: string (nullable = true)\n",
      " |-- user_id: string (nullable = true)\n",
      " |-- name: string (nullable = true)\n",
      " |-- time: long (nullable = true)\n",
      " |-- rating: integer (nullable = true)\n",
      " |-- text: string (nullable = true)\n",
      " |-- tiempo_respuesta: long (nullable = true)\n",
      " |-- respuesta: string (nullable = true)\n",
      " |-- estado: string (nullable = false)\n",
      "\n"
     ]
    }
   ],
   "source": [
    "sdft.printSchema()"
   ]
  },
  {
   "cell_type": "code",
   "execution_count": 238,
   "metadata": {},
   "outputs": [
    {
     "data": {
      "text/plain": [
       "2624757"
      ]
     },
     "execution_count": 238,
     "metadata": {},
     "output_type": "execute_result"
    }
   ],
   "source": [
    "sdft.count()"
   ]
  },
  {
   "cell_type": "code",
   "execution_count": 239,
   "metadata": {},
   "outputs": [
    {
     "data": {
      "text/plain": [
       "4744"
      ]
     },
     "execution_count": 239,
     "metadata": {},
     "output_type": "execute_result"
    }
   ],
   "source": [
    "srespuestas_gytrans.count()"
   ]
  },
  {
   "cell_type": "code",
   "execution_count": 240,
   "metadata": {},
   "outputs": [
    {
     "data": {
      "text/plain": [
       "233713"
      ]
     },
     "execution_count": 240,
     "metadata": {},
     "output_type": "execute_result"
    }
   ],
   "source": [
    "srespuestas_gntrans.count()"
   ]
  },
  {
   "cell_type": "code",
   "execution_count": 3,
   "metadata": {},
   "outputs": [],
   "source": [
    "prespuestas = srespuestas_gntrans.toPandas()\n",
    "# psrespuestas = srespuestas_gntrans.pandas_api()"
   ]
  },
  {
   "cell_type": "code",
   "execution_count": 4,
   "metadata": {},
   "outputs": [
    {
     "data": {
      "text/html": [
       "<div>\n",
       "<style scoped>\n",
       "    .dataframe tbody tr th:only-of-type {\n",
       "        vertical-align: middle;\n",
       "    }\n",
       "\n",
       "    .dataframe tbody tr th {\n",
       "        vertical-align: top;\n",
       "    }\n",
       "\n",
       "    .dataframe thead th {\n",
       "        text-align: right;\n",
       "    }\n",
       "</style>\n",
       "<table border=\"1\" class=\"dataframe\">\n",
       "  <thead>\n",
       "    <tr style=\"text-align: right;\">\n",
       "      <th></th>\n",
       "      <th>index</th>\n",
       "      <th>gmap_id</th>\n",
       "      <th>user_id</th>\n",
       "      <th>tiempo_respuesta</th>\n",
       "      <th>respuesta</th>\n",
       "    </tr>\n",
       "  </thead>\n",
       "  <tbody>\n",
       "    <tr>\n",
       "      <th>0</th>\n",
       "      <td>102056</td>\n",
       "      <td>0x0:0xdf872b4788fc688b</td>\n",
       "      <td>112495125573974647398</td>\n",
       "      <td>1574524668849</td>\n",
       "      <td>Thank you. We appreciate your support</td>\n",
       "    </tr>\n",
       "    <tr>\n",
       "      <th>1</th>\n",
       "      <td>141203</td>\n",
       "      <td>0x0:0xdf872b4788fc688b</td>\n",
       "      <td>117364149439115386407</td>\n",
       "      <td>1546802390681</td>\n",
       "      <td>Thank you Gary!!!!</td>\n",
       "    </tr>\n",
       "  </tbody>\n",
       "</table>\n",
       "</div>"
      ],
      "text/plain": [
       "    index                 gmap_id                user_id  tiempo_respuesta  \\\n",
       "0  102056  0x0:0xdf872b4788fc688b  112495125573974647398     1574524668849   \n",
       "1  141203  0x0:0xdf872b4788fc688b  117364149439115386407     1546802390681   \n",
       "\n",
       "                               respuesta  \n",
       "0  Thank you. We appreciate your support  \n",
       "1                     Thank you Gary!!!!  "
      ]
     },
     "execution_count": 4,
     "metadata": {},
     "output_type": "execute_result"
    }
   ],
   "source": [
    "prespuestas.head(2)"
   ]
  },
  {
   "cell_type": "code",
   "execution_count": 5,
   "metadata": {},
   "outputs": [
    {
     "data": {
      "text/plain": [
       "index               233713\n",
       "gmap_id             233713\n",
       "user_id             233713\n",
       "tiempo_respuesta    233713\n",
       "respuesta           233713\n",
       "dtype: int64"
      ]
     },
     "execution_count": 5,
     "metadata": {},
     "output_type": "execute_result"
    }
   ],
   "source": [
    "prespuestas.count()"
   ]
  },
  {
   "cell_type": "code",
   "execution_count": 9,
   "metadata": {},
   "outputs": [
    {
     "data": {
      "text/plain": [
       "1"
      ]
     },
     "execution_count": 9,
     "metadata": {},
     "output_type": "execute_result"
    }
   ],
   "source": [
    "prespuestas = prespuestas[['gmap_id','user_id','respuesta','tiempo_respuesta']]\n",
    "prespuestas[prespuestas.respuesta.str.contains('Thank you Gary!!!!')].index.item()"
   ]
  },
  {
   "cell_type": "code",
   "execution_count": 24,
   "metadata": {},
   "outputs": [
    {
     "ename": "BadRequest",
     "evalue": "400 GET https://translation.googleapis.com/language/translate/v2/languages?target=hola&prettyPrint=false: Target language is invalid. [{'@type': 'type.googleapis.com/google.rpc.BadRequest', 'fieldViolations': [{'field': 'target', 'description': 'Target language: hola'}]}]",
     "output_type": "error",
     "traceback": [
      "\u001b[1;31m---------------------------------------------------------------------------\u001b[0m",
      "\u001b[1;31mBadRequest\u001b[0m                                Traceback (most recent call last)",
      "\u001b[1;32mc:\\Users\\tinma\\OneDrive\\Escritorio\\HENRY\\Proyecto_Grupal_HENRY\\spark\\local_testing\\pyspark_testing.ipynb Celda 12\u001b[0m line \u001b[0;36m1\n\u001b[1;32m----> <a href='vscode-notebook-cell:/c%3A/Users/tinma/OneDrive/Escritorio/HENRY/Proyecto_Grupal_HENRY/spark/local_testing/pyspark_testing.ipynb#Y110sZmlsZQ%3D%3D?line=0'>1</a>\u001b[0m translate_client\u001b[39m.\u001b[39;49mget_languages(\u001b[39m'\u001b[39;49m\u001b[39mhola\u001b[39;49m\u001b[39m'\u001b[39;49m)\n",
      "File \u001b[1;32mc:\\Users\\tinma\\AppData\\Local\\Programs\\Python\\Python310\\lib\\site-packages\\google\\cloud\\translate_v2\\client.py:119\u001b[0m, in \u001b[0;36mClient.get_languages\u001b[1;34m(self, target_language)\u001b[0m\n\u001b[0;32m    117\u001b[0m \u001b[39mif\u001b[39;00m target_language \u001b[39mis\u001b[39;00m \u001b[39mnot\u001b[39;00m \u001b[39mNone\u001b[39;00m:\n\u001b[0;32m    118\u001b[0m     query_params[\u001b[39m\"\u001b[39m\u001b[39mtarget\u001b[39m\u001b[39m\"\u001b[39m] \u001b[39m=\u001b[39m target_language\n\u001b[1;32m--> 119\u001b[0m response \u001b[39m=\u001b[39m \u001b[39mself\u001b[39;49m\u001b[39m.\u001b[39;49m_connection\u001b[39m.\u001b[39;49mapi_request(\n\u001b[0;32m    120\u001b[0m     method\u001b[39m=\u001b[39;49m\u001b[39m\"\u001b[39;49m\u001b[39mGET\u001b[39;49m\u001b[39m\"\u001b[39;49m, path\u001b[39m=\u001b[39;49m\u001b[39m\"\u001b[39;49m\u001b[39m/languages\u001b[39;49m\u001b[39m\"\u001b[39;49m, query_params\u001b[39m=\u001b[39;49mquery_params\n\u001b[0;32m    121\u001b[0m )\n\u001b[0;32m    122\u001b[0m \u001b[39mreturn\u001b[39;00m response\u001b[39m.\u001b[39mget(\u001b[39m\"\u001b[39m\u001b[39mdata\u001b[39m\u001b[39m\"\u001b[39m, {})\u001b[39m.\u001b[39mget(\u001b[39m\"\u001b[39m\u001b[39mlanguages\u001b[39m\u001b[39m\"\u001b[39m, ())\n",
      "File \u001b[1;32mc:\\Users\\tinma\\AppData\\Local\\Programs\\Python\\Python310\\lib\\site-packages\\google\\cloud\\_http\\__init__.py:494\u001b[0m, in \u001b[0;36mJSONConnection.api_request\u001b[1;34m(self, method, path, query_params, data, content_type, headers, api_base_url, api_version, expect_json, _target_object, timeout, extra_api_info)\u001b[0m\n\u001b[0;32m    482\u001b[0m response \u001b[39m=\u001b[39m \u001b[39mself\u001b[39m\u001b[39m.\u001b[39m_make_request(\n\u001b[0;32m    483\u001b[0m     method\u001b[39m=\u001b[39mmethod,\n\u001b[0;32m    484\u001b[0m     url\u001b[39m=\u001b[39murl,\n\u001b[1;32m   (...)\u001b[0m\n\u001b[0;32m    490\u001b[0m     extra_api_info\u001b[39m=\u001b[39mextra_api_info,\n\u001b[0;32m    491\u001b[0m )\n\u001b[0;32m    493\u001b[0m \u001b[39mif\u001b[39;00m \u001b[39mnot\u001b[39;00m \u001b[39m200\u001b[39m \u001b[39m<\u001b[39m\u001b[39m=\u001b[39m response\u001b[39m.\u001b[39mstatus_code \u001b[39m<\u001b[39m \u001b[39m300\u001b[39m:\n\u001b[1;32m--> 494\u001b[0m     \u001b[39mraise\u001b[39;00m exceptions\u001b[39m.\u001b[39mfrom_http_response(response)\n\u001b[0;32m    496\u001b[0m \u001b[39mif\u001b[39;00m expect_json \u001b[39mand\u001b[39;00m response\u001b[39m.\u001b[39mcontent:\n\u001b[0;32m    497\u001b[0m     \u001b[39mreturn\u001b[39;00m response\u001b[39m.\u001b[39mjson()\n",
      "\u001b[1;31mBadRequest\u001b[0m: 400 GET https://translation.googleapis.com/language/translate/v2/languages?target=hola&prettyPrint=false: Target language is invalid. [{'@type': 'type.googleapis.com/google.rpc.BadRequest', 'fieldViolations': [{'field': 'target', 'description': 'Target language: hola'}]}]"
     ]
    }
   ],
   "source": [
    "translate_client.get_languages('hola')"
   ]
  },
  {
   "cell_type": "code",
   "execution_count": 25,
   "metadata": {},
   "outputs": [],
   "source": [
    "def translate_resp(x):\n",
    "    \n",
    "    global idx_noten_apply, resp_noten_apply\n",
    "    idx_noten_apply = []\n",
    "    resp_noten_apply = []\n",
    "    \n",
    "    # imports para trabajar con GCP\n",
    "    from google.oauth2 import service_account\n",
    "    from google.cloud import translate_v2 as translate\n",
    "    # Credenciales para API's de GCP\n",
    "    SERVICE_ACCOUNT_FILE = '../../credentials/fiery-protocol-399500-f2566dd92ef4.json'\n",
    "    creds = service_account.Credentials.from_service_account_file(\n",
    "            SERVICE_ACCOUNT_FILE)\n",
    "    translate_client = translate.Client(credentials=creds)\n",
    "    \n",
    "    idx = 0\n",
    "    lista = list(prespuestas[prespuestas.respuesta.str.contains(x,regex=False)].index)\n",
    "    translation = translate_client.translate(x,target_language='en')\n",
    "    idioma = translation['detectedSourceLanguage']\n",
    "    if len(lista) == 1:\n",
    "        idx = prespuestas[prespuestas.respuesta.str.contains(x,regex=False)].index.item()\n",
    "        if idx % 50 == 0:\n",
    "            print(idx)\n",
    "    if idioma != 'en':\n",
    "        print(x,idioma,translation['translatedText'])\n",
    "        idx_noten_apply.append(idx)\n",
    "        resp_noten_apply.append(x)\n",
    "        try:\n",
    "            print(idx)\n",
    "        except NameError:\n",
    "            print(f'Ya encontramos esta frase antes, los índices son: {lista}')\n",
    "        return translation['translatedText']\n",
    "    return x"
   ]
  },
  {
   "cell_type": "code",
   "execution_count": 12,
   "metadata": {},
   "outputs": [
    {
     "name": "stdout",
     "output_type": "stream",
     "text": [
      "50\n",
      "150\n",
      "200\n",
      "250\n",
      "300\n",
      "350\n",
      "Thank you very much, Vikash Lakhani. mr Thank you very much, Vikash Lakhani.\n",
      "384\n",
      "400\n",
      "450\n",
      "Thanks Myka! fil Thanks Myka!\n",
      "477\n",
      "500\n",
      "550\n",
      "650\n",
      "700\n",
      "750\n",
      "800\n",
      "850\n",
      "950\n",
      "Thanks,  Kareem! gu Thanks Kareem!\n",
      "975\n",
      "1000\n",
      "1100\n",
      "1150\n",
      "1200\n",
      "1300\n",
      "1400\n",
      "1450\n",
      "1500\n",
      "1550\n",
      "1600\n",
      "1650\n",
      "1700\n",
      "1750\n",
      "1800\n",
      "xxxx ht xxxx\n",
      "0\n",
      "1850\n",
      "1900\n",
      "1950\n",
      "2050\n",
      "2100\n",
      "Thanks Sanne! ;) da Thanks Sanne! ;)\n",
      "2139\n",
      "2150\n",
      "2200\n",
      "2300\n",
      "2350\n"
     ]
    },
    {
     "data": {
      "text/plain": [
       "0                   Thank you. We appreciate your support\n",
       "1                                      Thank you Gary!!!!\n",
       "2       Tony, our sincere apologies you had this exper...\n",
       "3       Thank you very much! You can always come back ...\n",
       "4       Thank you Jeffery for taking time to review us...\n",
       "                              ...                        \n",
       "2375    Hi AM, thank you for your review. We are sorry...\n",
       "2376    Thank you for your review! Our associates stri...\n",
       "2377                        Santosh, we love seeing this!\n",
       "2378    That's wonderful to hear, Darrell! We sure are...\n",
       "2379              Igor, we appreciate your 5-star rating!\n",
       "Name: respuesta, Length: 2380, dtype: object"
      ]
     },
     "execution_count": 12,
     "metadata": {},
     "output_type": "execute_result"
    }
   ],
   "source": [
    "translate_prueba_pdf = prespuestas.respuesta[:2380].apply(translate_resp)  # 19.9s master(local[5])\n",
    "translate_prueba_pdf"
   ]
  },
  {
   "cell_type": "code",
   "execution_count": 14,
   "metadata": {},
   "outputs": [
    {
     "data": {
      "text/plain": [
       "['Thank you very much, Vikash Lakhani.',\n",
       " 'Thanks Myka!',\n",
       " 'Thanks,  Kareem!',\n",
       " 'xxxx',\n",
       " 'Thanks Sanne! ;)']"
      ]
     },
     "execution_count": 14,
     "metadata": {},
     "output_type": "execute_result"
    }
   ],
   "source": [
    "resp_noten_apply"
   ]
  },
  {
   "cell_type": "code",
   "execution_count": 21,
   "metadata": {},
   "outputs": [
    {
     "name": "stdout",
     "output_type": "stream",
     "text": [
      "0\n",
      "384 Thank you very much, Vikash Lakhani. mr Thank you very much, Vikash Lakhani.\n",
      "477 Thanks Myka! fil Thanks Myka!\n",
      "975 Thanks,  Kareem! gu Thanks Kareem!\n",
      "1000\n",
      "1834 xxxx ht xxxx\n",
      "2000\n",
      "2139 Thanks Sanne! ;) da Thanks Sanne! ;)\n",
      "3000\n",
      "3475 Thanks, Mikki. ta Thanks, Mikki.\n",
      "4000\n",
      "4336 ThankS Schad! de Thanks Shame!\n",
      "4404 Thank you Julito fil Thank you Julito\n",
      "4676 Thank you\n",
      "Annie Ngai. lus Thank you Annie Ngai.\n",
      "4677 Thank you Betsaida Valdovinos-Ceja es Thank you Betsaida Valdovinos-Ceja\n",
      "5000\n",
      "6000\n",
      "6236 Thanks Omkar! hi Thanks Omkar!\n",
      "6237 Thanks Yuxuan! zh Thanks Yuxuan!\n",
      "6254 Thanks Dayana! hi Thanks Dayana!\n",
      "6260 Thanks Dassa! gu Thanks Dassa!\n",
      "6286 Thanks Binh! vi Thanks Binh!\n",
      "6601 Thanks Shadee! :) gu Thanks Shadee! :)\n",
      "7000\n",
      "7219 Thank you Luis Alvarado! es Thank you Luis Alvarado!\n",
      "7377 Thank you for the 5-Star rating! We are glad to hear you enjoyed your experience at Quiznos! Please come back and visit again!.\n",
      "\n",
      "Estimado Jesus Diaz, gracias por su recomendacion. Nos alegra saber que te gusto, por favor regresa pronto! :) es Thank you for the 5-Star rating! We are glad to hear you enjoyed your experience at Quiznos! Please come back and visit again! Dear Jesus Diaz, thank you for your recommendation. We are glad to know that you liked it, please come back soon! :)\n",
      "7804 Thanks Nidia  😊 fil Thanks Nidia 😊\n",
      "7839 Ty Michael uk Ty Michael\n",
      "8000\n",
      "8073 Saaay Whaaat? since when ;) fil What? since when ;)\n",
      "8437 Thanks, Samey! gu Thanks, Samey!\n",
      "9000\n",
      "10000\n",
      "10976 Mahalo Mike! 🤙🏽 haw Thanks Mike! 🤙🏽\n",
      "10977 Mahalo Mr. J 🤙🏽 haw Thanks Mr. J 🤙🏽\n",
      "10978 Mahalo! 🤙🏽 haw Thank you! 🤙🏽\n",
      "10979 Mahalo Victoria! 🤙🏽 haw Thanks Victoria! 🤙🏽\n",
      "10980 Mahalo Chris! 🤙🏽 haw Thanks Chris! 🤙🏽\n",
      "11000\n",
      "12000\n",
      "12735 Thanks, Karri hi Thanks, Karri\n",
      "13000\n",
      "14000\n",
      "15000\n",
      "15736 Awh thanx doll lus Oh thanx doll\n",
      "16000\n",
      "16363 Thank you Vyacheslav! mr Thank you Vyacheslav!\n",
      "17000\n",
      "17581 Thanks Maira! hi Thanks Maira!\n",
      "17610 U hc donde es U hc where\n",
      "18000\n",
      "18194 Thanh you Elizabeth vi Thank you Elizabeth\n",
      "18868 Tnx fil Tnx\n",
      "18974 Tnx Kristan for your review fil Tnx Kristan for your review\n",
      "19000\n",
      "19090 Thank you, Frescura Mora. pt Thank you, Frescura Mora.\n",
      "19569 Hola Cesar. Soy Josh del Departamento de Relaciones con el Cliente de Mathis Brothers. ¡Gracias por la reseña! ¡Nos alegra saber cuánto disfrutó comprando con nosotros y trabajando con nuestro equipo! ¡Apreciamos su negocio y esperamos volver a verlo pronto! es Hi Cesar. I&#39;m Josh from Mathis Brothers Customer Relations. Thanks for the review! We&#39;re glad to hear how much you enjoyed shopping with us and working with our team! We appreciate your business and hope to see you again soon!\n",
      "19644 Thank you Neeki! ml Thank you Neeki!\n",
      "20000\n",
      "20245 Indeed: Sanmanuel.com/awards.\n",
      "-San Manuel Casino es Indeed: Sanmanuel.com/awards. -San Manuel Casino\n",
      "20946 Thanks Tamara! gu Thanks Tamara!\n",
      "21000\n",
      "21190 Evett, Thank you. hu I ate, Thank you.\n",
      "21900 Thx brotha gd Thx brotha\n",
      "22000\n",
      "23000\n",
      "23868 Thanks JAyesh! hi Thanks Jayesh!\n",
      "24000\n",
      "24545 Thanks Mucho! 🍻🙌🏼🐝 es Thanks a lot! 🍻🙌🏼🐝\n",
      "25000\n",
      "26000\n",
      "27000\n",
      "27999 Thank you Melesa! ms Thank you Melesa!\n",
      "28000\n",
      "29000\n",
      "30000\n",
      "31000\n",
      "31356 Thanks Anatoli!! te Thanks Anatoli!!\n",
      "32000\n",
      "33000\n",
      "34000\n",
      "34282 Thanks Vida pt Thanks Vida\n",
      "34534 Liyenita Widjaja thanks for the great review! id Liyenita Widjaja thanks for the great review!\n",
      "35000\n",
      "36000\n",
      "37000\n",
      "37254 aye yo chance\n",
      "38000\n",
      "38913 Thanks Utkarsh! Appreciate the support! -Kirk hi Thanks Utkarsh! Appreciate the support! -Kirk\n",
      "38916 Thanks Karthikeyan! hi Thanks Karthikeyan!\n",
      "38922 Thanks Mazen! nl Thanks Mazen!\n",
      "38932 Thanks Prashanth! hi Thanks Prashanth!\n",
      "38973 Thanks Estefania! ca Thanks Estefania!\n",
      "39000\n",
      "39509 Спасибо, дорогой Алекс, и Господь благословит вас за ваш благоприятный обзор нашего монастыря!\n",
      "Thank you, dear Alex, and the Lord bless you for your favorable review of our monastery! It was wonderful to meet you and Ludmila! ru Thank you dear Alex and God bless you for your favorable review of our monastery! Thank you, dear Alex, and the Lord bless you for your favorable review of our monastery! It was wonderful to meet you and Ludmila!\n",
      "40000\n",
      "40606 Ty sir pl You sir\n",
      "40812 BAWK BAWK Cluck Yeah! 😊 🐔 Thank you Shanna! lus Cluck Yeah! 😊 🐔 Thank you Shanna!\n",
      "41000\n",
      "41300 Mahalo! haw Thank you!\n",
      "42000\n",
      "43000\n",
      "43118 Thanks Kati hi Thanks Kati\n",
      "43247 So glad to hear that Karissa! fil So glad to hear that Karissa!\n",
      "43653 Thanks Andrija:) hr Thanks Andrija :)\n",
      "43856 Mahalo Nathaniel! 🤙🏽 haw Thanks Nathaniel! 🤙🏽\n",
      "43857 Mahalo Margie! ❤️ haw Thanks Margie! ❤️\n",
      "43858 Mahalo Kevin! 🤙🏽 haw Thanks Kevin! 🤙🏽\n",
      "43859 Mahalo Michael! 🤙🏽 haw Thanks Michael! 🤙🏽\n",
      "43860 Mahalo Georgina!🤙🏽 haw Thanks Georgina!🤙🏽\n",
      "43862 Mahalo John! 🤙🏽 haw Thanks John! 🤙🏽\n",
      "43863 Mahalo Hillary! 🤙🏽 haw Thanks Hillary! 🤙🏽\n",
      "43864 Mahalo Chris! 🤙🏽 haw Thanks Chris! 🤙🏽\n",
      "44000\n",
      "45000\n",
      "46000\n",
      "46883 Hi L A!!\n",
      "\n",
      "Thank you very much for your review. We hope to see you soon. Gracias por sus comentarios. Esperamos verla pronto. es Hi LA!! Thank you very much for your review. We hope to see you soon. Thanks for your comments. We hope to see you soon.\n",
      "47000\n",
      "47389 Thanks Aleah fil Thanks Aleah\n",
      "47472 Yay ~Leo es Yay ~Leo\n",
      "48000\n",
      "49000\n",
      "49308 Agradecemos sus comentarios, pero analizamos y lo sucedido es que usted metio una botella de DOWNEY asuavisador y se chorrio dentro de la caja , consideramos que no es indicado meter algo que con la presion y el peso se puede hacer que se reviente, es lo que sucedio y  mojo lo que tenia al rededor en la caja. Usted llamo a pedir que le pagararmos $100 por lo mojado y una lata de frijoles si se moja que le puede pasar? y usted queria que le pagaramos la lata solo porque se mojo y otras cosas que simplemente usted reclama que le paguemos si no se perdieron. Entonces su ira hizo que publicarar una mala experiencia. Consideramos esto como un accidente y no es representativo de mal servicio, sino un accidente que usted puede prevenir no enviando algo que puede chorriar, y si se chorrea  es su responsabilidad. Tengo el video que despues publicaremos para que su audiencia tenga la oportunidad de opinar al respecto. Si tiene una reconsideracion de su ira o desea escribir a obregon@mtomtours.com es We appreciate your comments, but we analyzed and what happened is that you put a bottle of DOWNEY softener and it squirted inside the box, we consider that it is not indicated to put something that with the pressure and weight can cause it to burst, that is what It happened and it wet what was around in the box. You called to ask that we pay you $100 for the wet stuff and a can of beans if it gets wet, what could happen to you? and you wanted us to pay you for the can just because it got wet and other things that you simply demand that we pay you if they were not lost. Then his anger made him post a bad experience. We consider this an accident and it is not representative of bad service, but rather an accident that you can prevent by not sending something that can leak, and if it leaks it is your responsibility. I have the video that we will publish later so that your audience has the opportunity to comment on it. If you have a reconsideration of your anger or wish to write to obregon@mtomtours.com\n",
      "49389 Hola Abraham, Gracias por compartir su reseña con nosotros. Si tiene alguna pregunta, comuníquese con nosotros al 1 (800) 227-8428. Agradecemos su atencion. es Hello Abraham, Thank you for sharing your review with us. If you have any questions, please contact us at 1 (800) 227-8428. Thanks for your attention.\n",
      "50000\n",
      "50198 Thank you very much for your comment\n",
      "\n",
      "Muchas gracias por su comentario es Thank you very much for your comment Thank you very much for your comment\n",
      "50339 Thanks Malena fil Thanks Malena\n",
      "50437 Thanks, Betito! bn Thanks, Betito!\n",
      "51000\n",
      "51707 Tnx fil Tnx\n",
      "51709 Tnx fil Tnx\n",
      "51960 Thanks, Gurpreet. gu Thanks, Gurpreet.\n",
      "52000\n",
      "52642 Aloha Brenda , mg Hi Brenda,\n",
      "53000\n",
      "53502 Thanks Melisa!! fil Thanks Melissa!!\n",
      "53763 Thank you so much!!! Muchisimas gracias!! Estamos a sus ordenes.  You can call us anytime! es Thank you so much!!! Thanks a lot!! We are under your command. You can call us anytime!\n",
      "54000\n",
      "54164 Mahalo Andrew! haw Thanks Andrew!\n",
      "54247 Thanks Dan! ms Thanks Dan!\n",
      "55000\n",
      "55464 Thnx Vito! sq Thnx Vito!\n",
      "56000\n",
      "57000\n",
      "57332 Thank you, Crissy! fil Thank you, Crissy!\n",
      "57499 Mahalo Hannah!! haw Thanks Hannah!!\n",
      "58000\n",
      "58035 Thank youuuuuu!!! fil Thank youuuuuuu!!!\n",
      "58149 Thanks JoeMar! fil Thanks JoeMar!\n",
      "59000\n",
      "59831 Hola Oscar, es un gusto saludarte. Muchas gracias por compartir tu comentario. Esperamos que puedas visitarnos cuando lo necesites. es Hello Oscar, it&#39;s a pleasure to greet you. Thank you very much for sharing your comment. We hope you can visit us whenever you need.\n",
      "60000\n",
      "60020 Thanks, Dria! fil Thanks, Dria!\n",
      "61000\n",
      "61447 Thk you Marykay!!.. ❤️ ms Thk you Marykay!!.. ❤️\n",
      "61863 Thank you Micko! fil Thank you Mick!\n",
      "62000\n",
      "62709 Thank you, Yung! fil Thank you, Yung!\n",
      "63000\n",
      "64000\n",
      "65000\n",
      "66000\n",
      "66549 thanks Kori! gu thanks Kori!\n",
      "66980 Thank you Adriana for your support. Gracias por su apoyo 😀🙏 es Thank you Adriana for your support. Thank you for your support 😀🙏\n",
      "67000\n",
      "68000\n",
      "69000\n",
      "70000\n",
      "70080 Thank you Yinan! zh Thank you Yinan!\n",
      "70317 Mahalo nui! 👊 haw Thank you very much! 👊\n",
      "71000\n",
      "71641 Thanks Swapnil! bn Thanks Swapnil!\n",
      "71693 Thanks Utkarsh! hi Thanks Utkarsh!\n",
      "71839 Thank you, Yuxin. zh Thank you, Yuxin.\n",
      "71962 Lucia, de parte de todo el equipo aqui en La Plaza Market, te agradecemos por tu confianza y preferencia y por tu reseña de 4 estrellas. Quedamos a sus ordenes para servirle pronto de nuevo! es Lucia, on behalf of the entire team here at La Plaza Market, we thank you for your trust and preference and for your 4-star review. We remain at your service to serve you again soon!\n",
      "72000\n",
      "72871 Thank you Matanat! fil Thank you Matanat!\n",
      "72901 Thank you, Janaye! hi Thank you, Janaye!\n",
      "73000\n",
      "74000\n",
      "75000\n",
      "75543 Thanks Tamara! gu Thanks Tamara!\n",
      "75860 Thanks  evette king af Thanks Evette King\n",
      "76000\n",
      "76527 Mahalo Amy! 🤙🏽 mg Thanks Amy! 🤙🏽\n",
      "76528 Mahalo Rodney! 🤙🏽 haw Thanks Rodney! 🤙🏽\n",
      "76529 Mahalo David! 🤙🏽 haw Thanks David! 🤙🏽\n",
      "76530 Mahalo Michael! 🤙🏽 haw Thanks Michael! 🤙🏽\n",
      "76531 Mahalo Jorge! 🤙🏽 haw Thanks Jorge! 🤙🏽\n",
      "76532 Mahalo Arthur! 🤙🏽 hi Thank you Arthur!\n",
      "76533 Mahalo Noelle! 🤙🏽 haw Thanks Noelle! 🤙🏽\n",
      "76534 Mahalo Kip! 🤙🏽 haw Thanks Kip! 🤙🏽\n",
      "77000\n",
      "78000\n",
      "78889 Thanks Rozie! ms Thanks Rosie!\n",
      "79000\n",
      "79507 Tnx fil Tnx\n",
      "80000\n",
      "80225 Thanks Gian! vi Thanks Gian!\n",
      "81000\n",
      "81062 Tjhank u for visit da Thank you for visiting\n",
      "81955 谢谢学霸妹妹 zh-CN Thank you, sister Xueba\n",
      "82000\n",
      "82081 Thaaank you!! ta Thank you!!\n",
      "82646 Thaks to prefer Gallardos beauty salón pt Thaks to prefer Gallardos beauty salon\n",
      "82733 Thank’s. Daniel Jacobo es Thank you. Daniel Jacob\n",
      "83000\n",
      "83121 Okayyyy ;) much love! ms Okayyy ;) much love!\n",
      "84000\n",
      "84554 Tnx fil Tnx\n",
      "84705 Tnx Norman ilo Thanks Norman\n",
      "85000\n",
      "85004 Gracias por su visita Alfonso Ochoa es Thank you for your visit Alfonso Ochoa\n",
      "85110 Gghhh\n",
      "\n",
      "H 4th fil Gghhhh H 4th\n",
      "85382 Hola Monica, gracias por su comentario. Nos esforzamos mucho por lograr que cada experiencia del cliente sea disfrutable y realmente lamentamos el no haber sido capaces de alcanzar tus expectativas en esta oportunidad. Nos gustaría ponerlo en contacto con nuestro equipo de satisfacción del cliente para que puedan realizar una solución y resolver este asunto; y ver cómo podemos evitar que este problema vuelva a ocurrir en el futuro. Si por favor nos pudiera enviar un mensaje con su información. es Hi Monica, thank you for your comment. We work hard to make every customer experience enjoyable and we truly regret that we were not able to meet your expectations on this occasion. We would like to put you in touch with our customer success team so they can make a solution and resolve this matter; and see how we can prevent this problem from happening again in the future. If you could please send us a message with your information.\n",
      "86000\n",
      "87000\n",
      "87019 Mahalo Tamara!!! gu Mahalo Tamara!!!\n",
      "88000\n",
      "88922 Thank you Papa Dan! ms Thank you Papa Dan!\n",
      "89000\n",
      "89423 Ffj r cy Fj r\n",
      "90000\n",
      "90149 Haha - Thanks Franchesca ! 🍾🐝🍯🥂☀️ fil Haha - Thanks Francesca! 🍾🐝🍯🥂☀️\n",
      "91000\n",
      "92000\n",
      "92010 Thank you Allyssa! fil Thank you Alyssa!\n",
      "92526 Obrigado, Anthony! Our Beyond Meat empanada are still a very popular item, along with our açaí! pt Thanks, Anthony! Our Beyond Meat empanada are still a very popular item, along with our açaí!\n",
      "92527 Obrigado, Laura! See you soon again! pt Thank you, Laura! See you soon again!\n",
      "93000\n",
      "93704 Mahalo Ralph!  many mahalos! hi Mahalo Ralph! many thanks!\n",
      "94000\n",
      "94466 Thanks Quynh! vi Thanks Quynh!\n",
      "94883 Thanks Joise! gu Thanks Joise!\n",
      "95000\n",
      "95109 Thank you Verito! :) Síguenos en Facebook o Instagram @YogurtlandNorwalk! ilo Thank you Verito! :) Follow us on Facebook or Instagram @YogurtlandNorwalk!\n",
      "95134 Thank you Ailyn! fil Thank you Aileen!\n",
      "96000\n",
      "96141 Thanks Dria fil Thanks Dria\n",
      "97000\n",
      "98000\n",
      "99000\n",
      "99155 tnks id thanks\n",
      "100000\n",
      "101000\n",
      "102000\n",
      "102571 Vodka party ru Vodka party\n",
      "103000\n",
      "103010 Garcias! ca Garcia!\n",
      "103200 Thank You OG! da Thank you OG!\n",
      "104000\n",
      "104572 Thanks Aniket! hi Thanks Aniket!\n",
      "104574 Thanks Bhargav! hi Thanks Bhargav!\n",
      "104623 Thanks Shubham! hi Thanks Shubham!\n",
      "105000\n",
      "106000\n",
      "106250 Thanks.- El Comal ca Thanks.- El Comal\n",
      "106365 Mucho thanks for the rating Carniceria! es Thank you very much for the rating Carniceria!\n",
      "107000\n",
      "107117 Thsnkd om Thsnkd\n",
      "107600 ¡Muchas gracias, Rosy! Agradecemos que nos haya visitado! es Thank you very much, Rosy! We appreciate you visiting us!\n",
      "108000\n",
      "108167 Thanks a lot Elíseo Davila es Thanks a lot Elíseo Davila\n",
      "109000\n",
      "109398 Mahalo Tahkay! 🤙🏽 haw Thanks Tahkay! 🤙🏽\n",
      "109399 Mahalo Denise!! 🤙🏽 haw Thanks Denise!! 🤙🏽\n",
      "109400 Mahalo Jake! 🤙🏽 haw Thanks Jake! 🤙🏽\n",
      "109401 Mahalo Minerva! 🤙🏽 mr Mahalo Minerva! 🤙🏽\n",
      "109402 Mahalo Brian! 🤙🏽 fil Thank you Brian! 🤙🏽\n",
      "109403 Mahalo Jared!! 🤙🏽 hi Mahalo Jared!!\n",
      "109404 Aloha and Mahalo! haw Aloha and Mahalo!\n",
      "109405 Mahalo CJ! 🤙🏽 haw Thanks CJ! 🤙🏽\n",
      "110000\n",
      "110102 Thank you Dhiraj! hi Thank you Dhiraj!\n",
      "110263 spasibo ogromnoe vam chto vi est dorogie nashi customers.🙏 ru spasibo ogromnoe vam chto vi est dorogie nashi customers.🙏\n",
      "111000\n",
      "112000\n",
      "113000\n",
      "114000\n",
      "114163 Thank you Yejin! zh Thank you Yejin!\n",
      "115000\n",
      "115066 Hola Pablo, Gracias por compartir su revision. Esperamos ayudarle en su proxima visita en La Farmacia Natural. es Hello Pablo, Thank you for sharing your review. We hope to help you on your next visit to La Farmacia Natural.\n",
      "115324 Nice Choise gd Nice Foot\n",
      "115558 Disculpa que te aigamos dicho la verdad aserca del diseño que querias obtener pero no creo que quisieras que te aigamos echo algo que te aiga quedado mal. We apologize for the inconvenience of you feeling this way but I believed honesty from the artist is best instead the artist lying about being able to do the cover up you wanted to get with the design that wasn't going to work. es Sorry that we told you the truth about the design you wanted to get, but I don&#39;t think you would want us to tell you something that looked bad on you. We apologize for the inconvenience of you feeling this way but I believed honesty from the artist is best instead the artist lying about being able to do the cover up you wanted to get with the design that wasn&#39;t going to work.\n",
      "115876 Thanks Yoli!! fil Thanks Yoli!!\n",
      "116000\n",
      "116111 Thanks Marco, muchas gracias. Nos vemos pronto! es Thanks Marco, thank you very much. See you soon!\n",
      "117000\n",
      "117451 👍tnx fil 👍 thnx\n",
      "117452 Tnx fil Tnx\n",
      "117578 Tnx Kris fil Tnx Chris\n",
      "117854 Thanks Mitul! ro Thanks Mitul!\n",
      "118000\n",
      "119000\n",
      "119518 Agradecemos su negocio y su paciencia durante nuestros momentos de mayor actividad. es We appreciate your business and patience during our busiest times.\n",
      "119801 Mahalo Paula! One Love haw Thanks Paula! One Love\n",
      "120000\n",
      "120191 Thanks Ignacio! es Thanks Ignacio!\n",
      "121000\n",
      "121262 Hi Tina ro Hi Tina\n",
      "122000\n",
      "123000\n",
      "123419 Thank you Linh! vi Thank you Linh!\n",
      "124000\n",
      "125000\n",
      "125679 congratz fil congratulations\n",
      "126000\n",
      "126066 Maria, muchas gracias por su bonita recomendacion. es Maria, thank you very much for your nice recommendation.\n",
      "127000\n",
      "128000\n",
      "129000\n",
      "129156 Thanks Litesh! st Thanks Litesh!\n",
      "129431 Thank you Thao Duong! vi Thank you Thao Duong!\n",
      "129688 Whyyyyy? fi Whyyyy?\n",
      "130000\n",
      "131000\n",
      "131036 Thanks, Aron. ceb Thanks, Aron.\n",
      "132000\n",
      "133000\n",
      "134000\n",
      "134582 Hola, muchas gracias por hacérnoslo saber. Haremos todo lo posible para mejorar. es Hello, thank you very much for letting us know. We will do everything we can to improve.\n",
      "135000\n",
      "135169 Awesome, moooo!\n",
      "😉 fil Awesome, soooo! 😉\n",
      "135691 Thx Shiu 😘😘 sq Thx Rain 😘😘\n",
      "136000\n",
      "136408 Thanks Lou Montulli es Thanks Lou Montulli\n",
      "136805 Thanku Mr Singh hi Thanku Mr Singh\n",
      "137000\n",
      "137116 Thank you Xhevdet! sq Thank you Xhevdet!\n",
      "137254 Thanks Dzianis! pl Thanks Dzianis!\n",
      "137308 Thanks Edwardo! fil Thanks Edwardo!\n",
      "137616 Thanks for the Togo's love Kashi Goshtasb! mr Thanks for the Togo&#39;s love Kashi Goshtasb!\n",
      "138000\n",
      "139000\n",
      "139286 Muchisimas Gracias =) es Thank you very much =)\n",
      "139650 Thanks, Melisa. fil Thanks, Melisa.\n",
      "140000\n",
      "140328 Yas! hmn Plastic!\n",
      "140640 Thank you Isaias! fil Thank you Isaiah!\n",
      "141000\n",
      "142000\n",
      "142136 Mahalo Alicia! 🤙🏽 haw Thanks Alicia! 🤙🏽\n",
      "142137 Mahalo Kathleen! Aloha! 🤙🏽 haw Thanks Kathleen! Bye bye! 🤙🏽\n",
      "142138 Mahalo JC! 🤙🏽 haw Thanks JC! 🤙🏽\n",
      "142139 Mahalo Brandon! 🤙🏽 fil Thank you Brandon! 🤙🏽\n",
      "142140 Mahalo 🤙🏽 haw Thanks 🤙🏽\n",
      "143000\n",
      "144000\n",
      "145000\n",
      "145354 awesome ,tnx fil awesome, thnx\n",
      "145458 Thank you so much, Masuod !! fil Thank you so much, Masuod!!\n",
      "146000\n",
      "147000\n",
      "147664 Hola Branda, Estamos muy contentos de saber que su tratamiento hepático le ha funcionado bien. No olvide darle un seguimiento durante al menos tres meses. Nuestros mejores deceos para usted. es Hello Branda, We are very happy to know that your liver treatment has worked well for you. Don&#39;t forget to follow up with it for at least three months. Our best wishes to you.\n",
      "148000\n",
      "148988 Самат Сахапов, thank you so much for your high rating! ky Samat Sahapov, thank you so much for your high rating!\n",
      "149000\n",
      "149256 Tina su from\n",
      "149995 Gracias por tomar el tiempo para explicar tu experiencia. Acepta mis disculpas por el inconveniente. Para estar seguro de que puedo investigar este asunto y procesar tus comentarios de forma apropiada, envía un e-mail a HLSocial@wellsfargo.com con tu nombre completo, número de teléfono y dirección (no incluyas números de cuenta). Incluye también tu nombre de usuario de Google y menciona que publicaste un comentario sobre una sucursal de Wells Fargo. -Casey, Wells Fargo HL Social es Thank you for taking the time to explain your experience. Please accept my apologies for the inconvenience. To be sure I can investigate this matter and process your comments appropriately, please email HLSocial@wellsfargo.com with your full name, phone number, and address (do not include account numbers). Also include your Google username and mention that you posted a review about a Wells Fargo location. -Casey, Wells Fargo HL Social\n",
      "149998 Tnx👍 fil Tnx👍\n",
      "150000\n",
      "151000\n",
      "151359 Mario -\n",
      "Thanks for the five stars! Please follow us @SanManuelCasino.\n",
      "-San Manuel Casino ilo Mario - Thanks for watching! Please follow us on @SanManuelCasino. -St. Manuel Casino\n",
      "152000\n",
      "152351 Mahalo Chloe! haw Thanks Chloe!\n",
      "152441 Thank you, Lilibeth! fil Thank you, Lilibeth!\n",
      "153000\n",
      "153163 Thank you Dhuha ms Thank you Dhuha\n",
      "154000\n",
      "155000\n",
      "156000\n",
      "157000\n",
      "157098 Thank you Dijesh Shah! sq Thank you Dijesh Shah!\n",
      "158000\n",
      "158183 Thanks, Cyle! af Thanks, Cyle!\n",
      "158421 Thanks, Rocio! es Thanks, Rocio!\n",
      "158426 Thanks, Mayra! fil Thanks, Mayra!\n",
      "158464 Hello Armando it Hello Armando\n",
      "158535 Thanks tannya id Thanks Tan\n",
      "159000\n",
      "160000\n",
      "160982 Thanks, Mae! cy Thanks, Mae!\n",
      "161000\n",
      "162000\n",
      "162546 Welcome Luana  ♥️❤️ pt Welcome Luana ♥️❤️\n",
      "163000\n",
      "163252 Thank u Dan nl Thank you Dan\n",
      "164000\n",
      "164111 Thanks Keven! gu Thanks Keven!\n",
      "164146 Davit Martínez thanks you es Davit Martínez thanks you\n",
      "164781 Thanks Kartar ! hi Thanks Kartar!\n",
      "165000\n",
      "165634 xxxx ht xxxx\n",
      "166000\n",
      "166739 thank you XU Ke. zh thank you XU Ke.\n",
      "167000\n",
      "168000\n",
      "168033 Hi Avikash. Appreciate the 5-stars. hi Hi Avikash. Appreciate the 5-stars.\n",
      "168117 Thanks Melida! fil Thanks Melida!\n",
      "168498 Thank you Yanira Revolorio es Thank you Yanira Revolorio\n",
      "169000\n",
      "169744 Thanks Richu! ml Thanks Richu!\n",
      "169989 Thanks Uttaran! hi Thanks Uttaran!\n",
      "170000\n",
      "170000 Thanks Neeral! gu Thanks Neeral!\n",
      "170022 Thank you Juvy!!! fil Thank you Juvy!!!\n",
      "170286 Thank you Enrique for the great review. Aqui lo esperamos:) es Thank you Enrique for the great review. We are waiting for you here :)\n",
      "170317 Thanks Nakul. hi Thanks Nakul.\n",
      "171000\n",
      "172000\n",
      "172681 Thank you\n",
      "Praveen Buddiga MD te Thank you Praveen Buddiga MD\n",
      "173000\n",
      "174000\n",
      "174900 Mahalo Mathew! 🤙🏽 haw Thanks Mathew! 🤙🏽\n",
      "174901 Mahalo David! 🤙🏽 haw Thanks David! 🤙🏽\n",
      "174902 Mahalo Laura!! 🤙🏽 haw Thanks Laura!! 🤙🏽\n",
      "174903 Mahalo Ricardo! 🤙🏽 hi Thank you Ricardo!\n",
      "174904 Mahalo Shane! 🤙🏽 hi Thank you Shane!\n",
      "174905 Mahalo Boyd! 🤙🏽 fil Thank you Boyd! 🤙🏽\n",
      "174906 Mahalo Randy! 🤙🏽 mg Thanks Randy! 🤙🏽\n",
      "175000\n",
      "175108 ♥️♥️♥️TY!!!! vi ♥️♥️♥️TY!!!!\n",
      "175751 现在接线员是很好的英语 zh-CN The operator now speaks very good English\n",
      "176000\n",
      "177000\n",
      "178000\n",
      "178266 Buen dia. El tiempo de entrega es de 5 a 7 semanas.  El precio depende del tamano de caja y desde que ciudad la va a mandar.  Si gusta nos puede llamar al Tel 323-664-4116 es Good day. Delivery time is 5 to 7 weeks. The price depends on the size of the box and which city you are sending it from. If you like, you can call us at Tel 323-664-4116\n",
      "178791 Muchas Gracias! Apreciamos la oportunidad de servirle! es Thank you so much! We appreciate the opportunity to serve you!\n",
      "179000\n",
      "179007 Hola Andrea, fue un placer ayudarla. Esperamos volver a verla pronto! es Hello Andrea, it was a pleasure to help you. We hope to see you again soon!\n",
      "179840 Thanks Tamara! gu Thanks Tamara!\n",
      "180000\n",
      "180160 Thank you, Emilee! fil Thank you, Emilee!\n",
      "180394 Gracias por su  califacacion y comentario. es Thank you for your rating and comment.\n",
      "181000\n",
      "182000\n",
      "182675 Hi Dan, thank you! ms Hi Dan, thank you!\n",
      "183000\n",
      "183162 Gooo Dodgers!! bn Gooo Dodgers!!\n",
      "183948 come back  lou & chelly fil come back lou &amp; chelly\n",
      "183952 Dear Sharon: In\n",
      "Mi casita  rentals are very specific and honest with the service, we are clear in all our publications we specify the fee paid for the service and the rental process and which includes the applications of all adults no matter how many adults  and for All the houses you want to apply until you rent!!! many families save time and money paying only once until you rent this is wonderful !! and the best we have helping to rent to many families without the best of the credits and even without credit that is great !! Mi Casita Rentals is the only company that you pays the applications only once until you rent ... isn't that great? !!! That's why every day we have many satisfied customers renting with us and after they can buy and be a homeowners !!Mi Casita Rentals before you pay We make sure that neither you nor we waste our valuable time making sure you meet the qualification to rent, unfortunately you are NOT a client of Mi Casita Rentals  and could not prove how valuable and excellent this service is and did not give us the opportunity to verify it , a review is put through the experience lived not only by information obtained ..\n",
      "have excellent day and remember that in Mi Casita  rentals we appreciate your business.\n",
      "Blessings.\n",
      "sicerely\n",
      "Mi Casita Rentals\n",
      "Estimada Sharon:\n",
      "En mi casita rentals somos muy especificos y honestos con el servicio, somos claros en todas nuestras publicaicones especificamos el fee que se paga por el servicio y el proceso de renta y el cual le incluye las aplicaciones de todos los adultos sin importan cuantos sean, y para todas las casas que quiera aplicar hasta que rente, muchas familias se ahorran tiempo y dinero pagando solo una vez hasta que rente, no es esto  es maravilloso?!! y lo mejor le hemos ayudado a rentar a muchas familias sin el mejor de los creditos e incluso sin credito eso es genial!! mi casita rentals es la unica compania que  paga por las aplicaicones solamente una vez hasta que rente...no es eso magnifico ?!!!es por  eso que cada dia tenemos familias  satisfechas rentando con nosotros PARA DESPUES CONVERTIRLOS EN FUTUROS COMPRADORES Y ASI SEAN DUENOS DE SU PROPIA CASA! !! mi casita rentals ANTES DE QUE USTED PAGUE  nos aseguramos de que ni usted ni nosotros perdamos nuestro valioso tiempo asegurandonos que si reune los requisitos para poder rentar,. lamentablemente usted NO es cliente de mi casita y no pudo probar que tan valioso y exelente es este servicio y no nos dio la oportunidad de comprobarlo , un review se pone por la experiencia vivida no solamente por informacion obtenida..\n",
      "pase exelente dia y recuerde  que en mi casita rentals apreciamos su negocio.\n",
      "bendiciones.\n",
      "sinceramente\n",
      "Mi Casita Rentals! es Dear Sharon: In Mi casita rentals are very specific and honest with the service, we are clear in all our publications we specify the fee paid for the service and the rental process and which includes the applications of all adults no matter how many adults and for All the houses you want to apply until you rent!!! many families save time and money by paying only once until you rent this is wonderful!! and the best we have helping to rent to many families without the best of the credits and even without credit that is great!! Mi Casita Rentals is the only company that you pay the applications only once until you rent... isn&#39;t that great? !!! That&#39;s why every day we have many satisfied customers renting with us and after they can buy and be a homeowners!! Mi Casita Rentals before you pay We make sure that neither you nor we waste our valuable time making sure you meet the qualification to rent, unfortunately you are NOT a client of Mi Casita Rentals and could not prove how valuable and excellent this service is and did not give us the opportunity to verify it, a review is put through the experience lived not only by information obtained .. have excellent day and remember that in Mi Casita rentals we appreciate your business. Blessings. sicerely Mi Casita Rentals Dear Sharon: At mi casita rentals we are very specific and honest with the service, we are clear in all our publications, we specify the fee that is paid for the service and the rental process and which includes the applications of all the adults no matter how many they are, and for all the houses they want to apply for until they rent, many families save time and money by paying only once until they rent, isn&#39;t this wonderful?!! And the best thing is we have helped many families rent without the best of credit and even without credit that is great!! mi casita rentals is the only company that pays for the applications only once until you rent...isn&#39;t that magnificent?!!! That&#39;s why every day we have satisfied families renting with us AND THEN CONVERT THEM INTO FUTURE BUYERS AND SO THEY WILL BE OWNERS OF YOUR OWN HOME! !! mi casita rentals BEFORE YOU PAY we make sure that neither you nor we waste our valuable time making sure that you meet the requirements to be able to rent. Unfortunately you are NOT a client of my little house and you could not prove how valuable and excellent this service is and you did not give us the opportunity to check it, a review is based on the experience lived not only on information obtained.. Have a great day and remember that At mi casita rentals we appreciate your business. blessings. sincerely Mi Casita Rentals!\n",
      "184000\n",
      "185000\n",
      "185191 Mahalo! haw Thank you!\n",
      "185270 Thanks Monni! gu Thanks Monni!\n",
      "186000\n",
      "186559 Hello Marci it Hello Marci\n",
      "186649 Khanh, Thank vi Khanh, Thank you\n",
      "187000\n",
      "188000\n",
      "189000\n",
      "190000\n",
      "190166 Thank you Darshana! hi Thank you Darshana!\n",
      "190546 Thanks Estela! es Thanks Estela!\n",
      "190635 Thank you Abdulfaizan! ta Thank you Abdulfaizan!\n",
      "190675 Obrigada, Andrew! See you again! pt Thanks, Andrew! See you again!\n",
      "191000\n",
      "191842 Mahalo! haw Thank you!\n",
      "192000\n",
      "193000\n",
      "194000\n",
      "195000\n",
      "195637 Gracias Felipe,  intentaremos pasarlo mas rapido la proxima cita. Bendiciones! es Thanks Felipe, we will try to get through the next appointment faster. Blessings!\n",
      "195642 Danita, thanks fil Danita, thanks\n",
      "196000\n",
      "196226 Thank you Yuwen! zh Thank you Yuwen!\n",
      "196662 Love ya ms Love yes\n",
      "197000\n",
      "197376 Thanks Shahar ! hi Thanks Shahar!\n",
      "197394 Thanks Graciela! es Thanks Graciela!\n",
      "198000\n",
      "198313 La Tanya, thank you - ken jr ilo La Tanya, thank you - and jr\n",
      "198849 Thank you Aprajita! hi Thank you Aprajita!\n",
      "199000\n",
      "200000\n",
      "201000\n",
      "201405 Thank you Nilesh!\n",
      "-Kiran (CEO Distacart) hi Thank you Nilesh! -Kiran (CEO Distacart)\n",
      "201454 Thank you Antje nl Thank you Antje\n",
      "201569 Thank you Jovanni uz Thank you Giovanni\n",
      "201911 Thank you Sabari! su Thank you Sabari!\n",
      "202000\n",
      "202496 Thanks Akarsh! hi Thanks Akarsh!\n",
      "202769 Alex, De parte de todo el equipo aqui en La Plaza Market, gracias por darnos tus calificación de 5 estrellas y por tu preferencia al hacer compras con nosotros. Estamos siempre a tus ordenes con atencion y buen servicio. es Alex, On behalf of the entire team here at La Plaza Market, thank you for giving us your 5-star rating and for your preference when shopping with us. We are always at your service with attention and good service.\n",
      "203000\n",
      "203336 Thx Jonn ht Thx John\n",
      "204000\n",
      "205000\n",
      "206000\n",
      "206481 Thanks Aron! ceb Thanks Aron!\n",
      "207000\n",
      "207168 Thanks Manveer gu Thanks Manveer\n",
      "207421 Mahalo Danielle! 🤙🏽 haw Thanks Danielle! 🤙🏽\n",
      "207422 Mahalo Thomas! 🤙🏽 hi Mahalo Thomas!\n",
      "207423 Mahalo Ryan! 🤙🏽 fil Thank you Ryan! 🤙🏽\n",
      "207899 Thanks Keesha! gu Thanks Keesha!\n",
      "208000\n",
      "209000\n",
      "209665 Marleen Hartson fi Marleen Hartson\n",
      "210000\n",
      "211000\n",
      "211560 Thank you so much Juan Carlos Hernández! es Thank you so much Juan Carlos Hernández!\n",
      "212000\n",
      "212023 Thank You, Ramtin! lus Thank You, Country!\n",
      "212043 Hi Narcisa, Gracias! es Hi Narcisa, Thank you!\n",
      "212074 Thank you Giorgio Bellossi! it Thank you Giorgio Bellossi!\n",
      "212116 Thanks for stopping by Mr. Jag! sv Thanks for stopping by Mr. I!\n",
      "212678 Thanks Reymundo! fil Thanks Raymond!\n",
      "212860 Thaaank you! ta Thank you!\n",
      "213000\n",
      "214000\n",
      "215000\n",
      "215266 Tnx fil Tnx\n",
      "215747 Thank yoi hi Thank you\n",
      "215932 Thanks for the 5-Stars Jalaya! hi Thanks for the 5-Stars Jalaya!\n",
      "216000\n",
      "216285 Thanks Dongmei! zh Thanks Dongmei!\n",
      "217000\n",
      "217632 Thanks, Nini! fil Thanks, Nini!\n",
      "217667 Mahalo Vanessa! One Love fil Thanks Vanessa! One Love\n",
      "218000\n",
      "218028 Thanks Malena! fil Thanks Malena!\n",
      "219000\n",
      "220000\n",
      "220772 Thank you Slava Khristich! bg Thank you Slava Khristich!\n",
      "221000\n",
      "221007 Thanks Mariya! hi Thanks Mariya!\n",
      "221616 Thanks Razmi! hr Thanks Razmi!\n",
      "222000\n",
      "223000\n",
      "223089 Whooo hooo Awesome! fil Whooo hooo Awesome!\n",
      "223141 Thank you, Anali! ny Thank you, Anali!\n",
      "224000\n",
      "224470 Mahalo! :) haw Thank you! :)\n",
      "224697 Thanks Brandan! id Thanks Brandan!\n",
      "224960 Thanks Mr. Karjala fi Thanks Mr. Karjala\n",
      "225000\n",
      "226000\n",
      "226230 Thanks Tonii!! la Thanks Tony!!\n",
      "227000\n",
      "227166 Kelly Beil Nice! gd Kelly Beil Nice!\n",
      "227751 Mahalo Whitney! haw Thanks Whitney!\n",
      "227788 Thanks Dan! ms Thanks Dan!\n",
      "227888 Thanks Garan ! hi Thanks Garan!\n",
      "228000\n",
      "228325 Tanks vediciones.. ku Tanks are coming..\n",
      "228854 Thank you for the local storage review. We were happy to help out. Gracias por las 5 estrellas. Nos agrada ayudarle. es Thank you for the local storage review. We were happy to help you out. Thanks for the 5 stars. We are happy to help you.\n",
      "228885 U da man Adam! Yeeeew!!\n",
      "Mike Jones\n",
      "AzHiAzIaM Int\n",
      "805-771--0199 kri You created man Adam! Yeeeew!! Mike Jones Business Int 805-771--0199\n",
      "229000\n",
      "229240 Thanks so much Lakisi♥️ fil Thanks so much Lakisi♥️\n",
      "229627 Thanks Dillan! af Thanks Dillan!\n",
      "229849 Thanks Jammie. nl Thanks Jammie.\n",
      "230000\n",
      "230111 Thanks Ragni! te Thanks Ragni!\n",
      "230649 Mahalo Claire! 🤙🏽 haw Thanks Claire! 🤙🏽\n",
      "230650 Mahalo Misty! 🤙🏽 haw Thanks Misty! 🤙🏽\n",
      "231000\n",
      "232000\n",
      "233000\n"
     ]
    }
   ],
   "source": [
    "idx_noten_loop = []\n",
    "resp_noten_loop = []\n",
    "lang_noten_loop = []\n",
    "for i in range(len(prespuestas)):  #234m 8.4s total de registros 233k+\n",
    "    if i % 100 == 0:\n",
    "        print(i)\n",
    "    respuesta = prespuestas.loc[i,'respuesta']\n",
    "    idioma = translate_client.translate(respuesta)['detectedSourceLanguage']\n",
    "    if idioma != 'en':\n",
    "        # print(i,respuesta,idioma,translation['translatedText'])\n",
    "        idx_noten_loop.append(i)\n",
    "        resp_noten_loop.append(respuesta)\n",
    "        lang_noten_loop.append(idioma)"
   ]
  },
  {
   "cell_type": "code",
   "execution_count": 26,
   "metadata": {},
   "outputs": [
    {
     "data": {
      "text/plain": [
       "324"
      ]
     },
     "execution_count": 26,
     "metadata": {},
     "output_type": "execute_result"
    }
   ],
   "source": [
    "respuestas_idxs = list(zip(resp_noten_loop,idx_noten_loop))\n",
    "len(respuestas_idxs)"
   ]
  },
  {
   "cell_type": "code",
   "execution_count": 28,
   "metadata": {},
   "outputs": [
    {
     "ename": "PythonException",
     "evalue": "\n  An exception was thrown from the Python worker. Please see the stack trace below.\nTraceback (most recent call last):\n  File \"C:\\Users\\tinma\\AppData\\Local\\Temp\\ipykernel_2664\\2490335977.py\", line 1, in <lambda>\n  File \"C:\\Users\\tinma\\AppData\\Local\\Temp\\ipykernel_2664\\853709964.py\", line 18, in translate_resp\n  File \"c:\\Users\\tinma\\AppData\\Local\\Programs\\Python\\Python310\\lib\\site-packages\\google\\cloud\\translate_v2\\client.py\", line 266, in translate\n    response = self._connection.api_request(method=\"POST\", path=\"\", data=data)\n  File \"c:\\Users\\tinma\\AppData\\Local\\Programs\\Python\\Python310\\lib\\site-packages\\google\\cloud\\_http\\__init__.py\", line 494, in api_request\n    raise exceptions.from_http_response(response)\ngoogle.api_core.exceptions.Forbidden: 403 POST https://translation.googleapis.com/language/translate/v2?prettyPrint=false: User Rate Limit Exceeded\n",
     "output_type": "error",
     "traceback": [
      "\u001b[1;31m---------------------------------------------------------------------------\u001b[0m",
      "\u001b[1;31mPythonException\u001b[0m                           Traceback (most recent call last)",
      "\u001b[1;32mc:\\Users\\tinma\\OneDrive\\Escritorio\\HENRY\\Proyecto_Grupal_HENRY\\spark\\local_testing\\pyspark_testing.ipynb Celda 18\u001b[0m line \u001b[0;36m2\n\u001b[0;32m      <a href='vscode-notebook-cell:/c%3A/Users/tinma/OneDrive/Escritorio/HENRY/Proyecto_Grupal_HENRY/spark/local_testing/pyspark_testing.ipynb#X61sZmlsZQ%3D%3D?line=0'>1</a>\u001b[0m stranslate_resp \u001b[39m=\u001b[39m F\u001b[39m.\u001b[39mudf(\u001b[39mlambda\u001b[39;00m x: translate_resp(x),StringType()) \u001b[39m# UDF\u001b[39;00m\n\u001b[1;32m----> <a href='vscode-notebook-cell:/c%3A/Users/tinma/OneDrive/Escritorio/HENRY/Proyecto_Grupal_HENRY/spark/local_testing/pyspark_testing.ipynb#X61sZmlsZQ%3D%3D?line=1'>2</a>\u001b[0m srespuestas_gntrans\u001b[39m.\u001b[39;49mwithColumn(\u001b[39m'\u001b[39;49m\u001b[39mrespuesta\u001b[39;49m\u001b[39m'\u001b[39;49m,stranslate_resp(F\u001b[39m.\u001b[39;49mcol(\u001b[39m'\u001b[39;49m\u001b[39mrespuesta\u001b[39;49m\u001b[39m'\u001b[39;49m)))\u001b[39m.\u001b[39;49mshow()\n",
      "File \u001b[1;32mC:\\spark-3.5.0\\python\\pyspark\\sql\\dataframe.py:959\u001b[0m, in \u001b[0;36mDataFrame.show\u001b[1;34m(self, n, truncate, vertical)\u001b[0m\n\u001b[0;32m    953\u001b[0m     \u001b[39mraise\u001b[39;00m PySparkTypeError(\n\u001b[0;32m    954\u001b[0m         error_class\u001b[39m=\u001b[39m\u001b[39m\"\u001b[39m\u001b[39mNOT_BOOL\u001b[39m\u001b[39m\"\u001b[39m,\n\u001b[0;32m    955\u001b[0m         message_parameters\u001b[39m=\u001b[39m{\u001b[39m\"\u001b[39m\u001b[39marg_name\u001b[39m\u001b[39m\"\u001b[39m: \u001b[39m\"\u001b[39m\u001b[39mvertical\u001b[39m\u001b[39m\"\u001b[39m, \u001b[39m\"\u001b[39m\u001b[39marg_type\u001b[39m\u001b[39m\"\u001b[39m: \u001b[39mtype\u001b[39m(vertical)\u001b[39m.\u001b[39m\u001b[39m__name__\u001b[39m},\n\u001b[0;32m    956\u001b[0m     )\n\u001b[0;32m    958\u001b[0m \u001b[39mif\u001b[39;00m \u001b[39misinstance\u001b[39m(truncate, \u001b[39mbool\u001b[39m) \u001b[39mand\u001b[39;00m truncate:\n\u001b[1;32m--> 959\u001b[0m     \u001b[39mprint\u001b[39m(\u001b[39mself\u001b[39;49m\u001b[39m.\u001b[39;49m_jdf\u001b[39m.\u001b[39;49mshowString(n, \u001b[39m20\u001b[39;49m, vertical))\n\u001b[0;32m    960\u001b[0m \u001b[39melse\u001b[39;00m:\n\u001b[0;32m    961\u001b[0m     \u001b[39mtry\u001b[39;00m:\n",
      "File \u001b[1;32mC:\\spark-3.5.0\\python\\lib\\py4j-0.10.9.7-src.zip\\py4j\\java_gateway.py:1322\u001b[0m, in \u001b[0;36mJavaMember.__call__\u001b[1;34m(self, *args)\u001b[0m\n\u001b[0;32m   1316\u001b[0m command \u001b[39m=\u001b[39m proto\u001b[39m.\u001b[39mCALL_COMMAND_NAME \u001b[39m+\u001b[39m\\\n\u001b[0;32m   1317\u001b[0m     \u001b[39mself\u001b[39m\u001b[39m.\u001b[39mcommand_header \u001b[39m+\u001b[39m\\\n\u001b[0;32m   1318\u001b[0m     args_command \u001b[39m+\u001b[39m\\\n\u001b[0;32m   1319\u001b[0m     proto\u001b[39m.\u001b[39mEND_COMMAND_PART\n\u001b[0;32m   1321\u001b[0m answer \u001b[39m=\u001b[39m \u001b[39mself\u001b[39m\u001b[39m.\u001b[39mgateway_client\u001b[39m.\u001b[39msend_command(command)\n\u001b[1;32m-> 1322\u001b[0m return_value \u001b[39m=\u001b[39m get_return_value(\n\u001b[0;32m   1323\u001b[0m     answer, \u001b[39mself\u001b[39;49m\u001b[39m.\u001b[39;49mgateway_client, \u001b[39mself\u001b[39;49m\u001b[39m.\u001b[39;49mtarget_id, \u001b[39mself\u001b[39;49m\u001b[39m.\u001b[39;49mname)\n\u001b[0;32m   1325\u001b[0m \u001b[39mfor\u001b[39;00m temp_arg \u001b[39min\u001b[39;00m temp_args:\n\u001b[0;32m   1326\u001b[0m     \u001b[39mif\u001b[39;00m \u001b[39mhasattr\u001b[39m(temp_arg, \u001b[39m\"\u001b[39m\u001b[39m_detach\u001b[39m\u001b[39m\"\u001b[39m):\n",
      "File \u001b[1;32mC:\\spark-3.5.0\\python\\pyspark\\errors\\exceptions\\captured.py:185\u001b[0m, in \u001b[0;36mcapture_sql_exception.<locals>.deco\u001b[1;34m(*a, **kw)\u001b[0m\n\u001b[0;32m    181\u001b[0m converted \u001b[39m=\u001b[39m convert_exception(e\u001b[39m.\u001b[39mjava_exception)\n\u001b[0;32m    182\u001b[0m \u001b[39mif\u001b[39;00m \u001b[39mnot\u001b[39;00m \u001b[39misinstance\u001b[39m(converted, UnknownException):\n\u001b[0;32m    183\u001b[0m     \u001b[39m# Hide where the exception came from that shows a non-Pythonic\u001b[39;00m\n\u001b[0;32m    184\u001b[0m     \u001b[39m# JVM exception message.\u001b[39;00m\n\u001b[1;32m--> 185\u001b[0m     \u001b[39mraise\u001b[39;00m converted \u001b[39mfrom\u001b[39;00m \u001b[39mNone\u001b[39m\n\u001b[0;32m    186\u001b[0m \u001b[39melse\u001b[39;00m:\n\u001b[0;32m    187\u001b[0m     \u001b[39mraise\u001b[39;00m\n",
      "\u001b[1;31mPythonException\u001b[0m: \n  An exception was thrown from the Python worker. Please see the stack trace below.\nTraceback (most recent call last):\n  File \"C:\\Users\\tinma\\AppData\\Local\\Temp\\ipykernel_2664\\2490335977.py\", line 1, in <lambda>\n  File \"C:\\Users\\tinma\\AppData\\Local\\Temp\\ipykernel_2664\\853709964.py\", line 18, in translate_resp\n  File \"c:\\Users\\tinma\\AppData\\Local\\Programs\\Python\\Python310\\lib\\site-packages\\google\\cloud\\translate_v2\\client.py\", line 266, in translate\n    response = self._connection.api_request(method=\"POST\", path=\"\", data=data)\n  File \"c:\\Users\\tinma\\AppData\\Local\\Programs\\Python\\Python310\\lib\\site-packages\\google\\cloud\\_http\\__init__.py\", line 494, in api_request\n    raise exceptions.from_http_response(response)\ngoogle.api_core.exceptions.Forbidden: 403 POST https://translation.googleapis.com/language/translate/v2?prettyPrint=false: User Rate Limit Exceeded\n"
     ]
    }
   ],
   "source": [
    "stranslate_resp = F.udf(lambda x: translate_resp(x),StringType()) # UDF\n",
    "srespuestas_gntrans.withColumn('respuesta',stranslate_resp(F.col('respuesta'))).show() # UDF Aplicado a una columna."
   ]
  },
  {
   "cell_type": "code",
   "execution_count": 193,
   "metadata": {},
   "outputs": [
    {
     "name": "stdout",
     "output_type": "stream",
     "text": [
      "+------+--------------------+--------------------+----------------+--------------------+\n",
      "| index|             gmap_id|             user_id|tiempo_respuesta|           respuesta|\n",
      "+------+--------------------+--------------------+----------------+--------------------+\n",
      "|102056|0x0:0xdf872b4788f...|11249512557397464...|   1574524668849|Thank you. We app...|\n",
      "|141203|0x0:0xdf872b4788f...|11736414943911538...|   1546802390681|  Thank you Gary!!!!|\n",
      "|147824|0x0:0xdf872b4788f...|11818319885363239...|   1519404556470|Tony, our sincere...|\n",
      "| 54382|0x14e179060f0442e...|10687919537608056...|   1548177848059|Thank you very mu...|\n",
      "| 18486|0x14e19dbfedc0c44...|10251236466311407...|   1442083874424|Thank you Jeffery...|\n",
      "+------+--------------------+--------------------+----------------+--------------------+\n",
      "only showing top 5 rows\n",
      "\n"
     ]
    }
   ],
   "source": [
    "srespuestas_gntrans.show(5)"
   ]
  },
  {
   "cell_type": "code",
   "execution_count": 169,
   "metadata": {},
   "outputs": [
    {
     "data": {
      "text/plain": [
       "0        None\n",
       "1        None\n",
       "2        None\n",
       "3        None\n",
       "4        None\n",
       "         ... \n",
       "23841    None\n",
       "23842    None\n",
       "23843    None\n",
       "23844    None\n",
       "23845    None\n",
       "Name: respuesta, Length: 23846, dtype: object"
      ]
     },
     "execution_count": 169,
     "metadata": {},
     "output_type": "execute_result"
    }
   ],
   "source": [
    "cprespuestas = prespuestas[:23846] # 23846 registros en 25m 3.4s\n",
    "cprespuestas['respuesta'] = cprespuestas.respuesta.apply(translate_resp)\n",
    "translate_prueba_pdf"
   ]
  },
  {
   "cell_type": "code",
   "execution_count": null,
   "metadata": {},
   "outputs": [],
   "source": [
    "j = 0\n",
    "idx_notenglish = []\n",
    "for x in prespuestas.respuesta[:23846]:\n",
    "    if j % 100 == 0:\n",
    "        print(i)\n",
    "    translation = translate_client.translate(x)\n",
    "    idioma = translation['detectedSourceLanguage']\n",
    "    if idioma != 'en':\n",
    "        idx_notenglish.append(i)\n",
    "    j += 1"
   ]
  },
  {
   "cell_type": "code",
   "execution_count": 79,
   "metadata": {},
   "outputs": [
    {
     "name": "stdout",
     "output_type": "stream",
     "text": [
      "0\n",
      "100\n",
      "200\n",
      "300\n",
      "400\n",
      "500\n",
      "600\n",
      "700\n",
      "800\n",
      "900\n",
      "1000\n",
      "1100\n",
      "1200\n",
      "1300\n",
      "1400\n",
      "1500\n",
      "1600\n",
      "1700\n",
      "1800\n",
      "1900\n",
      "2000\n",
      "2100\n",
      "2200\n",
      "2300\n",
      "2400\n",
      "2500\n",
      "2600\n",
      "2700\n",
      "2800\n",
      "2900\n",
      "3000\n"
     ]
    },
    {
     "ename": "KeyboardInterrupt",
     "evalue": "",
     "output_type": "error",
     "traceback": [
      "\u001b[1;31m---------------------------------------------------------------------------\u001b[0m",
      "\u001b[1;31mKeyboardInterrupt\u001b[0m                         Traceback (most recent call last)",
      "\u001b[1;32mc:\\Users\\tinma\\OneDrive\\Escritorio\\HENRY\\Proyecto_Grupal_HENRY\\spark\\local_testing\\pyspark_testing.ipynb Celda 9\u001b[0m line \u001b[0;36m5\n\u001b[0;32m      <a href='vscode-notebook-cell:/c%3A/Users/tinma/OneDrive/Escritorio/HENRY/Proyecto_Grupal_HENRY/spark/local_testing/pyspark_testing.ipynb#X36sZmlsZQ%3D%3D?line=2'>3</a>\u001b[0m \u001b[39mif\u001b[39;00m i \u001b[39m%\u001b[39m \u001b[39m100\u001b[39m \u001b[39m==\u001b[39m \u001b[39m0\u001b[39m:\n\u001b[0;32m      <a href='vscode-notebook-cell:/c%3A/Users/tinma/OneDrive/Escritorio/HENRY/Proyecto_Grupal_HENRY/spark/local_testing/pyspark_testing.ipynb#X36sZmlsZQ%3D%3D?line=3'>4</a>\u001b[0m     \u001b[39mprint\u001b[39m(i)\n\u001b[1;32m----> <a href='vscode-notebook-cell:/c%3A/Users/tinma/OneDrive/Escritorio/HENRY/Proyecto_Grupal_HENRY/spark/local_testing/pyspark_testing.ipynb#X36sZmlsZQ%3D%3D?line=4'>5</a>\u001b[0m translation \u001b[39m=\u001b[39m translate_client\u001b[39m.\u001b[39;49mtranslate(respuestas\u001b[39m.\u001b[39;49mloc[i,\u001b[39m'\u001b[39;49m\u001b[39mrespuesta\u001b[39;49m\u001b[39m'\u001b[39;49m], target_language\u001b[39m=\u001b[39;49m\u001b[39m'\u001b[39;49m\u001b[39men\u001b[39;49m\u001b[39m'\u001b[39;49m)\n\u001b[0;32m      <a href='vscode-notebook-cell:/c%3A/Users/tinma/OneDrive/Escritorio/HENRY/Proyecto_Grupal_HENRY/spark/local_testing/pyspark_testing.ipynb#X36sZmlsZQ%3D%3D?line=5'>6</a>\u001b[0m \u001b[39mif\u001b[39;00m translation[\u001b[39m'\u001b[39m\u001b[39mdetectedSourceLanguage\u001b[39m\u001b[39m'\u001b[39m] \u001b[39m==\u001b[39m \u001b[39m'\u001b[39m\u001b[39men\u001b[39m\u001b[39m'\u001b[39m:\n\u001b[0;32m      <a href='vscode-notebook-cell:/c%3A/Users/tinma/OneDrive/Escritorio/HENRY/Proyecto_Grupal_HENRY/spark/local_testing/pyspark_testing.ipynb#X36sZmlsZQ%3D%3D?line=6'>7</a>\u001b[0m     respuestas\u001b[39m.\u001b[39mloc[i,\u001b[39m'\u001b[39m\u001b[39mlenguaje_respuesta\u001b[39m\u001b[39m'\u001b[39m] \u001b[39m=\u001b[39m \u001b[39m'\u001b[39m\u001b[39men\u001b[39m\u001b[39m'\u001b[39m\n",
      "File \u001b[1;32mc:\\Users\\tinma\\AppData\\Local\\Programs\\Python\\Python310\\lib\\site-packages\\google\\cloud\\translate_v2\\client.py:266\u001b[0m, in \u001b[0;36mClient.translate\u001b[1;34m(self, values, target_language, format_, source_language, customization_ids, model)\u001b[0m\n\u001b[0;32m    255\u001b[0m     customization_ids \u001b[39m=\u001b[39m [customization_ids]\n\u001b[0;32m    257\u001b[0m data \u001b[39m=\u001b[39m {\n\u001b[0;32m    258\u001b[0m     \u001b[39m\"\u001b[39m\u001b[39mtarget\u001b[39m\u001b[39m\"\u001b[39m: target_language,\n\u001b[0;32m    259\u001b[0m     \u001b[39m\"\u001b[39m\u001b[39mq\u001b[39m\u001b[39m\"\u001b[39m: values,\n\u001b[1;32m   (...)\u001b[0m\n\u001b[0;32m    263\u001b[0m     \u001b[39m\"\u001b[39m\u001b[39mmodel\u001b[39m\u001b[39m\"\u001b[39m: model,\n\u001b[0;32m    264\u001b[0m }\n\u001b[1;32m--> 266\u001b[0m response \u001b[39m=\u001b[39m \u001b[39mself\u001b[39;49m\u001b[39m.\u001b[39;49m_connection\u001b[39m.\u001b[39;49mapi_request(method\u001b[39m=\u001b[39;49m\u001b[39m\"\u001b[39;49m\u001b[39mPOST\u001b[39;49m\u001b[39m\"\u001b[39;49m, path\u001b[39m=\u001b[39;49m\u001b[39m\"\u001b[39;49m\u001b[39m\"\u001b[39;49m, data\u001b[39m=\u001b[39;49mdata)\n\u001b[0;32m    268\u001b[0m translations \u001b[39m=\u001b[39m response\u001b[39m.\u001b[39mget(\u001b[39m\"\u001b[39m\u001b[39mdata\u001b[39m\u001b[39m\"\u001b[39m, {})\u001b[39m.\u001b[39mget(\u001b[39m\"\u001b[39m\u001b[39mtranslations\u001b[39m\u001b[39m\"\u001b[39m, ())\n\u001b[0;32m    269\u001b[0m \u001b[39mif\u001b[39;00m \u001b[39mlen\u001b[39m(values) \u001b[39m!=\u001b[39m \u001b[39mlen\u001b[39m(translations):\n",
      "File \u001b[1;32mc:\\Users\\tinma\\AppData\\Local\\Programs\\Python\\Python310\\lib\\site-packages\\google\\cloud\\_http\\__init__.py:482\u001b[0m, in \u001b[0;36mJSONConnection.api_request\u001b[1;34m(self, method, path, query_params, data, content_type, headers, api_base_url, api_version, expect_json, _target_object, timeout, extra_api_info)\u001b[0m\n\u001b[0;32m    479\u001b[0m     data \u001b[39m=\u001b[39m json\u001b[39m.\u001b[39mdumps(data)\n\u001b[0;32m    480\u001b[0m     content_type \u001b[39m=\u001b[39m \u001b[39m\"\u001b[39m\u001b[39mapplication/json\u001b[39m\u001b[39m\"\u001b[39m\n\u001b[1;32m--> 482\u001b[0m response \u001b[39m=\u001b[39m \u001b[39mself\u001b[39;49m\u001b[39m.\u001b[39;49m_make_request(\n\u001b[0;32m    483\u001b[0m     method\u001b[39m=\u001b[39;49mmethod,\n\u001b[0;32m    484\u001b[0m     url\u001b[39m=\u001b[39;49murl,\n\u001b[0;32m    485\u001b[0m     data\u001b[39m=\u001b[39;49mdata,\n\u001b[0;32m    486\u001b[0m     content_type\u001b[39m=\u001b[39;49mcontent_type,\n\u001b[0;32m    487\u001b[0m     headers\u001b[39m=\u001b[39;49mheaders,\n\u001b[0;32m    488\u001b[0m     target_object\u001b[39m=\u001b[39;49m_target_object,\n\u001b[0;32m    489\u001b[0m     timeout\u001b[39m=\u001b[39;49mtimeout,\n\u001b[0;32m    490\u001b[0m     extra_api_info\u001b[39m=\u001b[39;49mextra_api_info,\n\u001b[0;32m    491\u001b[0m )\n\u001b[0;32m    493\u001b[0m \u001b[39mif\u001b[39;00m \u001b[39mnot\u001b[39;00m \u001b[39m200\u001b[39m \u001b[39m<\u001b[39m\u001b[39m=\u001b[39m response\u001b[39m.\u001b[39mstatus_code \u001b[39m<\u001b[39m \u001b[39m300\u001b[39m:\n\u001b[0;32m    494\u001b[0m     \u001b[39mraise\u001b[39;00m exceptions\u001b[39m.\u001b[39mfrom_http_response(response)\n",
      "File \u001b[1;32mc:\\Users\\tinma\\AppData\\Local\\Programs\\Python\\Python310\\lib\\site-packages\\google\\cloud\\_http\\__init__.py:341\u001b[0m, in \u001b[0;36mJSONConnection._make_request\u001b[1;34m(self, method, url, data, content_type, headers, target_object, timeout, extra_api_info)\u001b[0m\n\u001b[0;32m    338\u001b[0m     headers[CLIENT_INFO_HEADER] \u001b[39m=\u001b[39m \u001b[39mself\u001b[39m\u001b[39m.\u001b[39muser_agent\n\u001b[0;32m    339\u001b[0m headers[\u001b[39m\"\u001b[39m\u001b[39mUser-Agent\u001b[39m\u001b[39m\"\u001b[39m] \u001b[39m=\u001b[39m \u001b[39mself\u001b[39m\u001b[39m.\u001b[39muser_agent\n\u001b[1;32m--> 341\u001b[0m \u001b[39mreturn\u001b[39;00m \u001b[39mself\u001b[39;49m\u001b[39m.\u001b[39;49m_do_request(\n\u001b[0;32m    342\u001b[0m     method, url, headers, data, target_object, timeout\u001b[39m=\u001b[39;49mtimeout\n\u001b[0;32m    343\u001b[0m )\n",
      "File \u001b[1;32mc:\\Users\\tinma\\AppData\\Local\\Programs\\Python\\Python310\\lib\\site-packages\\google\\cloud\\_http\\__init__.py:379\u001b[0m, in \u001b[0;36mJSONConnection._do_request\u001b[1;34m(self, method, url, headers, data, target_object, timeout)\u001b[0m\n\u001b[0;32m    345\u001b[0m \u001b[39mdef\u001b[39;00m \u001b[39m_do_request\u001b[39m(\n\u001b[0;32m    346\u001b[0m     \u001b[39mself\u001b[39m, method, url, headers, data, target_object, timeout\u001b[39m=\u001b[39m_DEFAULT_TIMEOUT\n\u001b[0;32m    347\u001b[0m ):  \u001b[39m# pylint: disable=unused-argument\u001b[39;00m\n\u001b[0;32m    348\u001b[0m \u001b[39m    \u001b[39m\u001b[39m\"\"\"Low-level helper:  perform the actual API request over HTTP.\u001b[39;00m\n\u001b[0;32m    349\u001b[0m \n\u001b[0;32m    350\u001b[0m \u001b[39m    Allows batch context managers to override and defer a request.\u001b[39;00m\n\u001b[1;32m   (...)\u001b[0m\n\u001b[0;32m    377\u001b[0m \u001b[39m    :returns: The HTTP response.\u001b[39;00m\n\u001b[0;32m    378\u001b[0m \u001b[39m    \"\"\"\u001b[39;00m\n\u001b[1;32m--> 379\u001b[0m     \u001b[39mreturn\u001b[39;00m \u001b[39mself\u001b[39;49m\u001b[39m.\u001b[39;49mhttp\u001b[39m.\u001b[39;49mrequest(\n\u001b[0;32m    380\u001b[0m         url\u001b[39m=\u001b[39;49murl, method\u001b[39m=\u001b[39;49mmethod, headers\u001b[39m=\u001b[39;49mheaders, data\u001b[39m=\u001b[39;49mdata, timeout\u001b[39m=\u001b[39;49mtimeout\n\u001b[0;32m    381\u001b[0m     )\n",
      "File \u001b[1;32mc:\\Users\\tinma\\AppData\\Local\\Programs\\Python\\Python310\\lib\\site-packages\\google\\auth\\transport\\requests.py:549\u001b[0m, in \u001b[0;36mAuthorizedSession.request\u001b[1;34m(self, method, url, data, headers, max_allowed_time, timeout, **kwargs)\u001b[0m\n\u001b[0;32m    546\u001b[0m remaining_time \u001b[39m=\u001b[39m guard\u001b[39m.\u001b[39mremaining_timeout\n\u001b[0;32m    548\u001b[0m \u001b[39mwith\u001b[39;00m TimeoutGuard(remaining_time) \u001b[39mas\u001b[39;00m guard:\n\u001b[1;32m--> 549\u001b[0m     response \u001b[39m=\u001b[39m \u001b[39msuper\u001b[39m(AuthorizedSession, \u001b[39mself\u001b[39m)\u001b[39m.\u001b[39mrequest(\n\u001b[0;32m    550\u001b[0m         method,\n\u001b[0;32m    551\u001b[0m         url,\n\u001b[0;32m    552\u001b[0m         data\u001b[39m=\u001b[39mdata,\n\u001b[0;32m    553\u001b[0m         headers\u001b[39m=\u001b[39mrequest_headers,\n\u001b[0;32m    554\u001b[0m         timeout\u001b[39m=\u001b[39mtimeout,\n\u001b[0;32m    555\u001b[0m         \u001b[39m*\u001b[39m\u001b[39m*\u001b[39mkwargs\n\u001b[0;32m    556\u001b[0m     )\n\u001b[0;32m    557\u001b[0m remaining_time \u001b[39m=\u001b[39m guard\u001b[39m.\u001b[39mremaining_timeout\n\u001b[0;32m    559\u001b[0m \u001b[39m# If the response indicated that the credentials needed to be\u001b[39;00m\n\u001b[0;32m    560\u001b[0m \u001b[39m# refreshed, then refresh the credentials and re-attempt the\u001b[39;00m\n\u001b[0;32m    561\u001b[0m \u001b[39m# request.\u001b[39;00m\n\u001b[0;32m    562\u001b[0m \u001b[39m# A stored token may expire between the time it is retrieved and\u001b[39;00m\n\u001b[0;32m    563\u001b[0m \u001b[39m# the time the request is made, so we may need to try twice.\u001b[39;00m\n",
      "File \u001b[1;32mc:\\Users\\tinma\\AppData\\Local\\Programs\\Python\\Python310\\lib\\site-packages\\requests\\sessions.py:587\u001b[0m, in \u001b[0;36mSession.request\u001b[1;34m(self, method, url, params, data, headers, cookies, files, auth, timeout, allow_redirects, proxies, hooks, stream, verify, cert, json)\u001b[0m\n\u001b[0;32m    582\u001b[0m send_kwargs \u001b[39m=\u001b[39m {\n\u001b[0;32m    583\u001b[0m     \u001b[39m\"\u001b[39m\u001b[39mtimeout\u001b[39m\u001b[39m\"\u001b[39m: timeout,\n\u001b[0;32m    584\u001b[0m     \u001b[39m\"\u001b[39m\u001b[39mallow_redirects\u001b[39m\u001b[39m\"\u001b[39m: allow_redirects,\n\u001b[0;32m    585\u001b[0m }\n\u001b[0;32m    586\u001b[0m send_kwargs\u001b[39m.\u001b[39mupdate(settings)\n\u001b[1;32m--> 587\u001b[0m resp \u001b[39m=\u001b[39m \u001b[39mself\u001b[39m\u001b[39m.\u001b[39msend(prep, \u001b[39m*\u001b[39m\u001b[39m*\u001b[39msend_kwargs)\n\u001b[0;32m    589\u001b[0m \u001b[39mreturn\u001b[39;00m resp\n",
      "File \u001b[1;32mc:\\Users\\tinma\\AppData\\Local\\Programs\\Python\\Python310\\lib\\site-packages\\requests\\sessions.py:701\u001b[0m, in \u001b[0;36mSession.send\u001b[1;34m(self, request, **kwargs)\u001b[0m\n\u001b[0;32m    698\u001b[0m start \u001b[39m=\u001b[39m preferred_clock()\n\u001b[0;32m    700\u001b[0m \u001b[39m# Send the request\u001b[39;00m\n\u001b[1;32m--> 701\u001b[0m r \u001b[39m=\u001b[39m adapter\u001b[39m.\u001b[39msend(request, \u001b[39m*\u001b[39m\u001b[39m*\u001b[39mkwargs)\n\u001b[0;32m    703\u001b[0m \u001b[39m# Total elapsed time of the request (approximately)\u001b[39;00m\n\u001b[0;32m    704\u001b[0m elapsed \u001b[39m=\u001b[39m preferred_clock() \u001b[39m-\u001b[39m start\n",
      "File \u001b[1;32mc:\\Users\\tinma\\AppData\\Local\\Programs\\Python\\Python310\\lib\\site-packages\\requests\\adapters.py:489\u001b[0m, in \u001b[0;36mHTTPAdapter.send\u001b[1;34m(self, request, stream, timeout, verify, cert, proxies)\u001b[0m\n\u001b[0;32m    487\u001b[0m \u001b[39mtry\u001b[39;00m:\n\u001b[0;32m    488\u001b[0m     \u001b[39mif\u001b[39;00m \u001b[39mnot\u001b[39;00m chunked:\n\u001b[1;32m--> 489\u001b[0m         resp \u001b[39m=\u001b[39m conn\u001b[39m.\u001b[39;49murlopen(\n\u001b[0;32m    490\u001b[0m             method\u001b[39m=\u001b[39;49mrequest\u001b[39m.\u001b[39;49mmethod,\n\u001b[0;32m    491\u001b[0m             url\u001b[39m=\u001b[39;49murl,\n\u001b[0;32m    492\u001b[0m             body\u001b[39m=\u001b[39;49mrequest\u001b[39m.\u001b[39;49mbody,\n\u001b[0;32m    493\u001b[0m             headers\u001b[39m=\u001b[39;49mrequest\u001b[39m.\u001b[39;49mheaders,\n\u001b[0;32m    494\u001b[0m             redirect\u001b[39m=\u001b[39;49m\u001b[39mFalse\u001b[39;49;00m,\n\u001b[0;32m    495\u001b[0m             assert_same_host\u001b[39m=\u001b[39;49m\u001b[39mFalse\u001b[39;49;00m,\n\u001b[0;32m    496\u001b[0m             preload_content\u001b[39m=\u001b[39;49m\u001b[39mFalse\u001b[39;49;00m,\n\u001b[0;32m    497\u001b[0m             decode_content\u001b[39m=\u001b[39;49m\u001b[39mFalse\u001b[39;49;00m,\n\u001b[0;32m    498\u001b[0m             retries\u001b[39m=\u001b[39;49m\u001b[39mself\u001b[39;49m\u001b[39m.\u001b[39;49mmax_retries,\n\u001b[0;32m    499\u001b[0m             timeout\u001b[39m=\u001b[39;49mtimeout,\n\u001b[0;32m    500\u001b[0m         )\n\u001b[0;32m    502\u001b[0m     \u001b[39m# Send the request.\u001b[39;00m\n\u001b[0;32m    503\u001b[0m     \u001b[39melse\u001b[39;00m:\n\u001b[0;32m    504\u001b[0m         \u001b[39mif\u001b[39;00m \u001b[39mhasattr\u001b[39m(conn, \u001b[39m\"\u001b[39m\u001b[39mproxy_pool\u001b[39m\u001b[39m\"\u001b[39m):\n",
      "File \u001b[1;32mc:\\Users\\tinma\\AppData\\Local\\Programs\\Python\\Python310\\lib\\site-packages\\urllib3\\connectionpool.py:703\u001b[0m, in \u001b[0;36mHTTPConnectionPool.urlopen\u001b[1;34m(self, method, url, body, headers, retries, redirect, assert_same_host, timeout, pool_timeout, release_conn, chunked, body_pos, **response_kw)\u001b[0m\n\u001b[0;32m    700\u001b[0m     \u001b[39mself\u001b[39m\u001b[39m.\u001b[39m_prepare_proxy(conn)\n\u001b[0;32m    702\u001b[0m \u001b[39m# Make the request on the httplib connection object.\u001b[39;00m\n\u001b[1;32m--> 703\u001b[0m httplib_response \u001b[39m=\u001b[39m \u001b[39mself\u001b[39;49m\u001b[39m.\u001b[39;49m_make_request(\n\u001b[0;32m    704\u001b[0m     conn,\n\u001b[0;32m    705\u001b[0m     method,\n\u001b[0;32m    706\u001b[0m     url,\n\u001b[0;32m    707\u001b[0m     timeout\u001b[39m=\u001b[39;49mtimeout_obj,\n\u001b[0;32m    708\u001b[0m     body\u001b[39m=\u001b[39;49mbody,\n\u001b[0;32m    709\u001b[0m     headers\u001b[39m=\u001b[39;49mheaders,\n\u001b[0;32m    710\u001b[0m     chunked\u001b[39m=\u001b[39;49mchunked,\n\u001b[0;32m    711\u001b[0m )\n\u001b[0;32m    713\u001b[0m \u001b[39m# If we're going to release the connection in ``finally:``, then\u001b[39;00m\n\u001b[0;32m    714\u001b[0m \u001b[39m# the response doesn't need to know about the connection. Otherwise\u001b[39;00m\n\u001b[0;32m    715\u001b[0m \u001b[39m# it will also try to release it and we'll have a double-release\u001b[39;00m\n\u001b[0;32m    716\u001b[0m \u001b[39m# mess.\u001b[39;00m\n\u001b[0;32m    717\u001b[0m response_conn \u001b[39m=\u001b[39m conn \u001b[39mif\u001b[39;00m \u001b[39mnot\u001b[39;00m release_conn \u001b[39melse\u001b[39;00m \u001b[39mNone\u001b[39;00m\n",
      "File \u001b[1;32mc:\\Users\\tinma\\AppData\\Local\\Programs\\Python\\Python310\\lib\\site-packages\\urllib3\\connectionpool.py:449\u001b[0m, in \u001b[0;36mHTTPConnectionPool._make_request\u001b[1;34m(self, conn, method, url, timeout, chunked, **httplib_request_kw)\u001b[0m\n\u001b[0;32m    444\u001b[0m             httplib_response \u001b[39m=\u001b[39m conn\u001b[39m.\u001b[39mgetresponse()\n\u001b[0;32m    445\u001b[0m         \u001b[39mexcept\u001b[39;00m \u001b[39mBaseException\u001b[39;00m \u001b[39mas\u001b[39;00m e:\n\u001b[0;32m    446\u001b[0m             \u001b[39m# Remove the TypeError from the exception chain in\u001b[39;00m\n\u001b[0;32m    447\u001b[0m             \u001b[39m# Python 3 (including for exceptions like SystemExit).\u001b[39;00m\n\u001b[0;32m    448\u001b[0m             \u001b[39m# Otherwise it looks like a bug in the code.\u001b[39;00m\n\u001b[1;32m--> 449\u001b[0m             six\u001b[39m.\u001b[39;49mraise_from(e, \u001b[39mNone\u001b[39;49;00m)\n\u001b[0;32m    450\u001b[0m \u001b[39mexcept\u001b[39;00m (SocketTimeout, BaseSSLError, SocketError) \u001b[39mas\u001b[39;00m e:\n\u001b[0;32m    451\u001b[0m     \u001b[39mself\u001b[39m\u001b[39m.\u001b[39m_raise_timeout(err\u001b[39m=\u001b[39me, url\u001b[39m=\u001b[39murl, timeout_value\u001b[39m=\u001b[39mread_timeout)\n",
      "File \u001b[1;32m<string>:3\u001b[0m, in \u001b[0;36mraise_from\u001b[1;34m(value, from_value)\u001b[0m\n",
      "File \u001b[1;32mc:\\Users\\tinma\\AppData\\Local\\Programs\\Python\\Python310\\lib\\site-packages\\urllib3\\connectionpool.py:444\u001b[0m, in \u001b[0;36mHTTPConnectionPool._make_request\u001b[1;34m(self, conn, method, url, timeout, chunked, **httplib_request_kw)\u001b[0m\n\u001b[0;32m    441\u001b[0m \u001b[39mexcept\u001b[39;00m \u001b[39mTypeError\u001b[39;00m:\n\u001b[0;32m    442\u001b[0m     \u001b[39m# Python 3\u001b[39;00m\n\u001b[0;32m    443\u001b[0m     \u001b[39mtry\u001b[39;00m:\n\u001b[1;32m--> 444\u001b[0m         httplib_response \u001b[39m=\u001b[39m conn\u001b[39m.\u001b[39;49mgetresponse()\n\u001b[0;32m    445\u001b[0m     \u001b[39mexcept\u001b[39;00m \u001b[39mBaseException\u001b[39;00m \u001b[39mas\u001b[39;00m e:\n\u001b[0;32m    446\u001b[0m         \u001b[39m# Remove the TypeError from the exception chain in\u001b[39;00m\n\u001b[0;32m    447\u001b[0m         \u001b[39m# Python 3 (including for exceptions like SystemExit).\u001b[39;00m\n\u001b[0;32m    448\u001b[0m         \u001b[39m# Otherwise it looks like a bug in the code.\u001b[39;00m\n\u001b[0;32m    449\u001b[0m         six\u001b[39m.\u001b[39mraise_from(e, \u001b[39mNone\u001b[39;00m)\n",
      "File \u001b[1;32mc:\\Users\\tinma\\AppData\\Local\\Programs\\Python\\Python310\\lib\\http\\client.py:1374\u001b[0m, in \u001b[0;36mHTTPConnection.getresponse\u001b[1;34m(self)\u001b[0m\n\u001b[0;32m   1372\u001b[0m \u001b[39mtry\u001b[39;00m:\n\u001b[0;32m   1373\u001b[0m     \u001b[39mtry\u001b[39;00m:\n\u001b[1;32m-> 1374\u001b[0m         response\u001b[39m.\u001b[39;49mbegin()\n\u001b[0;32m   1375\u001b[0m     \u001b[39mexcept\u001b[39;00m \u001b[39mConnectionError\u001b[39;00m:\n\u001b[0;32m   1376\u001b[0m         \u001b[39mself\u001b[39m\u001b[39m.\u001b[39mclose()\n",
      "File \u001b[1;32mc:\\Users\\tinma\\AppData\\Local\\Programs\\Python\\Python310\\lib\\http\\client.py:318\u001b[0m, in \u001b[0;36mHTTPResponse.begin\u001b[1;34m(self)\u001b[0m\n\u001b[0;32m    316\u001b[0m \u001b[39m# read until we get a non-100 response\u001b[39;00m\n\u001b[0;32m    317\u001b[0m \u001b[39mwhile\u001b[39;00m \u001b[39mTrue\u001b[39;00m:\n\u001b[1;32m--> 318\u001b[0m     version, status, reason \u001b[39m=\u001b[39m \u001b[39mself\u001b[39;49m\u001b[39m.\u001b[39;49m_read_status()\n\u001b[0;32m    319\u001b[0m     \u001b[39mif\u001b[39;00m status \u001b[39m!=\u001b[39m CONTINUE:\n\u001b[0;32m    320\u001b[0m         \u001b[39mbreak\u001b[39;00m\n",
      "File \u001b[1;32mc:\\Users\\tinma\\AppData\\Local\\Programs\\Python\\Python310\\lib\\http\\client.py:279\u001b[0m, in \u001b[0;36mHTTPResponse._read_status\u001b[1;34m(self)\u001b[0m\n\u001b[0;32m    278\u001b[0m \u001b[39mdef\u001b[39;00m \u001b[39m_read_status\u001b[39m(\u001b[39mself\u001b[39m):\n\u001b[1;32m--> 279\u001b[0m     line \u001b[39m=\u001b[39m \u001b[39mstr\u001b[39m(\u001b[39mself\u001b[39;49m\u001b[39m.\u001b[39;49mfp\u001b[39m.\u001b[39;49mreadline(_MAXLINE \u001b[39m+\u001b[39;49m \u001b[39m1\u001b[39;49m), \u001b[39m\"\u001b[39m\u001b[39miso-8859-1\u001b[39m\u001b[39m\"\u001b[39m)\n\u001b[0;32m    280\u001b[0m     \u001b[39mif\u001b[39;00m \u001b[39mlen\u001b[39m(line) \u001b[39m>\u001b[39m _MAXLINE:\n\u001b[0;32m    281\u001b[0m         \u001b[39mraise\u001b[39;00m LineTooLong(\u001b[39m\"\u001b[39m\u001b[39mstatus line\u001b[39m\u001b[39m\"\u001b[39m)\n",
      "File \u001b[1;32mc:\\Users\\tinma\\AppData\\Local\\Programs\\Python\\Python310\\lib\\socket.py:705\u001b[0m, in \u001b[0;36mSocketIO.readinto\u001b[1;34m(self, b)\u001b[0m\n\u001b[0;32m    703\u001b[0m \u001b[39mwhile\u001b[39;00m \u001b[39mTrue\u001b[39;00m:\n\u001b[0;32m    704\u001b[0m     \u001b[39mtry\u001b[39;00m:\n\u001b[1;32m--> 705\u001b[0m         \u001b[39mreturn\u001b[39;00m \u001b[39mself\u001b[39;49m\u001b[39m.\u001b[39;49m_sock\u001b[39m.\u001b[39;49mrecv_into(b)\n\u001b[0;32m    706\u001b[0m     \u001b[39mexcept\u001b[39;00m timeout:\n\u001b[0;32m    707\u001b[0m         \u001b[39mself\u001b[39m\u001b[39m.\u001b[39m_timeout_occurred \u001b[39m=\u001b[39m \u001b[39mTrue\u001b[39;00m\n",
      "File \u001b[1;32mc:\\Users\\tinma\\AppData\\Local\\Programs\\Python\\Python310\\lib\\ssl.py:1274\u001b[0m, in \u001b[0;36mSSLSocket.recv_into\u001b[1;34m(self, buffer, nbytes, flags)\u001b[0m\n\u001b[0;32m   1270\u001b[0m     \u001b[39mif\u001b[39;00m flags \u001b[39m!=\u001b[39m \u001b[39m0\u001b[39m:\n\u001b[0;32m   1271\u001b[0m         \u001b[39mraise\u001b[39;00m \u001b[39mValueError\u001b[39;00m(\n\u001b[0;32m   1272\u001b[0m           \u001b[39m\"\u001b[39m\u001b[39mnon-zero flags not allowed in calls to recv_into() on \u001b[39m\u001b[39m%s\u001b[39;00m\u001b[39m\"\u001b[39m \u001b[39m%\u001b[39m\n\u001b[0;32m   1273\u001b[0m           \u001b[39mself\u001b[39m\u001b[39m.\u001b[39m\u001b[39m__class__\u001b[39m)\n\u001b[1;32m-> 1274\u001b[0m     \u001b[39mreturn\u001b[39;00m \u001b[39mself\u001b[39;49m\u001b[39m.\u001b[39;49mread(nbytes, buffer)\n\u001b[0;32m   1275\u001b[0m \u001b[39melse\u001b[39;00m:\n\u001b[0;32m   1276\u001b[0m     \u001b[39mreturn\u001b[39;00m \u001b[39msuper\u001b[39m()\u001b[39m.\u001b[39mrecv_into(buffer, nbytes, flags)\n",
      "File \u001b[1;32mc:\\Users\\tinma\\AppData\\Local\\Programs\\Python\\Python310\\lib\\ssl.py:1130\u001b[0m, in \u001b[0;36mSSLSocket.read\u001b[1;34m(self, len, buffer)\u001b[0m\n\u001b[0;32m   1128\u001b[0m \u001b[39mtry\u001b[39;00m:\n\u001b[0;32m   1129\u001b[0m     \u001b[39mif\u001b[39;00m buffer \u001b[39mis\u001b[39;00m \u001b[39mnot\u001b[39;00m \u001b[39mNone\u001b[39;00m:\n\u001b[1;32m-> 1130\u001b[0m         \u001b[39mreturn\u001b[39;00m \u001b[39mself\u001b[39;49m\u001b[39m.\u001b[39;49m_sslobj\u001b[39m.\u001b[39;49mread(\u001b[39mlen\u001b[39;49m, buffer)\n\u001b[0;32m   1131\u001b[0m     \u001b[39melse\u001b[39;00m:\n\u001b[0;32m   1132\u001b[0m         \u001b[39mreturn\u001b[39;00m \u001b[39mself\u001b[39m\u001b[39m.\u001b[39m_sslobj\u001b[39m.\u001b[39mread(\u001b[39mlen\u001b[39m)\n",
      "\u001b[1;31mKeyboardInterrupt\u001b[0m: "
     ]
    }
   ],
   "source": [
    "prespuestas['lenguaje_respuesta'] = pd.Series([],dtype=str)\n",
    "for i in range(len(prespuestas)):   # 3m 3.4s para el 1% de los datos.\n",
    "    if i % 100 == 0:\n",
    "        print(i)\n",
    "    translation = translate_client.translate(prespuestas.loc[i,'respuesta'], target_language='en')\n",
    "    if translation['detectedSourceLanguage'] == 'en':\n",
    "        prespuestas.loc[i,'lenguaje_respuesta'] = 'en'\n",
    "    else:\n",
    "        prespuestas.loc[i,'respuesta'] = translation['translatedText']\n",
    "        prespuestas.loc[i,'lenguaje_respuesta'] = translation['detectedSourceLanguage']\n",
    "prespuestas"
   ]
  },
  {
   "cell_type": "code",
   "execution_count": 9,
   "metadata": {},
   "outputs": [
    {
     "data": {
      "text/plain": [
       "{'confidence': 1, 'language': 'es', 'input': 'hola cómo estás'}"
      ]
     },
     "execution_count": 9,
     "metadata": {},
     "output_type": "execute_result"
    }
   ],
   "source": [
    "translate_client.detect_language('hola cómo estás')"
   ]
  },
  {
   "cell_type": "code",
   "execution_count": 11,
   "metadata": {},
   "outputs": [
    {
     "data": {
      "text/plain": [
       "{'translatedText': 'Hi, how are you',\n",
       " 'detectedSourceLanguage': 'es',\n",
       " 'input': 'hola cómo estás'}"
      ]
     },
     "execution_count": 11,
     "metadata": {},
     "output_type": "execute_result"
    }
   ],
   "source": [
    "translate_client.translate('hola cómo estás', target_language='en')"
   ]
  },
  {
   "cell_type": "code",
   "execution_count": 70,
   "metadata": {},
   "outputs": [
    {
     "data": {
      "text/plain": [
       "{'translatedText': 'Hi, hello, how are you?',\n",
       " 'detectedSourceLanguage': 'en',\n",
       " 'input': 'Hi, hello, how are you?'}"
      ]
     },
     "execution_count": 70,
     "metadata": {},
     "output_type": "execute_result"
    }
   ],
   "source": [
    "translate_client.translate('Hi, hello, how are you?', target_language='en')"
   ]
  },
  {
   "cell_type": "code",
   "execution_count": 38,
   "metadata": {},
   "outputs": [
    {
     "data": {
      "text/plain": [
       "2700000"
      ]
     },
     "execution_count": 38,
     "metadata": {},
     "output_type": "execute_result"
    }
   ],
   "source": [
    "sdf.count()"
   ]
  },
  {
   "cell_type": "code",
   "execution_count": 41,
   "metadata": {},
   "outputs": [
    {
     "data": {
      "text/plain": [
       "index      2700000\n",
       "gmap_id    2700000\n",
       "user_id    2700000\n",
       "name       2700000\n",
       "time       2700000\n",
       "rating     2700000\n",
       "text       1529036\n",
       "resp        245169\n",
       "dtype: int64"
      ]
     },
     "execution_count": 41,
     "metadata": {},
     "output_type": "execute_result"
    }
   ],
   "source": [
    "psdf.count()"
   ]
  },
  {
   "cell_type": "code",
   "execution_count": 103,
   "metadata": {},
   "outputs": [
    {
     "data": {
      "text/html": [
       "<div>\n",
       "<style scoped>\n",
       "    .dataframe tbody tr th:only-of-type {\n",
       "        vertical-align: middle;\n",
       "    }\n",
       "\n",
       "    .dataframe tbody tr th {\n",
       "        vertical-align: top;\n",
       "    }\n",
       "\n",
       "    .dataframe thead th {\n",
       "        text-align: right;\n",
       "    }\n",
       "</style>\n",
       "<table border=\"1\" class=\"dataframe\">\n",
       "  <thead>\n",
       "    <tr style=\"text-align: right;\">\n",
       "      <th></th>\n",
       "      <th>language</th>\n",
       "      <th>name</th>\n",
       "    </tr>\n",
       "  </thead>\n",
       "  <tbody>\n",
       "    <tr>\n",
       "      <th>0</th>\n",
       "      <td>af</td>\n",
       "      <td>Afrikaans</td>\n",
       "    </tr>\n",
       "    <tr>\n",
       "      <th>1</th>\n",
       "      <td>sq</td>\n",
       "      <td>Albanian</td>\n",
       "    </tr>\n",
       "  </tbody>\n",
       "</table>\n",
       "</div>"
      ],
      "text/plain": [
       "  language       name\n",
       "0       af  Afrikaans\n",
       "1       sq   Albanian"
      ]
     },
     "execution_count": 103,
     "metadata": {},
     "output_type": "execute_result"
    }
   ],
   "source": [
    "languages_psdf = ps.DataFrame(translate_client.get_languages()).sort_values('name')\n",
    "languages_psdf.head(2)"
   ]
  },
  {
   "cell_type": "code",
   "execution_count": 104,
   "metadata": {},
   "outputs": [
    {
     "data": {
      "text/plain": [
       "'{\"time\":1629166810138,\"text\":\"现在接线员是很好的英语\"}'"
      ]
     },
     "execution_count": 104,
     "metadata": {},
     "output_type": "execute_result"
    }
   ],
   "source": [
    "psdf.resp.loc[66]"
   ]
  },
  {
   "cell_type": "code",
   "execution_count": 54,
   "metadata": {},
   "outputs": [
    {
     "data": {
      "text/plain": [
       "'现在接线员是很好的英语'"
      ]
     },
     "execution_count": 54,
     "metadata": {},
     "output_type": "execute_result"
    }
   ],
   "source": [
    "psdf.resp.loc[66][30:-2]"
   ]
  },
  {
   "cell_type": "code",
   "execution_count": null,
   "metadata": {},
   "outputs": [],
   "source": [
    "psdf['text'] = psdf.text.fillna('nan')\n",
    "sdf = sdf.withColumn(\"resp\", F.to_json(\"resp\"))\n",
    "respuestas = sdf.pandas_api()\n",
    "respuestas = respuestas[['resp']]\n"
   ]
  },
  {
   "cell_type": "code",
   "execution_count": 185,
   "metadata": {},
   "outputs": [
    {
     "ename": "AttributeError",
     "evalue": "'DataFrame' object has no attribute 'text'",
     "output_type": "error",
     "traceback": [
      "\u001b[1;31m---------------------------------------------------------------------------\u001b[0m",
      "\u001b[1;31mKeyError\u001b[0m                                  Traceback (most recent call last)",
      "File \u001b[1;32mC:\\spark-3.5.0\\python\\pyspark\\pandas\\frame.py:13566\u001b[0m, in \u001b[0;36mDataFrame.__getattr__\u001b[1;34m(self, key)\u001b[0m\n\u001b[0;32m  13565\u001b[0m \u001b[39mtry\u001b[39;00m:\n\u001b[1;32m> 13566\u001b[0m     \u001b[39mreturn\u001b[39;00m \u001b[39mself\u001b[39;49m\u001b[39m.\u001b[39;49mloc[:, key]\n\u001b[0;32m  13567\u001b[0m \u001b[39mexcept\u001b[39;00m \u001b[39mKeyError\u001b[39;00m:\n",
      "File \u001b[1;32mC:\\spark-3.5.0\\python\\pyspark\\pandas\\indexing.py:487\u001b[0m, in \u001b[0;36mLocIndexerLike.__getitem__\u001b[1;34m(self, key)\u001b[0m\n\u001b[0;32m    480\u001b[0m cond, limit, remaining_index \u001b[39m=\u001b[39m \u001b[39mself\u001b[39m\u001b[39m.\u001b[39m_select_rows(rows_sel)\n\u001b[0;32m    481\u001b[0m (\n\u001b[0;32m    482\u001b[0m     column_labels,\n\u001b[0;32m    483\u001b[0m     data_spark_columns,\n\u001b[0;32m    484\u001b[0m     data_fields,\n\u001b[0;32m    485\u001b[0m     returns_series,\n\u001b[0;32m    486\u001b[0m     series_name,\n\u001b[1;32m--> 487\u001b[0m ) \u001b[39m=\u001b[39m \u001b[39mself\u001b[39;49m\u001b[39m.\u001b[39;49m_select_cols(cols_sel)\n\u001b[0;32m    489\u001b[0m \u001b[39mif\u001b[39;00m cond \u001b[39mis\u001b[39;00m \u001b[39mNone\u001b[39;00m \u001b[39mand\u001b[39;00m limit \u001b[39mis\u001b[39;00m \u001b[39mNone\u001b[39;00m \u001b[39mand\u001b[39;00m returns_series:\n",
      "File \u001b[1;32mC:\\spark-3.5.0\\python\\pyspark\\pandas\\indexing.py:334\u001b[0m, in \u001b[0;36mLocIndexerLike._select_cols\u001b[1;34m(self, cols_sel, missing_keys)\u001b[0m\n\u001b[0;32m    333\u001b[0m \u001b[39melse\u001b[39;00m:\n\u001b[1;32m--> 334\u001b[0m     \u001b[39mreturn\u001b[39;00m \u001b[39mself\u001b[39;49m\u001b[39m.\u001b[39;49m_select_cols_else(cols_sel, missing_keys)\n",
      "File \u001b[1;32mC:\\spark-3.5.0\\python\\pyspark\\pandas\\indexing.py:1392\u001b[0m, in \u001b[0;36mLocIndexer._select_cols_else\u001b[1;34m(self, cols_sel, missing_keys)\u001b[0m\n\u001b[0;32m   1391\u001b[0m     cols_sel \u001b[39m=\u001b[39m (cols_sel,)\n\u001b[1;32m-> 1392\u001b[0m \u001b[39mreturn\u001b[39;00m \u001b[39mself\u001b[39;49m\u001b[39m.\u001b[39;49m_get_from_multiindex_column(cols_sel, missing_keys)\n",
      "File \u001b[1;32mC:\\spark-3.5.0\\python\\pyspark\\pandas\\indexing.py:1210\u001b[0m, in \u001b[0;36mLocIndexer._get_from_multiindex_column\u001b[1;34m(self, key, missing_keys, labels, recursed)\u001b[0m\n\u001b[0;32m   1209\u001b[0m \u001b[39mif\u001b[39;00m missing_keys \u001b[39mis\u001b[39;00m \u001b[39mNone\u001b[39;00m:\n\u001b[1;32m-> 1210\u001b[0m     \u001b[39mraise\u001b[39;00m \u001b[39mKeyError\u001b[39;00m(k)\n\u001b[0;32m   1211\u001b[0m \u001b[39melse\u001b[39;00m:\n",
      "\u001b[1;31mKeyError\u001b[0m: 'text'",
      "\nDuring handling of the above exception, another exception occurred:\n",
      "\u001b[1;31mAttributeError\u001b[0m                            Traceback (most recent call last)",
      "\u001b[1;32mc:\\Users\\tinma\\OneDrive\\Escritorio\\HENRY\\Proyecto_Grupal_HENRY\\spark\\local_testing\\pyspark_testing.ipynb Celda 13\u001b[0m line \u001b[0;36m5\n\u001b[0;32m      <a href='vscode-notebook-cell:/c%3A/Users/tinma/OneDrive/Escritorio/HENRY/Proyecto_Grupal_HENRY/spark/local_testing/pyspark_testing.ipynb#X24sZmlsZQ%3D%3D?line=2'>3</a>\u001b[0m respuestas\u001b[39m.\u001b[39mspark\u001b[39m.\u001b[39mcache()\n\u001b[0;32m      <a href='vscode-notebook-cell:/c%3A/Users/tinma/OneDrive/Escritorio/HENRY/Proyecto_Grupal_HENRY/spark/local_testing/pyspark_testing.ipynb#X24sZmlsZQ%3D%3D?line=3'>4</a>\u001b[0m \u001b[39m# respuestas = respuestas.astype({'resp':str}).spark.cache()\u001b[39;00m\n\u001b[1;32m----> <a href='vscode-notebook-cell:/c%3A/Users/tinma/OneDrive/Escritorio/HENRY/Proyecto_Grupal_HENRY/spark/local_testing/pyspark_testing.ipynb#X24sZmlsZQ%3D%3D?line=4'>5</a>\u001b[0m respuestas[\u001b[39m'\u001b[39m\u001b[39mresp\u001b[39m\u001b[39m'\u001b[39m] \u001b[39m=\u001b[39m respuestas\u001b[39m.\u001b[39;49mtext\u001b[39m.\u001b[39mfillna(\u001b[39m'\u001b[39m\u001b[39mnan\u001b[39m\u001b[39m'\u001b[39m)\n\u001b[0;32m      <a href='vscode-notebook-cell:/c%3A/Users/tinma/OneDrive/Escritorio/HENRY/Proyecto_Grupal_HENRY/spark/local_testing/pyspark_testing.ipynb#X24sZmlsZQ%3D%3D?line=5'>6</a>\u001b[0m respuestas \u001b[39m=\u001b[39m respuestas\u001b[39m.\u001b[39mresp \u001b[39m!=\u001b[39m \u001b[39m'\u001b[39m\u001b[39mnan\u001b[39m\u001b[39m'\u001b[39m\n\u001b[0;32m      <a href='vscode-notebook-cell:/c%3A/Users/tinma/OneDrive/Escritorio/HENRY/Proyecto_Grupal_HENRY/spark/local_testing/pyspark_testing.ipynb#X24sZmlsZQ%3D%3D?line=6'>7</a>\u001b[0m resp_idx \u001b[39m=\u001b[39m \u001b[39msorted\u001b[39m(respuestas\u001b[39m.\u001b[39mindex\u001b[39m.\u001b[39mtolist())\n",
      "File \u001b[1;32mC:\\spark-3.5.0\\python\\pyspark\\pandas\\frame.py:13568\u001b[0m, in \u001b[0;36mDataFrame.__getattr__\u001b[1;34m(self, key)\u001b[0m\n\u001b[0;32m  13566\u001b[0m     \u001b[39mreturn\u001b[39;00m \u001b[39mself\u001b[39m\u001b[39m.\u001b[39mloc[:, key]\n\u001b[0;32m  13567\u001b[0m \u001b[39mexcept\u001b[39;00m \u001b[39mKeyError\u001b[39;00m:\n\u001b[1;32m> 13568\u001b[0m     \u001b[39mraise\u001b[39;00m \u001b[39mAttributeError\u001b[39;00m(\n\u001b[0;32m  13569\u001b[0m         \u001b[39m\"\u001b[39m\u001b[39m'\u001b[39m\u001b[39m%s\u001b[39;00m\u001b[39m'\u001b[39m\u001b[39m object has no attribute \u001b[39m\u001b[39m'\u001b[39m\u001b[39m%s\u001b[39;00m\u001b[39m'\u001b[39m\u001b[39m\"\u001b[39m \u001b[39m%\u001b[39m (\u001b[39mself\u001b[39m\u001b[39m.\u001b[39m\u001b[39m__class__\u001b[39m\u001b[39m.\u001b[39m\u001b[39m__name__\u001b[39m, key)\n\u001b[0;32m  13570\u001b[0m     )\n",
      "\u001b[1;31mAttributeError\u001b[0m: 'DataFrame' object has no attribute 'text'"
     ]
    }
   ],
   "source": [
    "psdf['text'] = psdf.text.fillna('nan')\n",
    "sdf = sdf.withColumn(\"resp\", F.to_json(\"resp\"))\n",
    "respuestas = sdf.pandas_api()\n",
    "respuestas = respuestas[['resp']]\n",
    "respuestas.spark.cache()\n",
    "respuestas['resp'] = respuestas.text.fillna('nan')\n",
    "respuestas = respuestas.resp != 'nan'\n",
    "resp_idx = sorted(respuestas.index.tolist())\n",
    "print(respuestas.head(2))\n",
    "resp_idx[:10]"
   ]
  },
  {
   "cell_type": "code",
   "execution_count": 77,
   "metadata": {},
   "outputs": [
    {
     "data": {
      "text/plain": [
       "'{\"time\":1629166810138,\"text\":\"The operator now speaks very good English.\"}'"
      ]
     },
     "execution_count": 77,
     "metadata": {},
     "output_type": "execute_result"
    }
   ],
   "source": [
    "psdf.resp.loc[66][:30] + f'{translation[\"translatedText\"]}.\"' + '}'"
   ]
  },
  {
   "cell_type": "code",
   "execution_count": 79,
   "metadata": {},
   "outputs": [
    {
     "data": {
      "text/plain": [
       "{'time': 1629166810138, 'text': 'The operator now speaks very good English.'}"
      ]
     },
     "execution_count": 79,
     "metadata": {},
     "output_type": "execute_result"
    }
   ],
   "source": [
    "ast.literal_eval(psdf.resp.loc[66][:30] + f'{translation[\"translatedText\"]}.\"' + '}')"
   ]
  },
  {
   "cell_type": "code",
   "execution_count": 144,
   "metadata": {},
   "outputs": [
    {
     "data": {
      "text/plain": [
       "'{\"time\":1631072651706,\"text\":\"Thanks so much for your business and for taking the time to post a great review. Glad to hear our crew was so helpful and friendly and that we were able to get the family outfitted quickly and efficiently. Look forward to hearing from you in the future.\"}'"
      ]
     },
     "execution_count": 144,
     "metadata": {},
     "output_type": "execute_result"
    }
   ],
   "source": [
    "respuestas.loc[30,'resp']"
   ]
  },
  {
   "cell_type": "code",
   "execution_count": null,
   "metadata": {},
   "outputs": [],
   "source": []
  },
  {
   "cell_type": "code",
   "execution_count": null,
   "metadata": {},
   "outputs": [],
   "source": [
    "for i in range(len(respuestas)):\n",
    "    respuestas['resp'].apply(lambda x: ast.literal_eval(x))\n",
    "    respuestas.loc[i,'resp_time'] = respuestas.loc[i,'resp']['time']\n",
    "    respuestas.loc[i,'resp_text'] = respuestas.loc[i,'resp']['text']\n",
    "respuestas"
   ]
  },
  {
   "cell_type": "code",
   "execution_count": null,
   "metadata": {},
   "outputs": [],
   "source": [
    "PROJECT_ID = 'fiery-protocol-399500'\n",
    "STATES = ['California'] #,'Texas'] # ,'New_York','Colorado','Georgia']\n",
    "schema = StructType([\n",
    "    StructField('user_id',StringType(),False),\n",
    "    StructField('name',StringType(),True),\n",
    "    StructField('time',LongType(),True),\n",
    "    StructField('rating',IntegerType(),True),\n",
    "    StructField('text',StringType(),True),\n",
    "    StructField('resp',StringType(),False),\n",
    "    StructField('gmap_id',StringType(),False)\n",
    "])\n",
    "\n",
    "\n",
    "\n",
    "psdfx = ps.DataFrame(columns=['gmap_id','user_id','name','time','text','rating','resp_time','resp_text'])\n",
    "for state in STATES:\n",
    "    i = 1\n",
    "    df_list = []\n",
    "    while True:\n",
    "        try:\n",
    "            # Leemos los archivos en un SPARK Data Frame para poder acceder directamente a GCS\n",
    "            sdf = spk.read.schema(schema).json(f'../data/Google Maps/estados/review-{state}/{i}.json')[['user_id','name','time','rating','text','resp','gmap_id']].cache()\n",
    "            sdf.selectExpr('cast(user_id as int) user_id')\n",
    "            sdf.selectExpr('cast(null as map<string,string>) resp')\n",
    "            # PANDAS API Data Frame: Paso intermedio para trabajar con los métodos de pandas pero con la potencia de spark, posteriormente guardaremos los datos en BQ después de \n",
    "            # las transformaciones...\n",
    "            # sdf.count()\n",
    "            psdf = sdf.pandas_api().spark.cache()\n",
    "            sdf.unpersist()\n",
    "            del sdf\n",
    "            gc.collect()\n",
    "            # psdf['time'] = ps.to_datetime(psdf['time'],unit='ms')\n",
    "            psdf['estado'] = state\n",
    "            psdf['resp'] = psdf.resp.fillna('nan')\n",
    "            psdf['text'] = psdf.text.fillna('nan')\n",
    "            df_list.append(psdf)\n",
    "            i += 1\n",
    "        except AnalysisException:\n",
    "            break\n",
    "\n",
    "    psdf = ps.concat(df_list,axis=0)\n",
    "    psdf = psdf.reset_index(drop=True)\n",
    "    del df_list\n",
    "    psdf.spark.cache()\n",
    "    print(f'pyspark.pandas data frame persisted - {state}')\n",
    "\n",
    "\n",
    "\n",
    "\n",
    "\n",
    "#     # Generamos el primer grupo de transformaciones para los datos de las reviews de Maps en PANDAS API. Queda la metadata y los archivos de Yelp.\n",
    "#     psdf['resp_time'] = ps.Series([],dtype='int64')\n",
    "#     print('serie resp_time creada')\n",
    "#     psdf['resp_text'] = ps.Series([],dtype='str')\n",
    "#     psdf.spark.cache()\n",
    "#     print('serie resp_text creada')\n",
    "#     for i in range(len(psdf)):\n",
    "#         print(i)\n",
    "#         if type(psdf.loc[i,'resp']) == dict:\n",
    "#             psdf.loc[i,'resp_time'] = psdf.loc[i,'resp']['time']\n",
    "#             psdf.loc[i,'resp_text'] = psdf.loc[i,'resp']['text']\n",
    "#         else:\n",
    "#             pass\n",
    "#     psdf.resp_time = psdf.resp_time.fillna(0).astype('int64')\n",
    "#     psdf.resp_text = psdf.resp_text.fillna('')\n",
    "#     psdf = psdf[['gmap_id','user_id','name','time','text','rating','resp_time','resp_text']]\n",
    "#     psdf.spark.cache()\n",
    "    \n",
    "#     # Aquí concatenamos todos los archivos del estado en curso a los demás estados, para obtener una tabla total de estados.\n",
    "#     psdfx = ps.concat(psdf,axis=0)\n",
    "#     psdf.spark.unpersist()\n",
    "#     del psdf\n",
    "#     gc.collect()\n",
    "#     print('pyspark.pandas data frame unpersisted and deleted')\n",
    "\n",
    "# # Convertimos el dataframe de Pandas API on Spark a un dataframe de Spark\n",
    "# sdf = psdfx.to_spark()\n",
    "# del psdfx\n",
    "# gc.collect()\n",
    "\n",
    "# # Guardamos las tablas concatenadas en archivos .json en GCS.\n",
    "# sdf.write.mode('overwrite').format('csv').save(f'../data/Google Maps/clean_test/estados/all_tables')"
   ]
  }
 ],
 "metadata": {
  "kernelspec": {
   "display_name": "Python 3",
   "language": "python",
   "name": "python3"
  },
  "language_info": {
   "codemirror_mode": {
    "name": "ipython",
    "version": 3
   },
   "file_extension": ".py",
   "mimetype": "text/x-python",
   "name": "python",
   "nbconvert_exporter": "python",
   "pygments_lexer": "ipython3",
   "version": "3.10.8"
  }
 },
 "nbformat": 4,
 "nbformat_minor": 2
}
