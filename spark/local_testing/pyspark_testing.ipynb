{
 "cells": [
  {
   "cell_type": "code",
   "execution_count": 16,
   "metadata": {},
   "outputs": [
    {
     "data": {
      "text/html": [
       "\n",
       "            <div>\n",
       "                <p><b>SparkSession - in-memory</b></p>\n",
       "                \n",
       "        <div>\n",
       "            <p><b>SparkContext</b></p>\n",
       "\n",
       "            <p><a href=\"http://Tinmar:4040\">Spark UI</a></p>\n",
       "\n",
       "            <dl>\n",
       "              <dt>Version</dt>\n",
       "                <dd><code>v3.5.0</code></dd>\n",
       "              <dt>Master</dt>\n",
       "                <dd><code>local[5]</code></dd>\n",
       "              <dt>AppName</dt>\n",
       "                <dd><code>PySpark Transformations to Populate our Data Warehouse</code></dd>\n",
       "            </dl>\n",
       "        </div>\n",
       "        \n",
       "            </div>\n",
       "        "
      ],
      "text/plain": [
       "<pyspark.sql.session.SparkSession at 0x251442840d0>"
      ]
     },
     "execution_count": 16,
     "metadata": {},
     "output_type": "execute_result"
    }
   ],
   "source": [
    "import os\n",
    "import gc\n",
    "import sys\n",
    "import pandas as pd\n",
    "import numpy as np\n",
    "import ast\n",
    "os.environ['PYSPARK_PYTHON'] = sys.executable \n",
    "os.environ['PYSPARK_DRIVER_PYTHON'] = sys.executable\n",
    "os.environ[\"PYARROW_IGNORE_TIMEZONE\"] = '1' \n",
    "\n",
    "# imports para trabajar con spark en local\n",
    "import findspark\n",
    "findspark.init()\n",
    "from pyspark.sql import SparkSession\n",
    "from pyspark.sql.utils import AnalysisException\n",
    "from pyspark.sql.types import IntegerType,StructField,StructType,StringType,LongType,MapType\n",
    "from pyspark.sql import functions as F\n",
    "import pyspark.pandas as ps\n",
    "\n",
    "# imports para trabajar con GCP\n",
    "from google.oauth2 import service_account\n",
    "from google.cloud import translate_v2 as translate\n",
    "\n",
    "\n",
    "\n",
    "\n",
    "# Credenciales para API's de GCP\n",
    "SERVICE_ACCOUNT_FILE = '../../credentials/fiery-protocol-399500-f2566dd92ef4.json'\n",
    "creds = service_account.Credentials.from_service_account_file(\n",
    "        SERVICE_ACCOUNT_FILE)\n",
    "translate_client = translate.Client(credentials=creds)\n",
    "\n",
    "\n",
    "# Iniciamos sesión de spark.\n",
    "SparkSession.stop(spk)\n",
    "spk = SparkSession.builder.appName(\"PySpark Transformations to Populate our Data Warehouse\") \\\n",
    "        .master(\"local[5]\") \\\n",
    "        .config(\"spark.executor.memory\",\"2g\") \\\n",
    "        .config(\"spark.driver.memory\",\"2g\") \\\n",
    "        .config(\"spark.speculation\",\"false\") \\\n",
    "        .config(\"parquet.enable.summary-metadata\", \"false\") \\\n",
    "        .config(\"mapreduce.fileoutputcommitter.marksuccessfuljobs\", \"false\") \\\n",
    "        .getOrCreate()\n",
    "ps.options.compute.ops_on_diff_frames = True\n",
    "spk"
   ]
  },
  {
   "cell_type": "code",
   "execution_count": 151,
   "metadata": {},
   "outputs": [
    {
     "name": "stderr",
     "output_type": "stream",
     "text": [
      "C:\\spark-3.5.0\\python\\pyspark\\pandas\\utils.py:1016: PandasAPIOnSparkAdviceWarning: If `index_col` is not specified for `to_spark`, the existing index is lost when converting to Spark DataFrame.\n",
      "  warnings.warn(message, PandasAPIOnSparkAdviceWarning)\n"
     ]
    },
    {
     "name": "stdout",
     "output_type": "stream",
     "text": [
      "pyspark.pandas data frame persisted\n"
     ]
    }
   ],
   "source": [
    "schema = StructType([\n",
    "    StructField('user_id',StringType(),False),\n",
    "    StructField('name',StringType(),True),\n",
    "    StructField('time',LongType(),True),\n",
    "    StructField('rating',IntegerType(),True),\n",
    "    StructField('text',StringType(),True),\n",
    "    StructField('resp',MapType(StringType(),StringType()),False),\n",
    "    StructField('gmap_id',StringType(),False)\n",
    "])\n",
    "\n",
    "\n",
    "i = 1\n",
    "df_list = []\n",
    "while True:\n",
    "    try:\n",
    "\n",
    "        # Leemos los archivos en un SPARK Data Frame para poder acceder directamente a GCS\n",
    "        sdf = spk.read.schema(schema).json(f'../../data/Google Maps/estados/review-California/{i}.json')[['gmap_id', 'user_id', 'name', 'time', 'rating', 'text', 'resp']].cache()\n",
    "        sdf.selectExpr('cast(user_id as int) user_id').cache()\n",
    "        sdf = sdf.withColumn('tiempo_respuesta',F.col('resp').getField('time')).cache()\n",
    "        sdf = sdf.withColumn('tiempo_respuesta',F.col('tiempo_respuesta').cast(LongType())).cache()\n",
    "        sdf = sdf.withColumn('respuesta',F.col('resp').getField('text')).sort('user_id').cache()\n",
    "        sdf = sdf.withColumn('time',F.col('time').cast(LongType())).cache()\n",
    "        sdf = sdf[['gmap_id','user_id','name','time','rating','text','tiempo_respuesta','respuesta']].cache()\n",
    "        # Transformamos el dataframe de respuestas a pandas para realizar las siguientes operaciones\n",
    "        # respuestas = respuestas.toPandas()\n",
    "        # respuestas['lenguaje_respuesta'] = pd.Series([],dtype=str)\n",
    "        # for i in range(len(respuestas)):\n",
    "        #     translation = translate_client.translate(respuestas.loc[i,'respuesta'], target_language='en')\n",
    "        #     if translation['detectedSourceLanguage'] == 'en':\n",
    "        #         respuestas.loc[i,'lenguaje_respuesta'] = 'en'\n",
    "        #     else:\n",
    "        #         respuestas.loc[i,'respuesta'] = translation['translatedText']\n",
    "        #         respuestas.loc[i,'lenguaje_respuesta'] = translation['detectedSourceLanguage']\n",
    "\n",
    "\n",
    "        # PANDAS API Data Frame: Paso intermedio para trabajar con los métodos de pandas pero con la potencia de spark, posteriormente guardaremos los datos en BQ después de \n",
    "        # las transformaciones...\n",
    "        psdf = sdf.pandas_api()\n",
    "        # sdf.unpersist()\n",
    "        # del sdf\n",
    "        # gc.collect()\n",
    "        # psdf = psdf[['gmap_id','user_id','name','time','rating','text','tiempo_respuesta','respuesta']].reset_index(drop=True).spark.cache()\n",
    "        psdf['estado'] = 'California' # state\n",
    "        df_list.append(psdf)\n",
    "        i += 1\n",
    "    except AnalysisException:\n",
    "        break\n",
    "\n",
    "psdf = ps.concat(df_list,axis=0)\n",
    "psdf = psdf.drop_duplicates().reset_index(drop=True).spark.cache()   # 2,700,000 registros antes de drop_duplicates()\n",
    "\n",
    "del df_list\n",
    "gc.collect()\n",
    "\n",
    "sdft = psdf.to_spark().cache()\n",
    "csdf = sdft.fillna('nan')\n",
    "srespuestas = csdf[csdf.respuesta != 'nan'][['gmap_id','user_id','tiempo_respuesta','respuesta']].cache()\n",
    "srespuestas_gytrans = srespuestas.where(srespuestas.respuesta.contains('(Translated by Google)')).cache()\n",
    "srespuestas_gntrans = srespuestas.where(srespuestas.respuesta.contains('(Translated by Google)') == False).cache()\n",
    "del srespuestas\n",
    "del csdf\n",
    "gc.collect()\n",
    "# psdf.to_csv('../../data/Google Maps/clean_test/estados/california')  # 59.8s master('local[6]')\n",
    "# sdft.coalesce(1).write.mode('overwrite').format('csv').save('../../data/Google Maps/clean_test/estados/california')  # 56.2s, 1m 8s master('local[6]') # 57.6s, 1m 0.4s master('local[5]') # 1m 42.1s master('local[3]') # 1m 17s master('local[9]') # 1m 52s master('local[*]') # 1m 5.1s master('local[7]')\n",
    "print(f'pyspark.pandas data frame persisted')"
   ]
  },
  {
   "cell_type": "code",
   "execution_count": 126,
   "metadata": {},
   "outputs": [
    {
     "name": "stdout",
     "output_type": "stream",
     "text": [
      "+--------------------+--------------------+---------------+-------------+------+--------------------+----------------+--------------------+----------+\n",
      "|             gmap_id|             user_id|           name|         time|rating|                text|tiempo_respuesta|           respuesta|    estado|\n",
      "+--------------------+--------------------+---------------+-------------+------+--------------------+----------------+--------------------+----------+\n",
      "|0x0:0x13154eabf70...|10363023463792407...|   Evelyn Smith|1597486754434|     5|        Easy access.|            NULL|                NULL|California|\n",
      "|0x0:0x13154eabf70...|10461531724534491...|     Brett Pyle|1560665142117|     5|        Fun airport!|            NULL|                NULL|California|\n",
      "|0x0:0x13154eabf70...|11042059297073811...|     jeff brown|1584485924747|     5|                NULL|            NULL|                NULL|California|\n",
      "|0x0:0x13154eabf70...|11059108636833709...|     Bill Keanu|1612057889844|     5|Great place for l...|            NULL|                NULL|California|\n",
      "|0x0:0xdf872b4788f...|11249512557397464...|     luis vidal|1548523812049|     5|Always good servi...|   1574524668849|Thank you. We app...|California|\n",
      "|0x0:0xdf872b4788f...|11258838864651637...|    midi master|1514905391091|     5|                NULL|            NULL|                NULL|California|\n",
      "|0x0:0xdf872b4788f...|11543896192906748...| Vanessa Turner|1554913179851|     5|I own a vehicle w...|            NULL|                NULL|California|\n",
      "|0x0:0xdf872b4788f...|11736414943911538...|    Gary Ortega|1546794961010|     5|                NULL|   1546802390681|  Thank you Gary!!!!|California|\n",
      "|0x0:0xdf872b4788f...|11818319885363239...|    Tony Quarry|1500940739438|     1|I told the guy at...|   1519404556470|Tony, our sincere...|California|\n",
      "|0x14e036e7e86002a...|11167250513341757...|    Noreza Chan|1518749487985|     1|Please give me a ...|            NULL|                NULL|California|\n",
      "|0x14e04aa5733ddbc...|10699998988022649...|Hossain Yaghtin|1510362031680|     2|Hi,\\n\\nThis place...|            NULL|                NULL|California|\n",
      "|0x14e177de6fee934...|10757971762336693...|  Alfred Garcia|1511208144286|     3|                NULL|            NULL|                NULL|California|\n",
      "|0x14e177de6fee934...|10798227284043444...|   Enrique Boss|1506528195955|     3|                NULL|            NULL|                NULL|California|\n",
      "|0x14e177de6fee934...|11245017131436745...|       K Miller|1491844359667|     5|      Great place!!!|            NULL|                NULL|California|\n",
      "|0x14e178202092598...|10123855124527846...|      SANTIA853|1499208820372|     3|                NULL|            NULL|                NULL|California|\n",
      "|0x14e178202092598...|11404816493160959...|  Mark Hanohano|1501965739106|     5|                NULL|            NULL|                NULL|California|\n",
      "|0x14e178202092598...|11684980634928730...|         Jill J|1494630686150|     5|You can donate yo...|            NULL|                NULL|California|\n",
      "|0x14e179060f0442e...|10687919537608056...|  Gerardo Perez|1547105694138|     5|Everyone was so c...|   1548177848059|Thank you very mu...|California|\n",
      "|0x14e179060f0442e...|10728724238104686...|     Kim Gaines|1554010991489|     5|                NULL|            NULL|                NULL|California|\n",
      "|0x14e179060f0442e...|10979818065563175...| Heather Rowson|1602019462671|     5|Ms. Jacqueline an...|            NULL|                NULL|California|\n",
      "+--------------------+--------------------+---------------+-------------+------+--------------------+----------------+--------------------+----------+\n",
      "only showing top 20 rows\n",
      "\n"
     ]
    }
   ],
   "source": [
    "sdft.show()"
   ]
  },
  {
   "cell_type": "code",
   "execution_count": 128,
   "metadata": {},
   "outputs": [
    {
     "name": "stdout",
     "output_type": "stream",
     "text": [
      "root\n",
      " |-- gmap_id: string (nullable = true)\n",
      " |-- user_id: string (nullable = true)\n",
      " |-- name: string (nullable = true)\n",
      " |-- time: long (nullable = true)\n",
      " |-- rating: integer (nullable = true)\n",
      " |-- text: string (nullable = true)\n",
      " |-- tiempo_respuesta: long (nullable = true)\n",
      " |-- respuesta: string (nullable = true)\n",
      " |-- estado: string (nullable = false)\n",
      "\n"
     ]
    }
   ],
   "source": [
    "sdft.printSchema()"
   ]
  },
  {
   "cell_type": "code",
   "execution_count": 129,
   "metadata": {},
   "outputs": [
    {
     "data": {
      "text/plain": [
       "2624757"
      ]
     },
     "execution_count": 129,
     "metadata": {},
     "output_type": "execute_result"
    }
   ],
   "source": [
    "sdft.count()"
   ]
  },
  {
   "cell_type": "code",
   "execution_count": 142,
   "metadata": {},
   "outputs": [
    {
     "name": "stdout",
     "output_type": "stream",
     "text": [
      "+--------------------+--------------------+--------------------+-------------+------+--------------------+----------------+--------------------+----------+\n",
      "|             gmap_id|             user_id|                name|         time|rating|                text|tiempo_respuesta|           respuesta|    estado|\n",
      "+--------------------+--------------------+--------------------+-------------+------+--------------------+----------------+--------------------+----------+\n",
      "|0x0:0xdf872b4788f...|11249512557397464...|          luis vidal|1548523812049|     5|Always good servi...|   1574524668849|Thank you. We app...|California|\n",
      "|0x0:0xdf872b4788f...|11736414943911538...|         Gary Ortega|1546794961010|     5|                 nan|   1546802390681|  Thank you Gary!!!!|California|\n",
      "|0x0:0xdf872b4788f...|11818319885363239...|         Tony Quarry|1500940739438|     1|I told the guy at...|   1519404556470|Tony, our sincere...|California|\n",
      "|0x14e01d1b4a183f8...|11057104687891727...|       Kimberly Cruz|1519619311779|     5|                 nan|   1552971667282|Thank you Kim and...|California|\n",
      "|0x14e179060f0442e...|10687919537608056...|       Gerardo Perez|1547105694138|     5|Everyone was so c...|   1548177848059|Thank you very mu...|California|\n",
      "|0x14e19dbfedc0c44...|10251236466311407...|       jeffery clark|1442041021796|     4|Fun neighborhood ...|   1442083874424|Thank you Jeffery...|California|\n",
      "|0x14e19f4b6747141...|11699341546703837...|           Stephen B|1571538496299|     5|Very good place t...|   1577654180104|Thank you Stephen!!!|California|\n",
      "|0x14e19f4cb00cba9...|10409706290488251...|    Victor Cervantes|1617304964773|     5|Great place to wo...|   1617928672300|Thank you Victor!...|California|\n",
      "|0x14e1a24569d93f9...|10621161581076869...|Jacki Williams-Jones|1475003337432|     5|We had to come in...|   1475506003308|Jacki, Thank you ...|California|\n",
      "|0x14e1a24569d93f9...|10743828919450303...|          Ben Babilo|1479850378993|     5|Very helpful and ...|   1482515820481|Thank you for you...|California|\n",
      "|0x14e1a24569d93f9...|10754731890018323...|        Elaine Sobek|1506887548455|     5|Noe  is the most ...|   1507037475450|Thank you for you...|California|\n",
      "|0x14e1a24569d93f9...|11498211410892121...|         Henry Eiser|1504651392094|     5|Noe you are the m...|   1504887268812|Thank you for you...|California|\n",
      "|0x14e1b417bdf1e38...|10582032170570070...|           Faye Nora|1550815769261|     5|Very nice gentlem...|   1550816643837|Thank you for you...|California|\n",
      "|0x14e1b417bdf1e38...|11080670988184992...|            Gee Riod|1547415325256|     5|Got everthing we ...|   1548618525123|Thank you for rev...|California|\n",
      "|0x14e1b50306da00d...|10174118574933359...|             LV Plug|1595286857167|     3|Great shop! Hope ...|   1595337645039|Hi LV Plug. We’re...|California|\n",
      "|0x14e1b50306da00d...|10385207641472227...|           Bart Reed|1597461714010|     5|         Car repair!|   1597672488211|Hi Bart, thank yo...|California|\n",
      "|0x14e1b50306da00d...|10726042532152209...|         Steven King|1527250204413|     5|Good quality body...|   1528409056667|Steven King, than...|California|\n",
      "|0x14e1b50306da00d...|11633297337739342...|Roberta Marie Munroe|1607720695817|     5|They did an excel...|   1607727544972|Hi Roberta Marie ...|California|\n",
      "|0x14e4bcd95f3c045...|10876449120103889...|     Victoria Leslie|1548956520998|     5|Made appt and had...|   1548980376340|Thanks Victoria, ...|California|\n",
      "|0x14e4bcd95f3c045...|11661975504887926...|Chris Spounias de...|1547573493717|     5|Excellent service...|   1547585576251|Thanks Chris, app...|California|\n",
      "+--------------------+--------------------+--------------------+-------------+------+--------------------+----------------+--------------------+----------+\n",
      "only showing top 20 rows\n",
      "\n"
     ]
    }
   ],
   "source": [
    "srespuestas.show()"
   ]
  },
  {
   "cell_type": "code",
   "execution_count": 148,
   "metadata": {},
   "outputs": [
    {
     "data": {
      "text/plain": [
       "238457"
      ]
     },
     "execution_count": 148,
     "metadata": {},
     "output_type": "execute_result"
    }
   ],
   "source": [
    "srespuestas.count()"
   ]
  },
  {
   "cell_type": "code",
   "execution_count": 152,
   "metadata": {},
   "outputs": [
    {
     "data": {
      "text/plain": [
       "4744"
      ]
     },
     "execution_count": 152,
     "metadata": {},
     "output_type": "execute_result"
    }
   ],
   "source": [
    "srespuestas_gytrans.count()"
   ]
  },
  {
   "cell_type": "code",
   "execution_count": 153,
   "metadata": {},
   "outputs": [
    {
     "data": {
      "text/plain": [
       "233713"
      ]
     },
     "execution_count": 153,
     "metadata": {},
     "output_type": "execute_result"
    }
   ],
   "source": [
    "srespuestas_gntrans.count()"
   ]
  },
  {
   "cell_type": "code",
   "execution_count": 144,
   "metadata": {},
   "outputs": [],
   "source": [
    "prespuestas = srespuestas.toPandas()\n",
    "psrespuestas = srespuestas.pandas_api()"
   ]
  },
  {
   "cell_type": "code",
   "execution_count": 145,
   "metadata": {},
   "outputs": [
    {
     "data": {
      "text/html": [
       "<div>\n",
       "<style scoped>\n",
       "    .dataframe tbody tr th:only-of-type {\n",
       "        vertical-align: middle;\n",
       "    }\n",
       "\n",
       "    .dataframe tbody tr th {\n",
       "        vertical-align: top;\n",
       "    }\n",
       "\n",
       "    .dataframe thead th {\n",
       "        text-align: right;\n",
       "    }\n",
       "</style>\n",
       "<table border=\"1\" class=\"dataframe\">\n",
       "  <thead>\n",
       "    <tr style=\"text-align: right;\">\n",
       "      <th></th>\n",
       "      <th>gmap_id</th>\n",
       "      <th>user_id</th>\n",
       "      <th>name</th>\n",
       "      <th>time</th>\n",
       "      <th>rating</th>\n",
       "      <th>text</th>\n",
       "      <th>tiempo_respuesta</th>\n",
       "      <th>respuesta</th>\n",
       "      <th>estado</th>\n",
       "    </tr>\n",
       "  </thead>\n",
       "  <tbody>\n",
       "    <tr>\n",
       "      <th>0</th>\n",
       "      <td>0x0:0xdf872b4788fc688b</td>\n",
       "      <td>112495125573974647398</td>\n",
       "      <td>luis vidal</td>\n",
       "      <td>1548523812049</td>\n",
       "      <td>5</td>\n",
       "      <td>Always good service and fair price.</td>\n",
       "      <td>1574524668849</td>\n",
       "      <td>Thank you. We appreciate your support</td>\n",
       "      <td>California</td>\n",
       "    </tr>\n",
       "    <tr>\n",
       "      <th>1</th>\n",
       "      <td>0x0:0xdf872b4788fc688b</td>\n",
       "      <td>117364149439115386407</td>\n",
       "      <td>Gary Ortega</td>\n",
       "      <td>1546794961010</td>\n",
       "      <td>5</td>\n",
       "      <td>nan</td>\n",
       "      <td>1546802390681</td>\n",
       "      <td>Thank you Gary!!!!</td>\n",
       "      <td>California</td>\n",
       "    </tr>\n",
       "  </tbody>\n",
       "</table>\n",
       "</div>"
      ],
      "text/plain": [
       "                  gmap_id                user_id         name           time  \\\n",
       "0  0x0:0xdf872b4788fc688b  112495125573974647398   luis vidal  1548523812049   \n",
       "1  0x0:0xdf872b4788fc688b  117364149439115386407  Gary Ortega  1546794961010   \n",
       "\n",
       "   rating                                 text  tiempo_respuesta  \\\n",
       "0       5  Always good service and fair price.     1574524668849   \n",
       "1       5                                  nan     1546802390681   \n",
       "\n",
       "                               respuesta      estado  \n",
       "0  Thank you. We appreciate your support  California  \n",
       "1                     Thank you Gary!!!!  California  "
      ]
     },
     "execution_count": 145,
     "metadata": {},
     "output_type": "execute_result"
    }
   ],
   "source": [
    "prespuestas.head(2)"
   ]
  },
  {
   "cell_type": "code",
   "execution_count": 146,
   "metadata": {},
   "outputs": [
    {
     "data": {
      "text/plain": [
       "gmap_id             238457\n",
       "user_id             238457\n",
       "name                238457\n",
       "time                238457\n",
       "rating              238457\n",
       "text                238457\n",
       "tiempo_respuesta    238457\n",
       "respuesta           238457\n",
       "estado              238457\n",
       "dtype: int64"
      ]
     },
     "execution_count": 146,
     "metadata": {},
     "output_type": "execute_result"
    }
   ],
   "source": [
    "prespuestas.count()"
   ]
  },
  {
   "cell_type": "code",
   "execution_count": 147,
   "metadata": {},
   "outputs": [
    {
     "data": {
      "text/plain": [
       "gmap_id             238457\n",
       "user_id             238457\n",
       "name                238457\n",
       "time                238457\n",
       "rating              238457\n",
       "text                238457\n",
       "tiempo_respuesta    238457\n",
       "respuesta           238457\n",
       "estado              238457\n",
       "dtype: int64"
      ]
     },
     "execution_count": 147,
     "metadata": {},
     "output_type": "execute_result"
    }
   ],
   "source": [
    "psrespuestas.count()"
   ]
  },
  {
   "cell_type": "code",
   "execution_count": 136,
   "metadata": {},
   "outputs": [
    {
     "name": "stderr",
     "output_type": "stream",
     "text": [
      "C:\\Users\\tinma\\AppData\\Local\\Temp\\ipykernel_22728\\3846449576.py:1: UserWarning: This pattern is interpreted as a regular expression, and has match groups. To actually get the groups, use str.extract.\n",
      "  gytranslate_pdf = prespuestas[prespuestas.respuesta.str.contains('(Translated by Google)')]\n",
      "C:\\Users\\tinma\\AppData\\Local\\Temp\\ipykernel_22728\\3846449576.py:2: UserWarning: This pattern is interpreted as a regular expression, and has match groups. To actually get the groups, use str.extract.\n",
      "  gntranslate_pdf = prespuestas[prespuestas.respuesta.str.contains('(Translated by Google)') == False]\n"
     ]
    },
    {
     "data": {
      "text/plain": [
       "(gmap_id             233713\n",
       " user_id             233713\n",
       " name                233713\n",
       " time                233713\n",
       " rating              233713\n",
       " text                233713\n",
       " tiempo_respuesta    233713\n",
       " respuesta           233713\n",
       " estado              233713\n",
       " dtype: int64,\n",
       " gmap_id             4744\n",
       " user_id             4744\n",
       " name                4744\n",
       " time                4744\n",
       " rating              4744\n",
       " text                4744\n",
       " tiempo_respuesta    4744\n",
       " respuesta           4744\n",
       " estado              4744\n",
       " dtype: int64)"
      ]
     },
     "execution_count": 136,
     "metadata": {},
     "output_type": "execute_result"
    }
   ],
   "source": [
    "gytranslate_pdf = \n",
    "gntranslate_pdf.count(), gytranslate_pdf.count()"
   ]
  },
  {
   "cell_type": "code",
   "execution_count": 109,
   "metadata": {},
   "outputs": [
    {
     "data": {
      "text/plain": [
       "'(Translated by Google) Thanks Shanaya! (Original) Thanks Shanaya!'"
      ]
     },
     "execution_count": 109,
     "metadata": {},
     "output_type": "execute_result"
    }
   ],
   "source": [
    "respuestas.loc[47,'respuesta']"
   ]
  },
  {
   "cell_type": "code",
   "execution_count": null,
   "metadata": {},
   "outputs": [],
   "source": [
    "resp_notenglish = []\n",
    "for i in range(len(prespuestas)):   # 3m 3.4s para el 1% de los datos.\n",
    "    if i % 100 == 0:\n",
    "        print(i)\n",
    "    translation = translate_client.translate(prespuestas.loc[i,'respuesta'], target_language='en')\n",
    "    if translation['language'] != 'en':\n",
    "        resp_notenglish.append(i)"
   ]
  },
  {
   "cell_type": "code",
   "execution_count": 79,
   "metadata": {},
   "outputs": [
    {
     "name": "stdout",
     "output_type": "stream",
     "text": [
      "0\n",
      "100\n",
      "200\n",
      "300\n",
      "400\n",
      "500\n",
      "600\n",
      "700\n",
      "800\n",
      "900\n",
      "1000\n",
      "1100\n",
      "1200\n",
      "1300\n",
      "1400\n",
      "1500\n",
      "1600\n",
      "1700\n",
      "1800\n",
      "1900\n",
      "2000\n",
      "2100\n",
      "2200\n",
      "2300\n",
      "2400\n",
      "2500\n",
      "2600\n",
      "2700\n",
      "2800\n",
      "2900\n",
      "3000\n"
     ]
    },
    {
     "ename": "KeyboardInterrupt",
     "evalue": "",
     "output_type": "error",
     "traceback": [
      "\u001b[1;31m---------------------------------------------------------------------------\u001b[0m",
      "\u001b[1;31mKeyboardInterrupt\u001b[0m                         Traceback (most recent call last)",
      "\u001b[1;32mc:\\Users\\tinma\\OneDrive\\Escritorio\\HENRY\\Proyecto_Grupal_HENRY\\spark\\local_testing\\pyspark_testing.ipynb Celda 9\u001b[0m line \u001b[0;36m5\n\u001b[0;32m      <a href='vscode-notebook-cell:/c%3A/Users/tinma/OneDrive/Escritorio/HENRY/Proyecto_Grupal_HENRY/spark/local_testing/pyspark_testing.ipynb#X36sZmlsZQ%3D%3D?line=2'>3</a>\u001b[0m \u001b[39mif\u001b[39;00m i \u001b[39m%\u001b[39m \u001b[39m100\u001b[39m \u001b[39m==\u001b[39m \u001b[39m0\u001b[39m:\n\u001b[0;32m      <a href='vscode-notebook-cell:/c%3A/Users/tinma/OneDrive/Escritorio/HENRY/Proyecto_Grupal_HENRY/spark/local_testing/pyspark_testing.ipynb#X36sZmlsZQ%3D%3D?line=3'>4</a>\u001b[0m     \u001b[39mprint\u001b[39m(i)\n\u001b[1;32m----> <a href='vscode-notebook-cell:/c%3A/Users/tinma/OneDrive/Escritorio/HENRY/Proyecto_Grupal_HENRY/spark/local_testing/pyspark_testing.ipynb#X36sZmlsZQ%3D%3D?line=4'>5</a>\u001b[0m translation \u001b[39m=\u001b[39m translate_client\u001b[39m.\u001b[39;49mtranslate(respuestas\u001b[39m.\u001b[39;49mloc[i,\u001b[39m'\u001b[39;49m\u001b[39mrespuesta\u001b[39;49m\u001b[39m'\u001b[39;49m], target_language\u001b[39m=\u001b[39;49m\u001b[39m'\u001b[39;49m\u001b[39men\u001b[39;49m\u001b[39m'\u001b[39;49m)\n\u001b[0;32m      <a href='vscode-notebook-cell:/c%3A/Users/tinma/OneDrive/Escritorio/HENRY/Proyecto_Grupal_HENRY/spark/local_testing/pyspark_testing.ipynb#X36sZmlsZQ%3D%3D?line=5'>6</a>\u001b[0m \u001b[39mif\u001b[39;00m translation[\u001b[39m'\u001b[39m\u001b[39mdetectedSourceLanguage\u001b[39m\u001b[39m'\u001b[39m] \u001b[39m==\u001b[39m \u001b[39m'\u001b[39m\u001b[39men\u001b[39m\u001b[39m'\u001b[39m:\n\u001b[0;32m      <a href='vscode-notebook-cell:/c%3A/Users/tinma/OneDrive/Escritorio/HENRY/Proyecto_Grupal_HENRY/spark/local_testing/pyspark_testing.ipynb#X36sZmlsZQ%3D%3D?line=6'>7</a>\u001b[0m     respuestas\u001b[39m.\u001b[39mloc[i,\u001b[39m'\u001b[39m\u001b[39mlenguaje_respuesta\u001b[39m\u001b[39m'\u001b[39m] \u001b[39m=\u001b[39m \u001b[39m'\u001b[39m\u001b[39men\u001b[39m\u001b[39m'\u001b[39m\n",
      "File \u001b[1;32mc:\\Users\\tinma\\AppData\\Local\\Programs\\Python\\Python310\\lib\\site-packages\\google\\cloud\\translate_v2\\client.py:266\u001b[0m, in \u001b[0;36mClient.translate\u001b[1;34m(self, values, target_language, format_, source_language, customization_ids, model)\u001b[0m\n\u001b[0;32m    255\u001b[0m     customization_ids \u001b[39m=\u001b[39m [customization_ids]\n\u001b[0;32m    257\u001b[0m data \u001b[39m=\u001b[39m {\n\u001b[0;32m    258\u001b[0m     \u001b[39m\"\u001b[39m\u001b[39mtarget\u001b[39m\u001b[39m\"\u001b[39m: target_language,\n\u001b[0;32m    259\u001b[0m     \u001b[39m\"\u001b[39m\u001b[39mq\u001b[39m\u001b[39m\"\u001b[39m: values,\n\u001b[1;32m   (...)\u001b[0m\n\u001b[0;32m    263\u001b[0m     \u001b[39m\"\u001b[39m\u001b[39mmodel\u001b[39m\u001b[39m\"\u001b[39m: model,\n\u001b[0;32m    264\u001b[0m }\n\u001b[1;32m--> 266\u001b[0m response \u001b[39m=\u001b[39m \u001b[39mself\u001b[39;49m\u001b[39m.\u001b[39;49m_connection\u001b[39m.\u001b[39;49mapi_request(method\u001b[39m=\u001b[39;49m\u001b[39m\"\u001b[39;49m\u001b[39mPOST\u001b[39;49m\u001b[39m\"\u001b[39;49m, path\u001b[39m=\u001b[39;49m\u001b[39m\"\u001b[39;49m\u001b[39m\"\u001b[39;49m, data\u001b[39m=\u001b[39;49mdata)\n\u001b[0;32m    268\u001b[0m translations \u001b[39m=\u001b[39m response\u001b[39m.\u001b[39mget(\u001b[39m\"\u001b[39m\u001b[39mdata\u001b[39m\u001b[39m\"\u001b[39m, {})\u001b[39m.\u001b[39mget(\u001b[39m\"\u001b[39m\u001b[39mtranslations\u001b[39m\u001b[39m\"\u001b[39m, ())\n\u001b[0;32m    269\u001b[0m \u001b[39mif\u001b[39;00m \u001b[39mlen\u001b[39m(values) \u001b[39m!=\u001b[39m \u001b[39mlen\u001b[39m(translations):\n",
      "File \u001b[1;32mc:\\Users\\tinma\\AppData\\Local\\Programs\\Python\\Python310\\lib\\site-packages\\google\\cloud\\_http\\__init__.py:482\u001b[0m, in \u001b[0;36mJSONConnection.api_request\u001b[1;34m(self, method, path, query_params, data, content_type, headers, api_base_url, api_version, expect_json, _target_object, timeout, extra_api_info)\u001b[0m\n\u001b[0;32m    479\u001b[0m     data \u001b[39m=\u001b[39m json\u001b[39m.\u001b[39mdumps(data)\n\u001b[0;32m    480\u001b[0m     content_type \u001b[39m=\u001b[39m \u001b[39m\"\u001b[39m\u001b[39mapplication/json\u001b[39m\u001b[39m\"\u001b[39m\n\u001b[1;32m--> 482\u001b[0m response \u001b[39m=\u001b[39m \u001b[39mself\u001b[39;49m\u001b[39m.\u001b[39;49m_make_request(\n\u001b[0;32m    483\u001b[0m     method\u001b[39m=\u001b[39;49mmethod,\n\u001b[0;32m    484\u001b[0m     url\u001b[39m=\u001b[39;49murl,\n\u001b[0;32m    485\u001b[0m     data\u001b[39m=\u001b[39;49mdata,\n\u001b[0;32m    486\u001b[0m     content_type\u001b[39m=\u001b[39;49mcontent_type,\n\u001b[0;32m    487\u001b[0m     headers\u001b[39m=\u001b[39;49mheaders,\n\u001b[0;32m    488\u001b[0m     target_object\u001b[39m=\u001b[39;49m_target_object,\n\u001b[0;32m    489\u001b[0m     timeout\u001b[39m=\u001b[39;49mtimeout,\n\u001b[0;32m    490\u001b[0m     extra_api_info\u001b[39m=\u001b[39;49mextra_api_info,\n\u001b[0;32m    491\u001b[0m )\n\u001b[0;32m    493\u001b[0m \u001b[39mif\u001b[39;00m \u001b[39mnot\u001b[39;00m \u001b[39m200\u001b[39m \u001b[39m<\u001b[39m\u001b[39m=\u001b[39m response\u001b[39m.\u001b[39mstatus_code \u001b[39m<\u001b[39m \u001b[39m300\u001b[39m:\n\u001b[0;32m    494\u001b[0m     \u001b[39mraise\u001b[39;00m exceptions\u001b[39m.\u001b[39mfrom_http_response(response)\n",
      "File \u001b[1;32mc:\\Users\\tinma\\AppData\\Local\\Programs\\Python\\Python310\\lib\\site-packages\\google\\cloud\\_http\\__init__.py:341\u001b[0m, in \u001b[0;36mJSONConnection._make_request\u001b[1;34m(self, method, url, data, content_type, headers, target_object, timeout, extra_api_info)\u001b[0m\n\u001b[0;32m    338\u001b[0m     headers[CLIENT_INFO_HEADER] \u001b[39m=\u001b[39m \u001b[39mself\u001b[39m\u001b[39m.\u001b[39muser_agent\n\u001b[0;32m    339\u001b[0m headers[\u001b[39m\"\u001b[39m\u001b[39mUser-Agent\u001b[39m\u001b[39m\"\u001b[39m] \u001b[39m=\u001b[39m \u001b[39mself\u001b[39m\u001b[39m.\u001b[39muser_agent\n\u001b[1;32m--> 341\u001b[0m \u001b[39mreturn\u001b[39;00m \u001b[39mself\u001b[39;49m\u001b[39m.\u001b[39;49m_do_request(\n\u001b[0;32m    342\u001b[0m     method, url, headers, data, target_object, timeout\u001b[39m=\u001b[39;49mtimeout\n\u001b[0;32m    343\u001b[0m )\n",
      "File \u001b[1;32mc:\\Users\\tinma\\AppData\\Local\\Programs\\Python\\Python310\\lib\\site-packages\\google\\cloud\\_http\\__init__.py:379\u001b[0m, in \u001b[0;36mJSONConnection._do_request\u001b[1;34m(self, method, url, headers, data, target_object, timeout)\u001b[0m\n\u001b[0;32m    345\u001b[0m \u001b[39mdef\u001b[39;00m \u001b[39m_do_request\u001b[39m(\n\u001b[0;32m    346\u001b[0m     \u001b[39mself\u001b[39m, method, url, headers, data, target_object, timeout\u001b[39m=\u001b[39m_DEFAULT_TIMEOUT\n\u001b[0;32m    347\u001b[0m ):  \u001b[39m# pylint: disable=unused-argument\u001b[39;00m\n\u001b[0;32m    348\u001b[0m \u001b[39m    \u001b[39m\u001b[39m\"\"\"Low-level helper:  perform the actual API request over HTTP.\u001b[39;00m\n\u001b[0;32m    349\u001b[0m \n\u001b[0;32m    350\u001b[0m \u001b[39m    Allows batch context managers to override and defer a request.\u001b[39;00m\n\u001b[1;32m   (...)\u001b[0m\n\u001b[0;32m    377\u001b[0m \u001b[39m    :returns: The HTTP response.\u001b[39;00m\n\u001b[0;32m    378\u001b[0m \u001b[39m    \"\"\"\u001b[39;00m\n\u001b[1;32m--> 379\u001b[0m     \u001b[39mreturn\u001b[39;00m \u001b[39mself\u001b[39;49m\u001b[39m.\u001b[39;49mhttp\u001b[39m.\u001b[39;49mrequest(\n\u001b[0;32m    380\u001b[0m         url\u001b[39m=\u001b[39;49murl, method\u001b[39m=\u001b[39;49mmethod, headers\u001b[39m=\u001b[39;49mheaders, data\u001b[39m=\u001b[39;49mdata, timeout\u001b[39m=\u001b[39;49mtimeout\n\u001b[0;32m    381\u001b[0m     )\n",
      "File \u001b[1;32mc:\\Users\\tinma\\AppData\\Local\\Programs\\Python\\Python310\\lib\\site-packages\\google\\auth\\transport\\requests.py:549\u001b[0m, in \u001b[0;36mAuthorizedSession.request\u001b[1;34m(self, method, url, data, headers, max_allowed_time, timeout, **kwargs)\u001b[0m\n\u001b[0;32m    546\u001b[0m remaining_time \u001b[39m=\u001b[39m guard\u001b[39m.\u001b[39mremaining_timeout\n\u001b[0;32m    548\u001b[0m \u001b[39mwith\u001b[39;00m TimeoutGuard(remaining_time) \u001b[39mas\u001b[39;00m guard:\n\u001b[1;32m--> 549\u001b[0m     response \u001b[39m=\u001b[39m \u001b[39msuper\u001b[39m(AuthorizedSession, \u001b[39mself\u001b[39m)\u001b[39m.\u001b[39mrequest(\n\u001b[0;32m    550\u001b[0m         method,\n\u001b[0;32m    551\u001b[0m         url,\n\u001b[0;32m    552\u001b[0m         data\u001b[39m=\u001b[39mdata,\n\u001b[0;32m    553\u001b[0m         headers\u001b[39m=\u001b[39mrequest_headers,\n\u001b[0;32m    554\u001b[0m         timeout\u001b[39m=\u001b[39mtimeout,\n\u001b[0;32m    555\u001b[0m         \u001b[39m*\u001b[39m\u001b[39m*\u001b[39mkwargs\n\u001b[0;32m    556\u001b[0m     )\n\u001b[0;32m    557\u001b[0m remaining_time \u001b[39m=\u001b[39m guard\u001b[39m.\u001b[39mremaining_timeout\n\u001b[0;32m    559\u001b[0m \u001b[39m# If the response indicated that the credentials needed to be\u001b[39;00m\n\u001b[0;32m    560\u001b[0m \u001b[39m# refreshed, then refresh the credentials and re-attempt the\u001b[39;00m\n\u001b[0;32m    561\u001b[0m \u001b[39m# request.\u001b[39;00m\n\u001b[0;32m    562\u001b[0m \u001b[39m# A stored token may expire between the time it is retrieved and\u001b[39;00m\n\u001b[0;32m    563\u001b[0m \u001b[39m# the time the request is made, so we may need to try twice.\u001b[39;00m\n",
      "File \u001b[1;32mc:\\Users\\tinma\\AppData\\Local\\Programs\\Python\\Python310\\lib\\site-packages\\requests\\sessions.py:587\u001b[0m, in \u001b[0;36mSession.request\u001b[1;34m(self, method, url, params, data, headers, cookies, files, auth, timeout, allow_redirects, proxies, hooks, stream, verify, cert, json)\u001b[0m\n\u001b[0;32m    582\u001b[0m send_kwargs \u001b[39m=\u001b[39m {\n\u001b[0;32m    583\u001b[0m     \u001b[39m\"\u001b[39m\u001b[39mtimeout\u001b[39m\u001b[39m\"\u001b[39m: timeout,\n\u001b[0;32m    584\u001b[0m     \u001b[39m\"\u001b[39m\u001b[39mallow_redirects\u001b[39m\u001b[39m\"\u001b[39m: allow_redirects,\n\u001b[0;32m    585\u001b[0m }\n\u001b[0;32m    586\u001b[0m send_kwargs\u001b[39m.\u001b[39mupdate(settings)\n\u001b[1;32m--> 587\u001b[0m resp \u001b[39m=\u001b[39m \u001b[39mself\u001b[39m\u001b[39m.\u001b[39msend(prep, \u001b[39m*\u001b[39m\u001b[39m*\u001b[39msend_kwargs)\n\u001b[0;32m    589\u001b[0m \u001b[39mreturn\u001b[39;00m resp\n",
      "File \u001b[1;32mc:\\Users\\tinma\\AppData\\Local\\Programs\\Python\\Python310\\lib\\site-packages\\requests\\sessions.py:701\u001b[0m, in \u001b[0;36mSession.send\u001b[1;34m(self, request, **kwargs)\u001b[0m\n\u001b[0;32m    698\u001b[0m start \u001b[39m=\u001b[39m preferred_clock()\n\u001b[0;32m    700\u001b[0m \u001b[39m# Send the request\u001b[39;00m\n\u001b[1;32m--> 701\u001b[0m r \u001b[39m=\u001b[39m adapter\u001b[39m.\u001b[39msend(request, \u001b[39m*\u001b[39m\u001b[39m*\u001b[39mkwargs)\n\u001b[0;32m    703\u001b[0m \u001b[39m# Total elapsed time of the request (approximately)\u001b[39;00m\n\u001b[0;32m    704\u001b[0m elapsed \u001b[39m=\u001b[39m preferred_clock() \u001b[39m-\u001b[39m start\n",
      "File \u001b[1;32mc:\\Users\\tinma\\AppData\\Local\\Programs\\Python\\Python310\\lib\\site-packages\\requests\\adapters.py:489\u001b[0m, in \u001b[0;36mHTTPAdapter.send\u001b[1;34m(self, request, stream, timeout, verify, cert, proxies)\u001b[0m\n\u001b[0;32m    487\u001b[0m \u001b[39mtry\u001b[39;00m:\n\u001b[0;32m    488\u001b[0m     \u001b[39mif\u001b[39;00m \u001b[39mnot\u001b[39;00m chunked:\n\u001b[1;32m--> 489\u001b[0m         resp \u001b[39m=\u001b[39m conn\u001b[39m.\u001b[39;49murlopen(\n\u001b[0;32m    490\u001b[0m             method\u001b[39m=\u001b[39;49mrequest\u001b[39m.\u001b[39;49mmethod,\n\u001b[0;32m    491\u001b[0m             url\u001b[39m=\u001b[39;49murl,\n\u001b[0;32m    492\u001b[0m             body\u001b[39m=\u001b[39;49mrequest\u001b[39m.\u001b[39;49mbody,\n\u001b[0;32m    493\u001b[0m             headers\u001b[39m=\u001b[39;49mrequest\u001b[39m.\u001b[39;49mheaders,\n\u001b[0;32m    494\u001b[0m             redirect\u001b[39m=\u001b[39;49m\u001b[39mFalse\u001b[39;49;00m,\n\u001b[0;32m    495\u001b[0m             assert_same_host\u001b[39m=\u001b[39;49m\u001b[39mFalse\u001b[39;49;00m,\n\u001b[0;32m    496\u001b[0m             preload_content\u001b[39m=\u001b[39;49m\u001b[39mFalse\u001b[39;49;00m,\n\u001b[0;32m    497\u001b[0m             decode_content\u001b[39m=\u001b[39;49m\u001b[39mFalse\u001b[39;49;00m,\n\u001b[0;32m    498\u001b[0m             retries\u001b[39m=\u001b[39;49m\u001b[39mself\u001b[39;49m\u001b[39m.\u001b[39;49mmax_retries,\n\u001b[0;32m    499\u001b[0m             timeout\u001b[39m=\u001b[39;49mtimeout,\n\u001b[0;32m    500\u001b[0m         )\n\u001b[0;32m    502\u001b[0m     \u001b[39m# Send the request.\u001b[39;00m\n\u001b[0;32m    503\u001b[0m     \u001b[39melse\u001b[39;00m:\n\u001b[0;32m    504\u001b[0m         \u001b[39mif\u001b[39;00m \u001b[39mhasattr\u001b[39m(conn, \u001b[39m\"\u001b[39m\u001b[39mproxy_pool\u001b[39m\u001b[39m\"\u001b[39m):\n",
      "File \u001b[1;32mc:\\Users\\tinma\\AppData\\Local\\Programs\\Python\\Python310\\lib\\site-packages\\urllib3\\connectionpool.py:703\u001b[0m, in \u001b[0;36mHTTPConnectionPool.urlopen\u001b[1;34m(self, method, url, body, headers, retries, redirect, assert_same_host, timeout, pool_timeout, release_conn, chunked, body_pos, **response_kw)\u001b[0m\n\u001b[0;32m    700\u001b[0m     \u001b[39mself\u001b[39m\u001b[39m.\u001b[39m_prepare_proxy(conn)\n\u001b[0;32m    702\u001b[0m \u001b[39m# Make the request on the httplib connection object.\u001b[39;00m\n\u001b[1;32m--> 703\u001b[0m httplib_response \u001b[39m=\u001b[39m \u001b[39mself\u001b[39;49m\u001b[39m.\u001b[39;49m_make_request(\n\u001b[0;32m    704\u001b[0m     conn,\n\u001b[0;32m    705\u001b[0m     method,\n\u001b[0;32m    706\u001b[0m     url,\n\u001b[0;32m    707\u001b[0m     timeout\u001b[39m=\u001b[39;49mtimeout_obj,\n\u001b[0;32m    708\u001b[0m     body\u001b[39m=\u001b[39;49mbody,\n\u001b[0;32m    709\u001b[0m     headers\u001b[39m=\u001b[39;49mheaders,\n\u001b[0;32m    710\u001b[0m     chunked\u001b[39m=\u001b[39;49mchunked,\n\u001b[0;32m    711\u001b[0m )\n\u001b[0;32m    713\u001b[0m \u001b[39m# If we're going to release the connection in ``finally:``, then\u001b[39;00m\n\u001b[0;32m    714\u001b[0m \u001b[39m# the response doesn't need to know about the connection. Otherwise\u001b[39;00m\n\u001b[0;32m    715\u001b[0m \u001b[39m# it will also try to release it and we'll have a double-release\u001b[39;00m\n\u001b[0;32m    716\u001b[0m \u001b[39m# mess.\u001b[39;00m\n\u001b[0;32m    717\u001b[0m response_conn \u001b[39m=\u001b[39m conn \u001b[39mif\u001b[39;00m \u001b[39mnot\u001b[39;00m release_conn \u001b[39melse\u001b[39;00m \u001b[39mNone\u001b[39;00m\n",
      "File \u001b[1;32mc:\\Users\\tinma\\AppData\\Local\\Programs\\Python\\Python310\\lib\\site-packages\\urllib3\\connectionpool.py:449\u001b[0m, in \u001b[0;36mHTTPConnectionPool._make_request\u001b[1;34m(self, conn, method, url, timeout, chunked, **httplib_request_kw)\u001b[0m\n\u001b[0;32m    444\u001b[0m             httplib_response \u001b[39m=\u001b[39m conn\u001b[39m.\u001b[39mgetresponse()\n\u001b[0;32m    445\u001b[0m         \u001b[39mexcept\u001b[39;00m \u001b[39mBaseException\u001b[39;00m \u001b[39mas\u001b[39;00m e:\n\u001b[0;32m    446\u001b[0m             \u001b[39m# Remove the TypeError from the exception chain in\u001b[39;00m\n\u001b[0;32m    447\u001b[0m             \u001b[39m# Python 3 (including for exceptions like SystemExit).\u001b[39;00m\n\u001b[0;32m    448\u001b[0m             \u001b[39m# Otherwise it looks like a bug in the code.\u001b[39;00m\n\u001b[1;32m--> 449\u001b[0m             six\u001b[39m.\u001b[39;49mraise_from(e, \u001b[39mNone\u001b[39;49;00m)\n\u001b[0;32m    450\u001b[0m \u001b[39mexcept\u001b[39;00m (SocketTimeout, BaseSSLError, SocketError) \u001b[39mas\u001b[39;00m e:\n\u001b[0;32m    451\u001b[0m     \u001b[39mself\u001b[39m\u001b[39m.\u001b[39m_raise_timeout(err\u001b[39m=\u001b[39me, url\u001b[39m=\u001b[39murl, timeout_value\u001b[39m=\u001b[39mread_timeout)\n",
      "File \u001b[1;32m<string>:3\u001b[0m, in \u001b[0;36mraise_from\u001b[1;34m(value, from_value)\u001b[0m\n",
      "File \u001b[1;32mc:\\Users\\tinma\\AppData\\Local\\Programs\\Python\\Python310\\lib\\site-packages\\urllib3\\connectionpool.py:444\u001b[0m, in \u001b[0;36mHTTPConnectionPool._make_request\u001b[1;34m(self, conn, method, url, timeout, chunked, **httplib_request_kw)\u001b[0m\n\u001b[0;32m    441\u001b[0m \u001b[39mexcept\u001b[39;00m \u001b[39mTypeError\u001b[39;00m:\n\u001b[0;32m    442\u001b[0m     \u001b[39m# Python 3\u001b[39;00m\n\u001b[0;32m    443\u001b[0m     \u001b[39mtry\u001b[39;00m:\n\u001b[1;32m--> 444\u001b[0m         httplib_response \u001b[39m=\u001b[39m conn\u001b[39m.\u001b[39;49mgetresponse()\n\u001b[0;32m    445\u001b[0m     \u001b[39mexcept\u001b[39;00m \u001b[39mBaseException\u001b[39;00m \u001b[39mas\u001b[39;00m e:\n\u001b[0;32m    446\u001b[0m         \u001b[39m# Remove the TypeError from the exception chain in\u001b[39;00m\n\u001b[0;32m    447\u001b[0m         \u001b[39m# Python 3 (including for exceptions like SystemExit).\u001b[39;00m\n\u001b[0;32m    448\u001b[0m         \u001b[39m# Otherwise it looks like a bug in the code.\u001b[39;00m\n\u001b[0;32m    449\u001b[0m         six\u001b[39m.\u001b[39mraise_from(e, \u001b[39mNone\u001b[39;00m)\n",
      "File \u001b[1;32mc:\\Users\\tinma\\AppData\\Local\\Programs\\Python\\Python310\\lib\\http\\client.py:1374\u001b[0m, in \u001b[0;36mHTTPConnection.getresponse\u001b[1;34m(self)\u001b[0m\n\u001b[0;32m   1372\u001b[0m \u001b[39mtry\u001b[39;00m:\n\u001b[0;32m   1373\u001b[0m     \u001b[39mtry\u001b[39;00m:\n\u001b[1;32m-> 1374\u001b[0m         response\u001b[39m.\u001b[39;49mbegin()\n\u001b[0;32m   1375\u001b[0m     \u001b[39mexcept\u001b[39;00m \u001b[39mConnectionError\u001b[39;00m:\n\u001b[0;32m   1376\u001b[0m         \u001b[39mself\u001b[39m\u001b[39m.\u001b[39mclose()\n",
      "File \u001b[1;32mc:\\Users\\tinma\\AppData\\Local\\Programs\\Python\\Python310\\lib\\http\\client.py:318\u001b[0m, in \u001b[0;36mHTTPResponse.begin\u001b[1;34m(self)\u001b[0m\n\u001b[0;32m    316\u001b[0m \u001b[39m# read until we get a non-100 response\u001b[39;00m\n\u001b[0;32m    317\u001b[0m \u001b[39mwhile\u001b[39;00m \u001b[39mTrue\u001b[39;00m:\n\u001b[1;32m--> 318\u001b[0m     version, status, reason \u001b[39m=\u001b[39m \u001b[39mself\u001b[39;49m\u001b[39m.\u001b[39;49m_read_status()\n\u001b[0;32m    319\u001b[0m     \u001b[39mif\u001b[39;00m status \u001b[39m!=\u001b[39m CONTINUE:\n\u001b[0;32m    320\u001b[0m         \u001b[39mbreak\u001b[39;00m\n",
      "File \u001b[1;32mc:\\Users\\tinma\\AppData\\Local\\Programs\\Python\\Python310\\lib\\http\\client.py:279\u001b[0m, in \u001b[0;36mHTTPResponse._read_status\u001b[1;34m(self)\u001b[0m\n\u001b[0;32m    278\u001b[0m \u001b[39mdef\u001b[39;00m \u001b[39m_read_status\u001b[39m(\u001b[39mself\u001b[39m):\n\u001b[1;32m--> 279\u001b[0m     line \u001b[39m=\u001b[39m \u001b[39mstr\u001b[39m(\u001b[39mself\u001b[39;49m\u001b[39m.\u001b[39;49mfp\u001b[39m.\u001b[39;49mreadline(_MAXLINE \u001b[39m+\u001b[39;49m \u001b[39m1\u001b[39;49m), \u001b[39m\"\u001b[39m\u001b[39miso-8859-1\u001b[39m\u001b[39m\"\u001b[39m)\n\u001b[0;32m    280\u001b[0m     \u001b[39mif\u001b[39;00m \u001b[39mlen\u001b[39m(line) \u001b[39m>\u001b[39m _MAXLINE:\n\u001b[0;32m    281\u001b[0m         \u001b[39mraise\u001b[39;00m LineTooLong(\u001b[39m\"\u001b[39m\u001b[39mstatus line\u001b[39m\u001b[39m\"\u001b[39m)\n",
      "File \u001b[1;32mc:\\Users\\tinma\\AppData\\Local\\Programs\\Python\\Python310\\lib\\socket.py:705\u001b[0m, in \u001b[0;36mSocketIO.readinto\u001b[1;34m(self, b)\u001b[0m\n\u001b[0;32m    703\u001b[0m \u001b[39mwhile\u001b[39;00m \u001b[39mTrue\u001b[39;00m:\n\u001b[0;32m    704\u001b[0m     \u001b[39mtry\u001b[39;00m:\n\u001b[1;32m--> 705\u001b[0m         \u001b[39mreturn\u001b[39;00m \u001b[39mself\u001b[39;49m\u001b[39m.\u001b[39;49m_sock\u001b[39m.\u001b[39;49mrecv_into(b)\n\u001b[0;32m    706\u001b[0m     \u001b[39mexcept\u001b[39;00m timeout:\n\u001b[0;32m    707\u001b[0m         \u001b[39mself\u001b[39m\u001b[39m.\u001b[39m_timeout_occurred \u001b[39m=\u001b[39m \u001b[39mTrue\u001b[39;00m\n",
      "File \u001b[1;32mc:\\Users\\tinma\\AppData\\Local\\Programs\\Python\\Python310\\lib\\ssl.py:1274\u001b[0m, in \u001b[0;36mSSLSocket.recv_into\u001b[1;34m(self, buffer, nbytes, flags)\u001b[0m\n\u001b[0;32m   1270\u001b[0m     \u001b[39mif\u001b[39;00m flags \u001b[39m!=\u001b[39m \u001b[39m0\u001b[39m:\n\u001b[0;32m   1271\u001b[0m         \u001b[39mraise\u001b[39;00m \u001b[39mValueError\u001b[39;00m(\n\u001b[0;32m   1272\u001b[0m           \u001b[39m\"\u001b[39m\u001b[39mnon-zero flags not allowed in calls to recv_into() on \u001b[39m\u001b[39m%s\u001b[39;00m\u001b[39m\"\u001b[39m \u001b[39m%\u001b[39m\n\u001b[0;32m   1273\u001b[0m           \u001b[39mself\u001b[39m\u001b[39m.\u001b[39m\u001b[39m__class__\u001b[39m)\n\u001b[1;32m-> 1274\u001b[0m     \u001b[39mreturn\u001b[39;00m \u001b[39mself\u001b[39;49m\u001b[39m.\u001b[39;49mread(nbytes, buffer)\n\u001b[0;32m   1275\u001b[0m \u001b[39melse\u001b[39;00m:\n\u001b[0;32m   1276\u001b[0m     \u001b[39mreturn\u001b[39;00m \u001b[39msuper\u001b[39m()\u001b[39m.\u001b[39mrecv_into(buffer, nbytes, flags)\n",
      "File \u001b[1;32mc:\\Users\\tinma\\AppData\\Local\\Programs\\Python\\Python310\\lib\\ssl.py:1130\u001b[0m, in \u001b[0;36mSSLSocket.read\u001b[1;34m(self, len, buffer)\u001b[0m\n\u001b[0;32m   1128\u001b[0m \u001b[39mtry\u001b[39;00m:\n\u001b[0;32m   1129\u001b[0m     \u001b[39mif\u001b[39;00m buffer \u001b[39mis\u001b[39;00m \u001b[39mnot\u001b[39;00m \u001b[39mNone\u001b[39;00m:\n\u001b[1;32m-> 1130\u001b[0m         \u001b[39mreturn\u001b[39;00m \u001b[39mself\u001b[39;49m\u001b[39m.\u001b[39;49m_sslobj\u001b[39m.\u001b[39;49mread(\u001b[39mlen\u001b[39;49m, buffer)\n\u001b[0;32m   1131\u001b[0m     \u001b[39melse\u001b[39;00m:\n\u001b[0;32m   1132\u001b[0m         \u001b[39mreturn\u001b[39;00m \u001b[39mself\u001b[39m\u001b[39m.\u001b[39m_sslobj\u001b[39m.\u001b[39mread(\u001b[39mlen\u001b[39m)\n",
      "\u001b[1;31mKeyboardInterrupt\u001b[0m: "
     ]
    }
   ],
   "source": [
    "prespuestas['lenguaje_respuesta'] = pd.Series([],dtype=str)\n",
    "for i in range(len(prespuestas)):   # 3m 3.4s para el 1% de los datos.\n",
    "    if i % 100 == 0:\n",
    "        print(i)\n",
    "    translation = translate_client.translate(prespuestas.loc[i,'respuesta'], target_language='en')\n",
    "    if translation['detectedSourceLanguage'] == 'en':\n",
    "        prespuestas.loc[i,'lenguaje_respuesta'] = 'en'\n",
    "    else:\n",
    "        prespuestas.loc[i,'respuesta'] = translation['translatedText']\n",
    "        prespuestas.loc[i,'lenguaje_respuesta'] = translation['detectedSourceLanguage']\n",
    "prespuestas"
   ]
  },
  {
   "cell_type": "code",
   "execution_count": 9,
   "metadata": {},
   "outputs": [
    {
     "data": {
      "text/plain": [
       "{'confidence': 1, 'language': 'es', 'input': 'hola cómo estás'}"
      ]
     },
     "execution_count": 9,
     "metadata": {},
     "output_type": "execute_result"
    }
   ],
   "source": [
    "translate_client.detect_language('hola cómo estás')"
   ]
  },
  {
   "cell_type": "code",
   "execution_count": 11,
   "metadata": {},
   "outputs": [
    {
     "data": {
      "text/plain": [
       "{'translatedText': 'Hi, how are you',\n",
       " 'detectedSourceLanguage': 'es',\n",
       " 'input': 'hola cómo estás'}"
      ]
     },
     "execution_count": 11,
     "metadata": {},
     "output_type": "execute_result"
    }
   ],
   "source": [
    "translate_client.translate('hola cómo estás', target_language='en')"
   ]
  },
  {
   "cell_type": "code",
   "execution_count": 70,
   "metadata": {},
   "outputs": [
    {
     "data": {
      "text/plain": [
       "{'translatedText': 'Hi, hello, how are you?',\n",
       " 'detectedSourceLanguage': 'en',\n",
       " 'input': 'Hi, hello, how are you?'}"
      ]
     },
     "execution_count": 70,
     "metadata": {},
     "output_type": "execute_result"
    }
   ],
   "source": [
    "translate_client.translate('Hi, hello, how are you?', target_language='en')"
   ]
  },
  {
   "cell_type": "code",
   "execution_count": 38,
   "metadata": {},
   "outputs": [
    {
     "data": {
      "text/plain": [
       "2700000"
      ]
     },
     "execution_count": 38,
     "metadata": {},
     "output_type": "execute_result"
    }
   ],
   "source": [
    "sdf.count()"
   ]
  },
  {
   "cell_type": "code",
   "execution_count": 41,
   "metadata": {},
   "outputs": [
    {
     "data": {
      "text/plain": [
       "index      2700000\n",
       "gmap_id    2700000\n",
       "user_id    2700000\n",
       "name       2700000\n",
       "time       2700000\n",
       "rating     2700000\n",
       "text       1529036\n",
       "resp        245169\n",
       "dtype: int64"
      ]
     },
     "execution_count": 41,
     "metadata": {},
     "output_type": "execute_result"
    }
   ],
   "source": [
    "psdf.count()"
   ]
  },
  {
   "cell_type": "code",
   "execution_count": 103,
   "metadata": {},
   "outputs": [
    {
     "data": {
      "text/html": [
       "<div>\n",
       "<style scoped>\n",
       "    .dataframe tbody tr th:only-of-type {\n",
       "        vertical-align: middle;\n",
       "    }\n",
       "\n",
       "    .dataframe tbody tr th {\n",
       "        vertical-align: top;\n",
       "    }\n",
       "\n",
       "    .dataframe thead th {\n",
       "        text-align: right;\n",
       "    }\n",
       "</style>\n",
       "<table border=\"1\" class=\"dataframe\">\n",
       "  <thead>\n",
       "    <tr style=\"text-align: right;\">\n",
       "      <th></th>\n",
       "      <th>language</th>\n",
       "      <th>name</th>\n",
       "    </tr>\n",
       "  </thead>\n",
       "  <tbody>\n",
       "    <tr>\n",
       "      <th>0</th>\n",
       "      <td>af</td>\n",
       "      <td>Afrikaans</td>\n",
       "    </tr>\n",
       "    <tr>\n",
       "      <th>1</th>\n",
       "      <td>sq</td>\n",
       "      <td>Albanian</td>\n",
       "    </tr>\n",
       "  </tbody>\n",
       "</table>\n",
       "</div>"
      ],
      "text/plain": [
       "  language       name\n",
       "0       af  Afrikaans\n",
       "1       sq   Albanian"
      ]
     },
     "execution_count": 103,
     "metadata": {},
     "output_type": "execute_result"
    }
   ],
   "source": [
    "languages_psdf = ps.DataFrame(translate_client.get_languages()).sort_values('name')\n",
    "languages_psdf.head(2)"
   ]
  },
  {
   "cell_type": "code",
   "execution_count": 104,
   "metadata": {},
   "outputs": [
    {
     "data": {
      "text/plain": [
       "'{\"time\":1629166810138,\"text\":\"现在接线员是很好的英语\"}'"
      ]
     },
     "execution_count": 104,
     "metadata": {},
     "output_type": "execute_result"
    }
   ],
   "source": [
    "psdf.resp.loc[66]"
   ]
  },
  {
   "cell_type": "code",
   "execution_count": 54,
   "metadata": {},
   "outputs": [
    {
     "data": {
      "text/plain": [
       "'现在接线员是很好的英语'"
      ]
     },
     "execution_count": 54,
     "metadata": {},
     "output_type": "execute_result"
    }
   ],
   "source": [
    "psdf.resp.loc[66][30:-2]"
   ]
  },
  {
   "cell_type": "code",
   "execution_count": null,
   "metadata": {},
   "outputs": [],
   "source": [
    "psdf['text'] = psdf.text.fillna('nan')\n",
    "sdf = sdf.withColumn(\"resp\", F.to_json(\"resp\"))\n",
    "respuestas = sdf.pandas_api()\n",
    "respuestas = respuestas[['resp']]\n"
   ]
  },
  {
   "cell_type": "code",
   "execution_count": 185,
   "metadata": {},
   "outputs": [
    {
     "ename": "AttributeError",
     "evalue": "'DataFrame' object has no attribute 'text'",
     "output_type": "error",
     "traceback": [
      "\u001b[1;31m---------------------------------------------------------------------------\u001b[0m",
      "\u001b[1;31mKeyError\u001b[0m                                  Traceback (most recent call last)",
      "File \u001b[1;32mC:\\spark-3.5.0\\python\\pyspark\\pandas\\frame.py:13566\u001b[0m, in \u001b[0;36mDataFrame.__getattr__\u001b[1;34m(self, key)\u001b[0m\n\u001b[0;32m  13565\u001b[0m \u001b[39mtry\u001b[39;00m:\n\u001b[1;32m> 13566\u001b[0m     \u001b[39mreturn\u001b[39;00m \u001b[39mself\u001b[39;49m\u001b[39m.\u001b[39;49mloc[:, key]\n\u001b[0;32m  13567\u001b[0m \u001b[39mexcept\u001b[39;00m \u001b[39mKeyError\u001b[39;00m:\n",
      "File \u001b[1;32mC:\\spark-3.5.0\\python\\pyspark\\pandas\\indexing.py:487\u001b[0m, in \u001b[0;36mLocIndexerLike.__getitem__\u001b[1;34m(self, key)\u001b[0m\n\u001b[0;32m    480\u001b[0m cond, limit, remaining_index \u001b[39m=\u001b[39m \u001b[39mself\u001b[39m\u001b[39m.\u001b[39m_select_rows(rows_sel)\n\u001b[0;32m    481\u001b[0m (\n\u001b[0;32m    482\u001b[0m     column_labels,\n\u001b[0;32m    483\u001b[0m     data_spark_columns,\n\u001b[0;32m    484\u001b[0m     data_fields,\n\u001b[0;32m    485\u001b[0m     returns_series,\n\u001b[0;32m    486\u001b[0m     series_name,\n\u001b[1;32m--> 487\u001b[0m ) \u001b[39m=\u001b[39m \u001b[39mself\u001b[39;49m\u001b[39m.\u001b[39;49m_select_cols(cols_sel)\n\u001b[0;32m    489\u001b[0m \u001b[39mif\u001b[39;00m cond \u001b[39mis\u001b[39;00m \u001b[39mNone\u001b[39;00m \u001b[39mand\u001b[39;00m limit \u001b[39mis\u001b[39;00m \u001b[39mNone\u001b[39;00m \u001b[39mand\u001b[39;00m returns_series:\n",
      "File \u001b[1;32mC:\\spark-3.5.0\\python\\pyspark\\pandas\\indexing.py:334\u001b[0m, in \u001b[0;36mLocIndexerLike._select_cols\u001b[1;34m(self, cols_sel, missing_keys)\u001b[0m\n\u001b[0;32m    333\u001b[0m \u001b[39melse\u001b[39;00m:\n\u001b[1;32m--> 334\u001b[0m     \u001b[39mreturn\u001b[39;00m \u001b[39mself\u001b[39;49m\u001b[39m.\u001b[39;49m_select_cols_else(cols_sel, missing_keys)\n",
      "File \u001b[1;32mC:\\spark-3.5.0\\python\\pyspark\\pandas\\indexing.py:1392\u001b[0m, in \u001b[0;36mLocIndexer._select_cols_else\u001b[1;34m(self, cols_sel, missing_keys)\u001b[0m\n\u001b[0;32m   1391\u001b[0m     cols_sel \u001b[39m=\u001b[39m (cols_sel,)\n\u001b[1;32m-> 1392\u001b[0m \u001b[39mreturn\u001b[39;00m \u001b[39mself\u001b[39;49m\u001b[39m.\u001b[39;49m_get_from_multiindex_column(cols_sel, missing_keys)\n",
      "File \u001b[1;32mC:\\spark-3.5.0\\python\\pyspark\\pandas\\indexing.py:1210\u001b[0m, in \u001b[0;36mLocIndexer._get_from_multiindex_column\u001b[1;34m(self, key, missing_keys, labels, recursed)\u001b[0m\n\u001b[0;32m   1209\u001b[0m \u001b[39mif\u001b[39;00m missing_keys \u001b[39mis\u001b[39;00m \u001b[39mNone\u001b[39;00m:\n\u001b[1;32m-> 1210\u001b[0m     \u001b[39mraise\u001b[39;00m \u001b[39mKeyError\u001b[39;00m(k)\n\u001b[0;32m   1211\u001b[0m \u001b[39melse\u001b[39;00m:\n",
      "\u001b[1;31mKeyError\u001b[0m: 'text'",
      "\nDuring handling of the above exception, another exception occurred:\n",
      "\u001b[1;31mAttributeError\u001b[0m                            Traceback (most recent call last)",
      "\u001b[1;32mc:\\Users\\tinma\\OneDrive\\Escritorio\\HENRY\\Proyecto_Grupal_HENRY\\spark\\local_testing\\pyspark_testing.ipynb Celda 13\u001b[0m line \u001b[0;36m5\n\u001b[0;32m      <a href='vscode-notebook-cell:/c%3A/Users/tinma/OneDrive/Escritorio/HENRY/Proyecto_Grupal_HENRY/spark/local_testing/pyspark_testing.ipynb#X24sZmlsZQ%3D%3D?line=2'>3</a>\u001b[0m respuestas\u001b[39m.\u001b[39mspark\u001b[39m.\u001b[39mcache()\n\u001b[0;32m      <a href='vscode-notebook-cell:/c%3A/Users/tinma/OneDrive/Escritorio/HENRY/Proyecto_Grupal_HENRY/spark/local_testing/pyspark_testing.ipynb#X24sZmlsZQ%3D%3D?line=3'>4</a>\u001b[0m \u001b[39m# respuestas = respuestas.astype({'resp':str}).spark.cache()\u001b[39;00m\n\u001b[1;32m----> <a href='vscode-notebook-cell:/c%3A/Users/tinma/OneDrive/Escritorio/HENRY/Proyecto_Grupal_HENRY/spark/local_testing/pyspark_testing.ipynb#X24sZmlsZQ%3D%3D?line=4'>5</a>\u001b[0m respuestas[\u001b[39m'\u001b[39m\u001b[39mresp\u001b[39m\u001b[39m'\u001b[39m] \u001b[39m=\u001b[39m respuestas\u001b[39m.\u001b[39;49mtext\u001b[39m.\u001b[39mfillna(\u001b[39m'\u001b[39m\u001b[39mnan\u001b[39m\u001b[39m'\u001b[39m)\n\u001b[0;32m      <a href='vscode-notebook-cell:/c%3A/Users/tinma/OneDrive/Escritorio/HENRY/Proyecto_Grupal_HENRY/spark/local_testing/pyspark_testing.ipynb#X24sZmlsZQ%3D%3D?line=5'>6</a>\u001b[0m respuestas \u001b[39m=\u001b[39m respuestas\u001b[39m.\u001b[39mresp \u001b[39m!=\u001b[39m \u001b[39m'\u001b[39m\u001b[39mnan\u001b[39m\u001b[39m'\u001b[39m\n\u001b[0;32m      <a href='vscode-notebook-cell:/c%3A/Users/tinma/OneDrive/Escritorio/HENRY/Proyecto_Grupal_HENRY/spark/local_testing/pyspark_testing.ipynb#X24sZmlsZQ%3D%3D?line=6'>7</a>\u001b[0m resp_idx \u001b[39m=\u001b[39m \u001b[39msorted\u001b[39m(respuestas\u001b[39m.\u001b[39mindex\u001b[39m.\u001b[39mtolist())\n",
      "File \u001b[1;32mC:\\spark-3.5.0\\python\\pyspark\\pandas\\frame.py:13568\u001b[0m, in \u001b[0;36mDataFrame.__getattr__\u001b[1;34m(self, key)\u001b[0m\n\u001b[0;32m  13566\u001b[0m     \u001b[39mreturn\u001b[39;00m \u001b[39mself\u001b[39m\u001b[39m.\u001b[39mloc[:, key]\n\u001b[0;32m  13567\u001b[0m \u001b[39mexcept\u001b[39;00m \u001b[39mKeyError\u001b[39;00m:\n\u001b[1;32m> 13568\u001b[0m     \u001b[39mraise\u001b[39;00m \u001b[39mAttributeError\u001b[39;00m(\n\u001b[0;32m  13569\u001b[0m         \u001b[39m\"\u001b[39m\u001b[39m'\u001b[39m\u001b[39m%s\u001b[39;00m\u001b[39m'\u001b[39m\u001b[39m object has no attribute \u001b[39m\u001b[39m'\u001b[39m\u001b[39m%s\u001b[39;00m\u001b[39m'\u001b[39m\u001b[39m\"\u001b[39m \u001b[39m%\u001b[39m (\u001b[39mself\u001b[39m\u001b[39m.\u001b[39m\u001b[39m__class__\u001b[39m\u001b[39m.\u001b[39m\u001b[39m__name__\u001b[39m, key)\n\u001b[0;32m  13570\u001b[0m     )\n",
      "\u001b[1;31mAttributeError\u001b[0m: 'DataFrame' object has no attribute 'text'"
     ]
    }
   ],
   "source": [
    "psdf['text'] = psdf.text.fillna('nan')\n",
    "sdf = sdf.withColumn(\"resp\", F.to_json(\"resp\"))\n",
    "respuestas = sdf.pandas_api()\n",
    "respuestas = respuestas[['resp']]\n",
    "respuestas.spark.cache()\n",
    "respuestas['resp'] = respuestas.text.fillna('nan')\n",
    "respuestas = respuestas.resp != 'nan'\n",
    "resp_idx = sorted(respuestas.index.tolist())\n",
    "print(respuestas.head(2))\n",
    "resp_idx[:10]"
   ]
  },
  {
   "cell_type": "code",
   "execution_count": 77,
   "metadata": {},
   "outputs": [
    {
     "data": {
      "text/plain": [
       "'{\"time\":1629166810138,\"text\":\"The operator now speaks very good English.\"}'"
      ]
     },
     "execution_count": 77,
     "metadata": {},
     "output_type": "execute_result"
    }
   ],
   "source": [
    "psdf.resp.loc[66][:30] + f'{translation[\"translatedText\"]}.\"' + '}'"
   ]
  },
  {
   "cell_type": "code",
   "execution_count": 79,
   "metadata": {},
   "outputs": [
    {
     "data": {
      "text/plain": [
       "{'time': 1629166810138, 'text': 'The operator now speaks very good English.'}"
      ]
     },
     "execution_count": 79,
     "metadata": {},
     "output_type": "execute_result"
    }
   ],
   "source": [
    "ast.literal_eval(psdf.resp.loc[66][:30] + f'{translation[\"translatedText\"]}.\"' + '}')"
   ]
  },
  {
   "cell_type": "code",
   "execution_count": 144,
   "metadata": {},
   "outputs": [
    {
     "data": {
      "text/plain": [
       "'{\"time\":1631072651706,\"text\":\"Thanks so much for your business and for taking the time to post a great review. Glad to hear our crew was so helpful and friendly and that we were able to get the family outfitted quickly and efficiently. Look forward to hearing from you in the future.\"}'"
      ]
     },
     "execution_count": 144,
     "metadata": {},
     "output_type": "execute_result"
    }
   ],
   "source": [
    "respuestas.loc[30,'resp']"
   ]
  },
  {
   "cell_type": "code",
   "execution_count": null,
   "metadata": {},
   "outputs": [],
   "source": []
  },
  {
   "cell_type": "code",
   "execution_count": null,
   "metadata": {},
   "outputs": [],
   "source": [
    "for i in range(len(respuestas)):\n",
    "    respuestas['resp'].apply(lambda x: ast.literal_eval(x))\n",
    "    respuestas.loc[i,'resp_time'] = respuestas.loc[i,'resp']['time']\n",
    "    respuestas.loc[i,'resp_text'] = respuestas.loc[i,'resp']['text']\n",
    "respuestas"
   ]
  },
  {
   "cell_type": "code",
   "execution_count": null,
   "metadata": {},
   "outputs": [],
   "source": [
    "PROJECT_ID = 'fiery-protocol-399500'\n",
    "STATES = ['California'] #,'Texas'] # ,'New_York','Colorado','Georgia']\n",
    "schema = StructType([\n",
    "    StructField('user_id',StringType(),False),\n",
    "    StructField('name',StringType(),True),\n",
    "    StructField('time',LongType(),True),\n",
    "    StructField('rating',IntegerType(),True),\n",
    "    StructField('text',StringType(),True),\n",
    "    StructField('resp',StringType(),False),\n",
    "    StructField('gmap_id',StringType(),False)\n",
    "])\n",
    "\n",
    "\n",
    "\n",
    "psdfx = ps.DataFrame(columns=['gmap_id','user_id','name','time','text','rating','resp_time','resp_text'])\n",
    "for state in STATES:\n",
    "    i = 1\n",
    "    df_list = []\n",
    "    while True:\n",
    "        try:\n",
    "            # Leemos los archivos en un SPARK Data Frame para poder acceder directamente a GCS\n",
    "            sdf = spk.read.schema(schema).json(f'../data/Google Maps/estados/review-{state}/{i}.json')[['user_id','name','time','rating','text','resp','gmap_id']].cache()\n",
    "            sdf.selectExpr('cast(user_id as int) user_id')\n",
    "            sdf.selectExpr('cast(null as map<string,string>) resp')\n",
    "            # PANDAS API Data Frame: Paso intermedio para trabajar con los métodos de pandas pero con la potencia de spark, posteriormente guardaremos los datos en BQ después de \n",
    "            # las transformaciones...\n",
    "            # sdf.count()\n",
    "            psdf = sdf.pandas_api().spark.cache()\n",
    "            sdf.unpersist()\n",
    "            del sdf\n",
    "            gc.collect()\n",
    "            # psdf['time'] = ps.to_datetime(psdf['time'],unit='ms')\n",
    "            psdf['estado'] = state\n",
    "            psdf['resp'] = psdf.resp.fillna('nan')\n",
    "            psdf['text'] = psdf.text.fillna('nan')\n",
    "            df_list.append(psdf)\n",
    "            i += 1\n",
    "        except AnalysisException:\n",
    "            break\n",
    "\n",
    "    psdf = ps.concat(df_list,axis=0)\n",
    "    psdf = psdf.reset_index(drop=True)\n",
    "    del df_list\n",
    "    psdf.spark.cache()\n",
    "    print(f'pyspark.pandas data frame persisted - {state}')\n",
    "\n",
    "\n",
    "\n",
    "\n",
    "\n",
    "#     # Generamos el primer grupo de transformaciones para los datos de las reviews de Maps en PANDAS API. Queda la metadata y los archivos de Yelp.\n",
    "#     psdf['resp_time'] = ps.Series([],dtype='int64')\n",
    "#     print('serie resp_time creada')\n",
    "#     psdf['resp_text'] = ps.Series([],dtype='str')\n",
    "#     psdf.spark.cache()\n",
    "#     print('serie resp_text creada')\n",
    "#     for i in range(len(psdf)):\n",
    "#         print(i)\n",
    "#         if type(psdf.loc[i,'resp']) == dict:\n",
    "#             psdf.loc[i,'resp_time'] = psdf.loc[i,'resp']['time']\n",
    "#             psdf.loc[i,'resp_text'] = psdf.loc[i,'resp']['text']\n",
    "#         else:\n",
    "#             pass\n",
    "#     psdf.resp_time = psdf.resp_time.fillna(0).astype('int64')\n",
    "#     psdf.resp_text = psdf.resp_text.fillna('')\n",
    "#     psdf = psdf[['gmap_id','user_id','name','time','text','rating','resp_time','resp_text']]\n",
    "#     psdf.spark.cache()\n",
    "    \n",
    "#     # Aquí concatenamos todos los archivos del estado en curso a los demás estados, para obtener una tabla total de estados.\n",
    "#     psdfx = ps.concat(psdf,axis=0)\n",
    "#     psdf.spark.unpersist()\n",
    "#     del psdf\n",
    "#     gc.collect()\n",
    "#     print('pyspark.pandas data frame unpersisted and deleted')\n",
    "\n",
    "# # Convertimos el dataframe de Pandas API on Spark a un dataframe de Spark\n",
    "# sdf = psdfx.to_spark()\n",
    "# del psdfx\n",
    "# gc.collect()\n",
    "\n",
    "# # Guardamos las tablas concatenadas en archivos .json en GCS.\n",
    "# sdf.write.mode('overwrite').format('csv').save(f'../data/Google Maps/clean_test/estados/all_tables')"
   ]
  }
 ],
 "metadata": {
  "kernelspec": {
   "display_name": "Python 3",
   "language": "python",
   "name": "python3"
  },
  "language_info": {
   "codemirror_mode": {
    "name": "ipython",
    "version": 3
   },
   "file_extension": ".py",
   "mimetype": "text/x-python",
   "name": "python",
   "nbconvert_exporter": "python",
   "pygments_lexer": "ipython3",
   "version": "3.10.8"
  }
 },
 "nbformat": 4,
 "nbformat_minor": 2
}
