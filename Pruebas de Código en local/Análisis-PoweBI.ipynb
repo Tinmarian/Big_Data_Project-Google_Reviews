{
 "cells": [
  {
   "attachments": {},
   "cell_type": "markdown",
   "metadata": {},
   "source": [
    "### ETL con una porción de los datos, para iniciar borrador de Power Bi\n",
    "\n",
    "_En esta porción de código, se trabajará con una pequeña porción de los datos de Google Maps con el objetivo de identificar los principales datos necesarios para asi obtener una interfaz gráfica en power bi que brinde información relevante en función de los KPI seleccionados_."
   ]
  },
  {
   "cell_type": "code",
   "execution_count": 1,
   "metadata": {},
   "outputs": [],
   "source": [
    "import pandas as pd\n",
    "df= pd.read_csv('./Prueba_PowerBI/GoogleMapsDF (1).csv')"
   ]
  },
  {
   "cell_type": "code",
   "execution_count": 2,
   "metadata": {},
   "outputs": [
    {
     "data": {
      "text/html": [
       "<div>\n",
       "<style scoped>\n",
       "    .dataframe tbody tr th:only-of-type {\n",
       "        vertical-align: middle;\n",
       "    }\n",
       "\n",
       "    .dataframe tbody tr th {\n",
       "        vertical-align: top;\n",
       "    }\n",
       "\n",
       "    .dataframe thead th {\n",
       "        text-align: right;\n",
       "    }\n",
       "</style>\n",
       "<table border=\"1\" class=\"dataframe\">\n",
       "  <thead>\n",
       "    <tr style=\"text-align: right;\">\n",
       "      <th></th>\n",
       "      <th>name_x</th>\n",
       "      <th>gmap_id</th>\n",
       "      <th>address</th>\n",
       "      <th>avg_rating</th>\n",
       "      <th>user_id</th>\n",
       "      <th>name_y</th>\n",
       "      <th>time</th>\n",
       "      <th>rating</th>\n",
       "      <th>text</th>\n",
       "      <th>pics</th>\n",
       "      <th>resp</th>\n",
       "    </tr>\n",
       "  </thead>\n",
       "  <tbody>\n",
       "    <tr>\n",
       "      <th>0</th>\n",
       "      <td>Subway</td>\n",
       "      <td>0x80c364f7c3f4593d:0x48478cfad03fdbcb</td>\n",
       "      <td>Subway, 16251 N D St, Victorville, CA 92394</td>\n",
       "      <td>4.2</td>\n",
       "      <td>102713779159148672215</td>\n",
       "      <td>william mj cummins</td>\n",
       "      <td>1624067249657</td>\n",
       "      <td>1</td>\n",
       "      <td>I went to this subway today they only had whea...</td>\n",
       "      <td>NaN</td>\n",
       "      <td>NaN</td>\n",
       "    </tr>\n",
       "    <tr>\n",
       "      <th>1</th>\n",
       "      <td>Subway</td>\n",
       "      <td>0x80c364f7c3f4593d:0x48478cfad03fdbcb</td>\n",
       "      <td>Subway, 16251 N D St, Victorville, CA 92394</td>\n",
       "      <td>4.2</td>\n",
       "      <td>109191138258127680300</td>\n",
       "      <td>Tracy Wisneski</td>\n",
       "      <td>1533858489447</td>\n",
       "      <td>1</td>\n",
       "      <td>I just went here today and i have no idea what...</td>\n",
       "      <td>[{'url': ['https://lh5.googleusercontent.com/p...</td>\n",
       "      <td>NaN</td>\n",
       "    </tr>\n",
       "    <tr>\n",
       "      <th>2</th>\n",
       "      <td>Subway</td>\n",
       "      <td>0x80c364f7c3f4593d:0x48478cfad03fdbcb</td>\n",
       "      <td>Subway, 16251 N D St, Victorville, CA 92394</td>\n",
       "      <td>4.2</td>\n",
       "      <td>102235696076480343497</td>\n",
       "      <td>Emilee Clarke</td>\n",
       "      <td>1574113648966</td>\n",
       "      <td>4</td>\n",
       "      <td>I specifically liked the veggies sub that was ...</td>\n",
       "      <td>NaN</td>\n",
       "      <td>NaN</td>\n",
       "    </tr>\n",
       "  </tbody>\n",
       "</table>\n",
       "</div>"
      ],
      "text/plain": [
       "   name_x                                gmap_id  \\\n",
       "0  Subway  0x80c364f7c3f4593d:0x48478cfad03fdbcb   \n",
       "1  Subway  0x80c364f7c3f4593d:0x48478cfad03fdbcb   \n",
       "2  Subway  0x80c364f7c3f4593d:0x48478cfad03fdbcb   \n",
       "\n",
       "                                       address  avg_rating  \\\n",
       "0  Subway, 16251 N D St, Victorville, CA 92394         4.2   \n",
       "1  Subway, 16251 N D St, Victorville, CA 92394         4.2   \n",
       "2  Subway, 16251 N D St, Victorville, CA 92394         4.2   \n",
       "\n",
       "                 user_id              name_y           time  rating  \\\n",
       "0  102713779159148672215  william mj cummins  1624067249657       1   \n",
       "1  109191138258127680300      Tracy Wisneski  1533858489447       1   \n",
       "2  102235696076480343497       Emilee Clarke  1574113648966       4   \n",
       "\n",
       "                                                text  \\\n",
       "0  I went to this subway today they only had whea...   \n",
       "1  I just went here today and i have no idea what...   \n",
       "2  I specifically liked the veggies sub that was ...   \n",
       "\n",
       "                                                pics resp  \n",
       "0                                                NaN  NaN  \n",
       "1  [{'url': ['https://lh5.googleusercontent.com/p...  NaN  \n",
       "2                                                NaN  NaN  "
      ]
     },
     "execution_count": 2,
     "metadata": {},
     "output_type": "execute_result"
    }
   ],
   "source": [
    "# Se analiza los datos básicos que contiene el dataframe GoogleMapsDF\n",
    "\n",
    "df.head(3)"
   ]
  },
  {
   "cell_type": "code",
   "execution_count": 4,
   "metadata": {},
   "outputs": [
    {
     "data": {
      "text/html": [
       "<div>\n",
       "<style scoped>\n",
       "    .dataframe tbody tr th:only-of-type {\n",
       "        vertical-align: middle;\n",
       "    }\n",
       "\n",
       "    .dataframe tbody tr th {\n",
       "        vertical-align: top;\n",
       "    }\n",
       "\n",
       "    .dataframe thead th {\n",
       "        text-align: right;\n",
       "    }\n",
       "</style>\n",
       "<table border=\"1\" class=\"dataframe\">\n",
       "  <thead>\n",
       "    <tr style=\"text-align: right;\">\n",
       "      <th></th>\n",
       "      <th>avg_rating</th>\n",
       "      <th>time</th>\n",
       "      <th>rating</th>\n",
       "    </tr>\n",
       "  </thead>\n",
       "  <tbody>\n",
       "    <tr>\n",
       "      <th>count</th>\n",
       "      <td>1584.000000</td>\n",
       "      <td>1.584000e+03</td>\n",
       "      <td>1584.000000</td>\n",
       "    </tr>\n",
       "    <tr>\n",
       "      <th>mean</th>\n",
       "      <td>3.490593</td>\n",
       "      <td>1.551077e+12</td>\n",
       "      <td>3.731061</td>\n",
       "    </tr>\n",
       "    <tr>\n",
       "      <th>std</th>\n",
       "      <td>0.512934</td>\n",
       "      <td>5.277344e+10</td>\n",
       "      <td>1.443707</td>\n",
       "    </tr>\n",
       "    <tr>\n",
       "      <th>min</th>\n",
       "      <td>1.300000</td>\n",
       "      <td>1.302213e+12</td>\n",
       "      <td>1.000000</td>\n",
       "    </tr>\n",
       "    <tr>\n",
       "      <th>25%</th>\n",
       "      <td>3.100000</td>\n",
       "      <td>1.524888e+12</td>\n",
       "      <td>3.000000</td>\n",
       "    </tr>\n",
       "    <tr>\n",
       "      <th>50%</th>\n",
       "      <td>3.700000</td>\n",
       "      <td>1.557177e+12</td>\n",
       "      <td>4.000000</td>\n",
       "    </tr>\n",
       "    <tr>\n",
       "      <th>75%</th>\n",
       "      <td>3.800000</td>\n",
       "      <td>1.589792e+12</td>\n",
       "      <td>5.000000</td>\n",
       "    </tr>\n",
       "    <tr>\n",
       "      <th>max</th>\n",
       "      <td>4.500000</td>\n",
       "      <td>1.630000e+12</td>\n",
       "      <td>5.000000</td>\n",
       "    </tr>\n",
       "  </tbody>\n",
       "</table>\n",
       "</div>"
      ],
      "text/plain": [
       "        avg_rating          time       rating\n",
       "count  1584.000000  1.584000e+03  1584.000000\n",
       "mean      3.490593  1.551077e+12     3.731061\n",
       "std       0.512934  5.277344e+10     1.443707\n",
       "min       1.300000  1.302213e+12     1.000000\n",
       "25%       3.100000  1.524888e+12     3.000000\n",
       "50%       3.700000  1.557177e+12     4.000000\n",
       "75%       3.800000  1.589792e+12     5.000000\n",
       "max       4.500000  1.630000e+12     5.000000"
      ]
     },
     "execution_count": 4,
     "metadata": {},
     "output_type": "execute_result"
    }
   ],
   "source": [
    "df.describe()"
   ]
  },
  {
   "cell_type": "code",
   "execution_count": 5,
   "metadata": {},
   "outputs": [
    {
     "name": "stdout",
     "output_type": "stream",
     "text": [
      "<class 'pandas.core.frame.DataFrame'>\n",
      "RangeIndex: 1584 entries, 0 to 1583\n",
      "Data columns (total 11 columns):\n",
      " #   Column      Non-Null Count  Dtype  \n",
      "---  ------      --------------  -----  \n",
      " 0   name_x      1584 non-null   object \n",
      " 1   gmap_id     1584 non-null   object \n",
      " 2   address     1584 non-null   object \n",
      " 3   avg_rating  1584 non-null   float64\n",
      " 4   user_id     1584 non-null   object \n",
      " 5   name_y      1584 non-null   object \n",
      " 6   time        1584 non-null   int64  \n",
      " 7   rating      1584 non-null   int64  \n",
      " 8   text        846 non-null    object \n",
      " 9   pics        26 non-null     object \n",
      " 10  resp        13 non-null     object \n",
      "dtypes: float64(1), int64(2), object(8)\n",
      "memory usage: 136.2+ KB\n"
     ]
    }
   ],
   "source": [
    "# Identificamos la cantidad de datos nulos en el dataframe. Teniendo en cuenta que las columnas pic\n",
    "# y resp contienen más del 80% de datos nulos procedemos a eliminarlos ya que no brinda información\n",
    "#relevante para el análisis\n",
    "df.info()"
   ]
  },
  {
   "cell_type": "code",
   "execution_count": 6,
   "metadata": {},
   "outputs": [
    {
     "name": "stdout",
     "output_type": "stream",
     "text": [
      "<class 'pandas.core.frame.DataFrame'>\n",
      "RangeIndex: 1584 entries, 0 to 1583\n",
      "Data columns (total 11 columns):\n",
      " #   Column      Non-Null Count  Dtype  \n",
      "---  ------      --------------  -----  \n",
      " 0   name_x      1584 non-null   object \n",
      " 1   gmap_id     1584 non-null   object \n",
      " 2   address     1584 non-null   object \n",
      " 3   avg_rating  1584 non-null   float64\n",
      " 4   user_id     1584 non-null   object \n",
      " 5   name_y      1584 non-null   object \n",
      " 6   time        1584 non-null   int64  \n",
      " 7   rating      1584 non-null   int64  \n",
      " 8   text        846 non-null    object \n",
      " 9   pics        26 non-null     object \n",
      " 10  resp        13 non-null     object \n",
      "dtypes: float64(1), int64(2), object(8)\n",
      "memory usage: 136.2+ KB\n"
     ]
    }
   ],
   "source": [
    "# Se eliminan las columnas pics y resp\n",
    "\n",
    "#df = df.drop(columns=['pics', 'resp'])\n",
    "#Revisamos como quedan el nuevo dataframe\n",
    "\n",
    "df.info()"
   ]
  },
  {
   "attachments": {},
   "cell_type": "markdown",
   "metadata": {},
   "source": [
    "#### Análisis de sentimientos\n",
    "\n",
    "Con la columna Text que es en donde se encuentran las reseñas realizadas por los usuarios realizamos un análisis de sentimientos indenficando si es una reseña positiva o negativa."
   ]
  },
  {
   "cell_type": "code",
   "execution_count": 7,
   "metadata": {},
   "outputs": [
    {
     "data": {
      "text/plain": [
       "0      -0.130769\n",
       "1       0.238095\n",
       "2       0.468750\n",
       "3       0.242208\n",
       "4       0.023485\n",
       "          ...   \n",
       "1579    0.000000\n",
       "1580    0.000000\n",
       "1581    0.000000\n",
       "1582    0.000000\n",
       "1583    0.000000\n",
       "Name: sentiment, Length: 1584, dtype: float64"
      ]
     },
     "execution_count": 7,
     "metadata": {},
     "output_type": "execute_result"
    }
   ],
   "source": [
    "from textblob import TextBlob\n",
    "\n",
    "# Convierte los valores en la columna 'text' a cadenas de texto\n",
    "df['text'] = df['text'].astype(str)\n",
    "\n",
    "# Aplica el análisis de sentimientos, mostrando el resultado en la columna sentiment\n",
    "df['sentiment'] = df['text'].apply(lambda x: TextBlob(x).sentiment.polarity)\n",
    "\n",
    "df['sentiment']\n",
    "# Se muestran los sentimientos en una escala de -0 a 0.\n"
   ]
  },
  {
   "cell_type": "code",
   "execution_count": 8,
   "metadata": {},
   "outputs": [
    {
     "data": {
      "text/plain": [
       "0       negativo\n",
       "1       positivo\n",
       "2       positivo\n",
       "3       positivo\n",
       "4       positivo\n",
       "          ...   \n",
       "1579    negativo\n",
       "1580    negativo\n",
       "1581    negativo\n",
       "1582    negativo\n",
       "1583    negativo\n",
       "Name: sentiment_label, Length: 1584, dtype: object"
      ]
     },
     "execution_count": 8,
     "metadata": {},
     "output_type": "execute_result"
    }
   ],
   "source": [
    "\n",
    "# Aplicamos una función para etiquetar los valores de polaridad como \"positivo\" o \"negativo\"\n",
    "def label_sentiment(polarity):\n",
    "    if polarity > 0:\n",
    "        return \"positivo\"\n",
    "    else:\n",
    "        return \"negativo\"\n",
    "\n",
    "# Aplicar la función de etiquetado a la columna 'sentiment' y crear una nueva columna 'sentiment_label'\n",
    "df['sentiment_label'] = df['sentiment'].apply(label_sentiment)\n",
    "df['sentiment_label']"
   ]
  },
  {
   "attachments": {},
   "cell_type": "markdown",
   "metadata": {},
   "source": [
    "### Búsqueda de palabras específcas\n",
    "Dentro de la columna 'text' que contiene las reseñas, buscamos la presencia de las palabras específicas (clean, food, Time) para así identificar su relevancia para el análisis. "
   ]
  },
  {
   "cell_type": "code",
   "execution_count": 11,
   "metadata": {},
   "outputs": [],
   "source": [
    "import pandas as pd\n",
    "\n",
    "\n",
    "\n",
    "# Definir las palabras clave\n",
    "keywords = ['clean', 'food', 'time']\n",
    "\n",
    "# Contar la presencia de las palabras clave en cada reseña\n",
    "for keyword in keywords:\n",
    "    df[keyword] = df['text'].str.lower().str.contains(keyword).astype(int)\n"
   ]
  },
  {
   "cell_type": "code",
   "execution_count": 12,
   "metadata": {},
   "outputs": [
    {
     "data": {
      "image/png": "[encoded data removed]",
      "text/plain": [
       "<Figure size 1000x600 with 1 Axes>"
      ]
     },
     "metadata": {},
     "output_type": "display_data"
    }
   ],
   "source": [
    "import matplotlib.pyplot as plt\n",
    "\n",
    "# Contar la cantidad de reseñas que mencionan cada palabra clave\n",
    "keyword_counts = df[keywords].sum()\n",
    "\n",
    "# Crear un gráfico de barras\n",
    "plt.figure(figsize=(10, 6))\n",
    "plt.bar(keyword_counts.index, keyword_counts.values)\n",
    "plt.xlabel('Palabras Clave')\n",
    "plt.ylabel('Cantidad de Reseñas')\n",
    "plt.title('Presencia de Palabras Clave en Reseñas')\n",
    "plt.xticks(rotation=45)\n",
    "plt.tight_layout()\n",
    "\n",
    "# Mostrar el gráfico\n",
    "plt.show()\n"
   ]
  },
  {
   "attachments": {},
   "cell_type": "markdown",
   "metadata": {},
   "source": [
    "Dentro de la columna text se identifica que la palabras que más se repiten del conjunto de palabras escogidas, son time y food lo cual quiere decir que ambas son relavantes para el análisis"
   ]
  },
  {
   "attachments": {},
   "cell_type": "markdown",
   "metadata": {},
   "source": [
    "### Análisis Geográfico\n",
    "\n",
    "A continuación pasamos a extraer los datos que contiene la columna \"address\" para que así en el powerbi podamos realizar una selección por los cada uno de los datos que contiene el dataframe."
   ]
  },
  {
   "cell_type": "code",
   "execution_count": null,
   "metadata": {},
   "outputs": [
    {
     "data": {
      "text/plain": [
       "0       Subway, 16251 N D St, Victorville, CA 92394\n",
       "1       Subway, 16251 N D St, Victorville, CA 92394\n",
       "2       Subway, 16251 N D St, Victorville, CA 92394\n",
       "3       Subway, 16251 N D St, Victorville, CA 92394\n",
       "4       Subway, 16251 N D St, Victorville, CA 92394\n",
       "                           ...                     \n",
       "1579     Subway, 210 E Central Ave, Nixon, TX 78140\n",
       "1580     Subway, 210 E Central Ave, Nixon, TX 78140\n",
       "1581     Subway, 210 E Central Ave, Nixon, TX 78140\n",
       "1582     Subway, 210 E Central Ave, Nixon, TX 78140\n",
       "1583     Subway, 210 E Central Ave, Nixon, TX 78140\n",
       "Name: address, Length: 1584, dtype: object"
      ]
     },
     "execution_count": 11,
     "metadata": {},
     "output_type": "execute_result"
    }
   ],
   "source": [
    "df['address']"
   ]
  },
  {
   "cell_type": "code",
   "execution_count": null,
   "metadata": {},
   "outputs": [
    {
     "data": {
      "text/plain": [
       "0       CA 92394\n",
       "1       CA 92394\n",
       "2       CA 92394\n",
       "3       CA 92394\n",
       "4       CA 92394\n",
       "          ...   \n",
       "1579    TX 78140\n",
       "1580    TX 78140\n",
       "1581    TX 78140\n",
       "1582    TX 78140\n",
       "1583    TX 78140\n",
       "Name: zipcode, Length: 1584, dtype: object"
      ]
     },
     "execution_count": 13,
     "metadata": {},
     "output_type": "execute_result"
    }
   ],
   "source": [
    "# Divide la columna 'address' en dos partes usando rsplit y obtiene la última parte\n",
    "df['zipcode'] = df['address'].str.rsplit(',', 1).str[-1].str.strip()\n",
    "df['zipcode']"
   ]
  },
  {
   "cell_type": "code",
   "execution_count": null,
   "metadata": {},
   "outputs": [
    {
     "data": {
      "text/plain": [
       "0       CA 92394\n",
       "1       CA 92394\n",
       "2       CA 92394\n",
       "3       CA 92394\n",
       "4       CA 92394\n",
       "          ...   \n",
       "1579    TX 78140\n",
       "1580    TX 78140\n",
       "1581    TX 78140\n",
       "1582    TX 78140\n",
       "1583    TX 78140\n",
       "Name: state, Length: 1584, dtype: object"
      ]
     },
     "execution_count": 14,
     "metadata": {},
     "output_type": "execute_result"
    }
   ],
   "source": [
    "# Utiliza str.split() para dividir la columna 'address' en partes utilizando la coma como separador\n",
    "df['address_parts'] = df['address'].str.split(',')\n",
    "\n",
    "# Extrae el último elemento de cada lista y aplica str.strip() para eliminar espacios en blanco adicionales\n",
    "df['state'] = df['address_parts'].apply(lambda x: x[-1].strip())\n",
    "df['state']"
   ]
  },
  {
   "cell_type": "code",
   "execution_count": null,
   "metadata": {},
   "outputs": [
    {
     "data": {
      "text/plain": [
       "0       CA\n",
       "1       CA\n",
       "2       CA\n",
       "3       CA\n",
       "4       CA\n",
       "        ..\n",
       "1579    TX\n",
       "1580    TX\n",
       "1581    TX\n",
       "1582    TX\n",
       "1583    TX\n",
       "Name: state_code, Length: 1584, dtype: object"
      ]
     },
     "execution_count": 16,
     "metadata": {},
     "output_type": "execute_result"
    }
   ],
   "source": [
    "# Utiliza str.extract() con una expresión regular para capturar el código de estado (por ejemplo, \"CA\")\n",
    "df['state_code'] = df['state'].str.extract(r'([A-Z]{2})')\n",
    "df['state_code']"
   ]
  },
  {
   "cell_type": "code",
   "execution_count": null,
   "metadata": {},
   "outputs": [
    {
     "data": {
      "image/png": "[encoded data removed]",
      "text/plain": [
       "<Figure size 1000x600 with 1 Axes>"
      ]
     },
     "metadata": {},
     "output_type": "display_data"
    }
   ],
   "source": [
    "import pandas as pd\n",
    "import matplotlib.pyplot as plt\n",
    "\n",
    "\n",
    "# Calcular la frecuencia de cada estado\n",
    "state_counts = df['state_code'].value_counts()\n",
    "\n",
    "# Crear un gráfico de barras\n",
    "plt.figure(figsize=(10, 6))\n",
    "state_counts.plot(kind='bar')\n",
    "plt.xlabel('Estado')\n",
    "plt.ylabel('Frecuencia')\n",
    "plt.title('Frecuencia de Estados')\n",
    "plt.xticks(rotation=45)\n",
    "plt.tight_layout()\n",
    "\n",
    "# Mostrar el gráfico\n",
    "plt.show()\n"
   ]
  },
  {
   "cell_type": "code",
   "execution_count": null,
   "metadata": {},
   "outputs": [],
   "source": [
    "#El nuevo dataframe lo pasamos a archivo .csv para \n",
    "#luego realizar el análisis de sus datos en Powerbi\n",
    "nombre_archivo= 'PowerBi_1.csv'\n",
    "df.to_csv(nombre_archivo, index= False)"
   ]
  }
 ],
 "metadata": {
  "kernelspec": {
   "display_name": "base",
   "language": "python",
   "name": "python3"
  },
  "language_info": {
   "codemirror_mode": {
    "name": "ipython",
    "version": 3
   },
   "file_extension": ".py",
   "mimetype": "text/x-python",
   "name": "python",
   "nbconvert_exporter": "python",
   "pygments_lexer": "ipython3",
   "version": "3.9.13"
  },
  "orig_nbformat": 4,
  "vscode": {
   "interpreter": {
    "hash": "701d4f28dcd0866722f5108a3a4cbcd08882d26398b6d44117e791d7b8102912"
   }
  }
 },
 "nbformat": 4,
 "nbformat_minor": 2
}
