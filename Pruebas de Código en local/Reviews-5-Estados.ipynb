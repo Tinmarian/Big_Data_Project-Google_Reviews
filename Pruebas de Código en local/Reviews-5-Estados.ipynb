{
 "cells": [
  {
   "cell_type": "code",
   "execution_count": null,
   "metadata": {},
   "outputs": [],
   "source": [
    "import pandas as pd\n",
    "\n",
    "# Lista de rutas de los archivos CSV\n",
    "file_paths = [\n",
    "    \"C:/Users/Fede/Documents/Henry/Proyecto 3/Pruebas de Código en local/review-Colorado-Final.csv\",\n",
    "    \"C:/Users/Fede/Documents/Henry/Proyecto 3/Pruebas de Código en local/ReviewCalifornia-GoogleMaps.csv\",\n",
    "    \"C:/Users/Fede/Documents/Henry/Proyecto 3/Pruebas de Código en local/review-Georgia-Final.csv\",\n",
    "    \"C:/Users/Fede/Documents/Henry/Proyecto 3/Pruebas de Código en local/review-New_York-Final.csv\",\n",
    "    \"C:/Users/Fede/Documents/Henry/Proyecto 3/Pruebas de Código en local/review-Colorado-Final.csv\",\n",
    "    \"C:/Users/Fede/Documents/Henry/Proyecto 3/Pruebas de Código en local/review-Texas-Final.csv\"\n",
    "]\n",
    "\n",
    "# Lista para almacenar los DataFrames individuales de cada archivo\n",
    "dfs = []\n",
    "\n",
    "# Cargar cada archivo CSV en un DataFrame y agregarlo a la lista dfs\n",
    "for file_path in file_paths:\n",
    "    df = pd.read_csv(file_path)\n",
    "    dfs.append(df)\n",
    "\n",
    "# Concatenar los DataFrames en uno solo\n",
    "ReviewsEstados = pd.concat(dfs, ignore_index=True)\n",
    "\n",
    "# Mostrar el contenido del DataFrame utilizando display\n",
    "display(ReviewsEstados)\n",
    "\n",
    "\n",
    "\n",
    "\n"
   ]
  }
 ],
 "metadata": {
  "language_info": {
   "name": "python"
  },
  "orig_nbformat": 4
 },
 "nbformat": 4,
 "nbformat_minor": 2
}
