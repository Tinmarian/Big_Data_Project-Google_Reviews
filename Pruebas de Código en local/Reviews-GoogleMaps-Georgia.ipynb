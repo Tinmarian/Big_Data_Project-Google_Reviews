{
 "cells": [
  {
   "cell_type": "code",
   "execution_count": null,
   "metadata": {},
   "outputs": [],
   "source": [
    "#Concatenar las Reviews de GoogleMaps de Georgia"
   ]
  },
  {
   "cell_type": "code",
   "execution_count": null,
   "metadata": {},
   "outputs": [],
   "source": [
    "import pandas as pd\n",
    "import json\n",
    "import os\n",
    "\n",
    "# Lista de rutas de archivos JSON\n",
    "rutas_archivos = [\n",
    "    \"C:/Users/Fede/Documents/Henry/Proyecto 3/Google maps/Reviews-estados/review-Georgia/1.json\",\n",
    "    \"C:/Users/Fede/Documents/Henry/Proyecto 3/Google maps/Reviews-estados/review-Georgia/2.json\",\n",
    "    \"C:/Users/Fede/Documents/Henry/Proyecto 3/Google maps/Reviews-estados/review-Georgia/3.json\",\n",
    "    \"C:/Users/Fede/Documents/Henry/Proyecto 3/Google maps/Reviews-estados/review-Georgia/4.json\",\n",
    "    \"C:/Users/Fede/Documents/Henry/Proyecto 3/Google maps/Reviews-estados/review-Georgia/5.json\",\n",
    "    \"C:/Users/Fede/Documents/Henry/Proyecto 3/Google maps/Reviews-estados/review-Georgia/6.json\",\n",
    "    \"C:/Users/Fede/Documents/Henry/Proyecto 3/Google maps/Reviews-estados/review-Georgia/7.json\",\n",
    "    \"C:/Users/Fede/Documents/Henry/Proyecto 3/Google maps/Reviews-estados/review-Georgia/8.json\",\n",
    "    \"C:/Users/Fede/Documents/Henry/Proyecto 3/Google maps/Reviews-estados/review-Georgia/9.json\",\n",
    "    \"C:/Users/Fede/Documents/Henry/Proyecto 3/Google maps/Reviews-estados/review-Georgia/10.json\",\n",
    "    \"C:/Users/Fede/Documents/Henry/Proyecto 3/Google maps/Reviews-estados/review-Georgia/11.json\",\n",
    "    \"C:/Users/Fede/Documents/Henry/Proyecto 3/Google maps/Reviews-estados/review-Georgia/12.json\",\n",
    "    \"C:/Users/Fede/Documents/Henry/Proyecto 3/Google maps/Reviews-estados/review-Georgia/13.json\",\n",
    "]\n",
    "\n",
    "# Crear una lista para almacenar los datos JSON\n",
    "datos_json = []\n",
    "\n",
    "# Recorrer todas las rutas de archivos y cargar los datos JSON\n",
    "for ruta_archivo in rutas_archivos:\n",
    "    try:\n",
    "        with open(ruta_archivo, 'r', encoding='utf-8') as archivo:\n",
    "            # Leer líneas del archivo\n",
    "            lineas = archivo.readlines()\n",
    "\n",
    "        for linea in lineas:\n",
    "            # Intentar cargar cada línea como un objeto JSON y agregarlo a la lista\n",
    "            try:\n",
    "                datos_json.append(json.loads(linea))\n",
    "            except json.JSONDecodeError as e:\n",
    "                print(f\"Error al decodificar la línea como JSON en {ruta_archivo}: {e}\")\n",
    "    except FileNotFoundError:\n",
    "        print(f\"El archivo JSON no se encontró en la ruta especificada: {ruta_archivo}\")\n",
    "    except Exception as e:\n",
    "        print(f\"Ocurrió un error: {e}\")\n",
    "\n",
    "# Crear un DataFrame a partir de la lista de datos JSON\n",
    "df_review_Georgia_final = pd.DataFrame(datos_json)\n",
    "\n",
    "# Mostrar el DataFrame\n",
    "from IPython.display import display\n",
    "display(df_review_Georgia_final)\n",
    "\n",
    "#Guardar el DataFrame en un archivo CSV\n",
    "df_review_Georgia_final.to_csv(\"review-Georgia-Final.csv\", index=False)"
   ]
  }
 ],
 "metadata": {
  "language_info": {
   "name": "python"
  },
  "orig_nbformat": 4
 },
 "nbformat": 4,
 "nbformat_minor": 2
}
