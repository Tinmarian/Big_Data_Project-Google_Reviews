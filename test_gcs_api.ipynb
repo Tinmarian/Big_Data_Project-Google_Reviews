{
 "cells": [
  {
   "cell_type": "code",
   "execution_count": 6,
   "metadata": {},
   "outputs": [],
   "source": [
    "from google.cloud import storage\n",
    "\n",
    "from google.oauth2 import service_account\n",
    "\n",
    "SCOPES = ['https://www.googleapis.com/auth/drive.readonly','https://www.googleapis.com/auth/devstorage.full_control','https://www.googleapis.com/auth/drive']\n",
    "SERVICE_ACCOUNT_FILE = './credentials/fiery-protocol-399500-f2566dd92ef4.json'\n",
    "\n",
    "creds = service_account.Credentials.from_service_account_file(\n",
    "        SERVICE_ACCOUNT_FILE, scopes=SCOPES)\n",
    "\n",
    "def list_blobs(bucket_name):\n",
    "    \"\"\"Lists all the blobs in the bucket.\"\"\"\n",
    "    # bucket_name = \"your-bucket-name\"\n",
    "\n",
    "    storage_client = storage.Client(credentials=creds)\n",
    "\n",
    "    # Note: Client.list_blobs requires at least package version 1.17.0.\n",
    "    blobs = storage_client.list_blobs(bucket_name)\n",
    "\n",
    "    # Note: The call returns a response only when the iterator is consumed.\n",
    "    for blob in blobs:\n",
    "        print(blob.name)"
   ]
  },
  {
   "cell_type": "code",
   "execution_count": 9,
   "metadata": {},
   "outputs": [
    {
     "name": "stdout",
     "output_type": "stream",
     "text": [
      "business.pkl\n",
      "metadata_11.json\n",
      "metadata_3.json\n",
      "metadata_4.json\n",
      "metadata_5.json\n",
      "metadata_9.json\n",
      "review.json\n",
      "tip.json\n",
      "user.parquet\n"
     ]
    }
   ],
   "source": [
    "list_blobs('data-lake-henry')"
   ]
  },
  {
   "cell_type": "code",
   "execution_count": 129,
   "metadata": {},
   "outputs": [],
   "source": [
    "import numpy as np\n",
    "import pandas as pd\n",
    "\n",
    "df = pd.read_json('data/Google Maps/estados/review-Texas/1.json', lines=True)\n",
    "df.user_id = df.user_id.astype(str)\n",
    "df.user_id = df.user_id.apply(lambda x: x.replace('e+20','').replace('.',''))\n",
    "df.user_id = df.user_id.apply(lambda x: int(x))\n",
    "df.name = df.name.astype(str)\n",
    "df.text = df.text.astype(str)\n",
    "df.pics = df.pics.astype(str)\n",
    "df.gmap_id = df.gmap_id.astype(str)\n",
    "df.dtypes\n",
    "\n",
    "df['resp_time'] = pd.Series()\n",
    "df['resp_text'] = pd.Series()\n",
    "for i in range(len(df)):\n",
    "    # print(i)\n",
    "    if type(df.resp[i]) == dict:\n",
    "        df.loc[i,'resp_time'] = df.resp[i]['time']\n",
    "        df.loc[i,'resp_text'] = df.resp[i]['text']\n",
    "    else:\n",
    "        df.loc[i,'resp_time'] = 1\n",
    "        df.loc[i,'resp_text'] = ''\n",
    "df.resp_time = df.resp_time.fillna(0).apply(lambda x: int(x))\n",
    "df.resp_text = df.resp_text.fillna('')\n",
    "df = df[['user_id', 'name', 'time', 'rating', 'text', 'gmap_id', 'resp_time', 'resp_text']]\n",
    "\n",
    "ndjson = df.to_json(orient='records',lines=True) # 'data/Google Maps/estados/review-Texas/1_test.json',\n",
    "with open('data/Google Maps/estados/review-Texas/1_test.ndjson','w') as f:\n",
    "    f.write(ndjson)"
   ]
  }
 ],
 "metadata": {
  "kernelspec": {
   "display_name": "Python 3",
   "language": "python",
   "name": "python3"
  },
  "language_info": {
   "codemirror_mode": {
    "name": "ipython",
    "version": 3
   },
   "file_extension": ".py",
   "mimetype": "text/x-python",
   "name": "python",
   "nbconvert_exporter": "python",
   "pygments_lexer": "ipython3",
   "version": "3.10.8"
  },
  "orig_nbformat": 4
 },
 "nbformat": 4,
 "nbformat_minor": 2
}
