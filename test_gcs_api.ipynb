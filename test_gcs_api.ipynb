{
 "cells": [
  {
   "cell_type": "code",
   "execution_count": 6,
   "metadata": {},
   "outputs": [],
   "source": [
    "from google.cloud import storage\n",
    "\n",
    "from google.oauth2 import service_account\n",
    "\n",
    "SCOPES = ['https://www.googleapis.com/auth/drive.readonly','https://www.googleapis.com/auth/devstorage.full_control','https://www.googleapis.com/auth/drive']\n",
    "SERVICE_ACCOUNT_FILE = './credentials/fiery-protocol-399500-f2566dd92ef4.json'\n",
    "\n",
    "creds = service_account.Credentials.from_service_account_file(\n",
    "        SERVICE_ACCOUNT_FILE, scopes=SCOPES)\n",
    "\n",
    "def list_blobs(bucket_name):\n",
    "    \"\"\"Lists all the blobs in the bucket.\"\"\"\n",
    "    # bucket_name = \"your-bucket-name\"\n",
    "\n",
    "    storage_client = storage.Client(credentials=creds)\n",
    "\n",
    "    # Note: Client.list_blobs requires at least package version 1.17.0.\n",
    "    blobs = storage_client.list_blobs(bucket_name)\n",
    "\n",
    "    # Note: The call returns a response only when the iterator is consumed.\n",
    "    for blob in blobs:\n",
    "        print(blob.name)"
   ]
  },
  {
   "cell_type": "code",
   "execution_count": 9,
   "metadata": {},
   "outputs": [
    {
     "name": "stdout",
     "output_type": "stream",
     "text": [
      "business.pkl\n",
      "metadata_11.json\n",
      "metadata_3.json\n",
      "metadata_4.json\n",
      "metadata_5.json\n",
      "metadata_9.json\n",
      "review.json\n",
      "tip.json\n",
      "user.parquet\n"
     ]
    }
   ],
   "source": [
    "list_blobs('data-lake-henry')"
   ]
  },
  {
   "cell_type": "code",
   "execution_count": 10,
   "metadata": {},
   "outputs": [
    {
     "data": {
      "text/plain": [
       "['gs://data-lake-henry/Texas_1.json',\n",
       " 'gs://data-lake-henry/Texas_2.json',\n",
       " 'gs://data-lake-henry/Texas_3.json',\n",
       " 'gs://data-lake-henry/Texas_4.json',\n",
       " 'gs://data-lake-henry/Texas_5.json',\n",
       " 'gs://data-lake-henry/Texas_6.json',\n",
       " 'gs://data-lake-henry/Texas_7.json',\n",
       " 'gs://data-lake-henry/Texas_8.json',\n",
       " 'gs://data-lake-henry/Texas_9.json',\n",
       " 'gs://data-lake-henry/Texas_10.json',\n",
       " 'gs://data-lake-henry/Texas_11.json',\n",
       " 'gs://data-lake-henry/Texas_12.json',\n",
       " 'gs://data-lake-henry/Texas_13.json',\n",
       " 'gs://data-lake-henry/Texas_14.json',\n",
       " 'gs://data-lake-henry/Texas_15.json',\n",
       " 'gs://data-lake-henry/Texas_16.json']"
      ]
     },
     "execution_count": 10,
     "metadata": {},
     "output_type": "execute_result"
    }
   ],
   "source": [
    "list_files = []\n",
    "for i in range(1,17):\n",
    "    x = f'gs://data-lake-henry/Texas_{i}.json'\n",
    "    list_files.append(x)\n",
    "list_files"
   ]
  },
  {
   "cell_type": "code",
   "execution_count": 13,
   "metadata": {},
   "outputs": [
    {
     "data": {
      "text/plain": [
       "user_id    float64\n",
       "name        object\n",
       "time         int64\n",
       "rating       int64\n",
       "text        object\n",
       "pics        object\n",
       "resp        object\n",
       "gmap_id     object\n",
       "dtype: object"
      ]
     },
     "execution_count": 13,
     "metadata": {},
     "output_type": "execute_result"
    }
   ],
   "source": [
    "import pandas as pd\n",
    "\n",
    "pd.read_json('data/Google Maps/estados/review-Texas/1.json', lines=True).dtypes"
   ]
  },
  {
   "cell_type": "code",
   "execution_count": 14,
   "metadata": {},
   "outputs": [
    {
     "data": {
      "text/html": [
       "<div>\n",
       "<style scoped>\n",
       "    .dataframe tbody tr th:only-of-type {\n",
       "        vertical-align: middle;\n",
       "    }\n",
       "\n",
       "    .dataframe tbody tr th {\n",
       "        vertical-align: top;\n",
       "    }\n",
       "\n",
       "    .dataframe thead th {\n",
       "        text-align: right;\n",
       "    }\n",
       "</style>\n",
       "<table border=\"1\" class=\"dataframe\">\n",
       "  <thead>\n",
       "    <tr style=\"text-align: right;\">\n",
       "      <th></th>\n",
       "      <th>user_id</th>\n",
       "      <th>name</th>\n",
       "      <th>time</th>\n",
       "      <th>rating</th>\n",
       "      <th>text</th>\n",
       "      <th>pics</th>\n",
       "      <th>resp</th>\n",
       "      <th>gmap_id</th>\n",
       "    </tr>\n",
       "  </thead>\n",
       "  <tbody>\n",
       "    <tr>\n",
       "      <th>0</th>\n",
       "      <td>1.105453e+20</td>\n",
       "      <td>Kimberly Feger</td>\n",
       "      <td>1625431734826</td>\n",
       "      <td>5</td>\n",
       "      <td>The pharmacist, Erin, is phenomenal. She was s...</td>\n",
       "      <td>None</td>\n",
       "      <td>None</td>\n",
       "      <td>0x864c3998b8d8dc83:0x57ffabe1e2322320</td>\n",
       "    </tr>\n",
       "    <tr>\n",
       "      <th>1</th>\n",
       "      <td>1.036198e+20</td>\n",
       "      <td>Briana Streit</td>\n",
       "      <td>1568336283913</td>\n",
       "      <td>2</td>\n",
       "      <td>I gave them 2 stars because they offer prescri...</td>\n",
       "      <td>None</td>\n",
       "      <td>None</td>\n",
       "      <td>0x864c3998b8d8dc83:0x57ffabe1e2322320</td>\n",
       "    </tr>\n",
       "    <tr>\n",
       "      <th>2</th>\n",
       "      <td>1.019167e+20</td>\n",
       "      <td>Sylvia Caudillo</td>\n",
       "      <td>1519873586872</td>\n",
       "      <td>1</td>\n",
       "      <td>If I could put minus stars I would. This has t...</td>\n",
       "      <td>None</td>\n",
       "      <td>None</td>\n",
       "      <td>0x864c3998b8d8dc83:0x57ffabe1e2322320</td>\n",
       "    </tr>\n",
       "    <tr>\n",
       "      <th>3</th>\n",
       "      <td>1.178709e+20</td>\n",
       "      <td>Ginger Kinyon</td>\n",
       "      <td>1571638384637</td>\n",
       "      <td>1</td>\n",
       "      <td>Please fix your restroom doors</td>\n",
       "      <td>None</td>\n",
       "      <td>None</td>\n",
       "      <td>0x864c3998b8d8dc83:0x57ffabe1e2322320</td>\n",
       "    </tr>\n",
       "    <tr>\n",
       "      <th>4</th>\n",
       "      <td>1.103973e+20</td>\n",
       "      <td>Angeles Arellano</td>\n",
       "      <td>1546568877087</td>\n",
       "      <td>1</td>\n",
       "      <td>This pharmacy Walmart dose not work not come a...</td>\n",
       "      <td>None</td>\n",
       "      <td>None</td>\n",
       "      <td>0x864c3998b8d8dc83:0x57ffabe1e2322320</td>\n",
       "    </tr>\n",
       "  </tbody>\n",
       "</table>\n",
       "</div>"
      ],
      "text/plain": [
       "        user_id              name           time  rating  \\\n",
       "0  1.105453e+20    Kimberly Feger  1625431734826       5   \n",
       "1  1.036198e+20     Briana Streit  1568336283913       2   \n",
       "2  1.019167e+20   Sylvia Caudillo  1519873586872       1   \n",
       "3  1.178709e+20     Ginger Kinyon  1571638384637       1   \n",
       "4  1.103973e+20  Angeles Arellano  1546568877087       1   \n",
       "\n",
       "                                                text  pics  resp  \\\n",
       "0  The pharmacist, Erin, is phenomenal. She was s...  None  None   \n",
       "1  I gave them 2 stars because they offer prescri...  None  None   \n",
       "2  If I could put minus stars I would. This has t...  None  None   \n",
       "3                     Please fix your restroom doors  None  None   \n",
       "4  This pharmacy Walmart dose not work not come a...  None  None   \n",
       "\n",
       "                                 gmap_id  \n",
       "0  0x864c3998b8d8dc83:0x57ffabe1e2322320  \n",
       "1  0x864c3998b8d8dc83:0x57ffabe1e2322320  \n",
       "2  0x864c3998b8d8dc83:0x57ffabe1e2322320  \n",
       "3  0x864c3998b8d8dc83:0x57ffabe1e2322320  \n",
       "4  0x864c3998b8d8dc83:0x57ffabe1e2322320  "
      ]
     },
     "execution_count": 14,
     "metadata": {},
     "output_type": "execute_result"
    }
   ],
   "source": [
    "pd.read_json('data/Google Maps/estados/review-Texas/1.json', lines=True).head()"
   ]
  }
 ],
 "metadata": {
  "kernelspec": {
   "display_name": "Python 3",
   "language": "python",
   "name": "python3"
  },
  "language_info": {
   "codemirror_mode": {
    "name": "ipython",
    "version": 3
   },
   "file_extension": ".py",
   "mimetype": "text/x-python",
   "name": "python",
   "nbconvert_exporter": "python",
   "pygments_lexer": "ipython3",
   "version": "3.10.8"
  },
  "orig_nbformat": 4
 },
 "nbformat": 4,
 "nbformat_minor": 2
}
