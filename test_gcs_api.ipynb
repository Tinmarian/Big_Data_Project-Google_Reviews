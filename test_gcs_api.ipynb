{
 "cells": [
  {
   "cell_type": "code",
   "execution_count": 6,
   "metadata": {},
   "outputs": [],
   "source": [
    "from google.cloud import storage\n",
    "\n",
    "from google.oauth2 import service_account\n",
    "\n",
    "SCOPES = ['https://www.googleapis.com/auth/drive.readonly','https://www.googleapis.com/auth/devstorage.full_control','https://www.googleapis.com/auth/drive']\n",
    "SERVICE_ACCOUNT_FILE = './credentials/fiery-protocol-399500-f2566dd92ef4.json'\n",
    "\n",
    "creds = service_account.Credentials.from_service_account_file(\n",
    "        SERVICE_ACCOUNT_FILE, scopes=SCOPES)\n",
    "\n",
    "def list_blobs(bucket_name):\n",
    "    \"\"\"Lists all the blobs in the bucket.\"\"\"\n",
    "    # bucket_name = \"your-bucket-name\"\n",
    "\n",
    "    storage_client = storage.Client(credentials=creds)\n",
    "\n",
    "    # Note: Client.list_blobs requires at least package version 1.17.0.\n",
    "    blobs = storage_client.list_blobs(bucket_name)\n",
    "\n",
    "    # Note: The call returns a response only when the iterator is consumed.\n",
    "    for blob in blobs:\n",
    "        print(blob.name)"
   ]
  },
  {
   "cell_type": "code",
   "execution_count": 9,
   "metadata": {},
   "outputs": [
    {
     "name": "stdout",
     "output_type": "stream",
     "text": [
      "business.pkl\n",
      "metadata_11.json\n",
      "metadata_3.json\n",
      "metadata_4.json\n",
      "metadata_5.json\n",
      "metadata_9.json\n",
      "review.json\n",
      "tip.json\n",
      "user.parquet\n"
     ]
    }
   ],
   "source": [
    "list_blobs('data-lake-henry')"
   ]
  },
  {
   "cell_type": "code",
   "execution_count": 10,
   "metadata": {},
   "outputs": [
    {
     "data": {
      "text/plain": [
       "['gs://data-lake-henry/Texas_1.json',\n",
       " 'gs://data-lake-henry/Texas_2.json',\n",
       " 'gs://data-lake-henry/Texas_3.json',\n",
       " 'gs://data-lake-henry/Texas_4.json',\n",
       " 'gs://data-lake-henry/Texas_5.json',\n",
       " 'gs://data-lake-henry/Texas_6.json',\n",
       " 'gs://data-lake-henry/Texas_7.json',\n",
       " 'gs://data-lake-henry/Texas_8.json',\n",
       " 'gs://data-lake-henry/Texas_9.json',\n",
       " 'gs://data-lake-henry/Texas_10.json',\n",
       " 'gs://data-lake-henry/Texas_11.json',\n",
       " 'gs://data-lake-henry/Texas_12.json',\n",
       " 'gs://data-lake-henry/Texas_13.json',\n",
       " 'gs://data-lake-henry/Texas_14.json',\n",
       " 'gs://data-lake-henry/Texas_15.json',\n",
       " 'gs://data-lake-henry/Texas_16.json']"
      ]
     },
     "execution_count": 10,
     "metadata": {},
     "output_type": "execute_result"
    }
   ],
   "source": [
    "list_files = []\n",
    "for i in range(1,17):\n",
    "    x = f'gs://data-lake-henry/Texas_{i}.json'\n",
    "    list_files.append(x)\n",
    "list_files"
   ]
  }
 ],
 "metadata": {
  "kernelspec": {
   "display_name": "Python 3",
   "language": "python",
   "name": "python3"
  },
  "language_info": {
   "codemirror_mode": {
    "name": "ipython",
    "version": 3
   },
   "file_extension": ".py",
   "mimetype": "text/x-python",
   "name": "python",
   "nbconvert_exporter": "python",
   "pygments_lexer": "ipython3",
   "version": "3.10.8"
  },
  "orig_nbformat": 4
 },
 "nbformat": 4,
 "nbformat_minor": 2
}
