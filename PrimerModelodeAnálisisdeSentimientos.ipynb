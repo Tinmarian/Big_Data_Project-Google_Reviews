{
 "cells": [
  {
   "cell_type": "code",
   "execution_count": null,
   "metadata": {},
   "outputs": [],
   "source": [
    "import pandas as pd\n",
    "from sklearn.model_selection import train_test_split\n",
    "from sklearn.feature_extraction.text import TfidfVectorizer\n",
    "from sklearn.svm import SVC\n",
    "from sklearn.metrics import classification_report\n",
    "\n",
    "# Cargar datos desde un archivo JSON en tu computadora local\n",
    "# Asegúrate de reemplazar 'tu_archivo.json' con la ruta al archivo JSON en tu computadora\n",
    "data = pd.read_csv(\"C:/Users/Fede/Documents/Henry/Proyecto 3/Pruebas de Código en local/restaurant2.csv\")\n",
    "\n",
    "# Filtrar solo las filas que tienen texto no nulo en la columna 'text'\n",
    "data = data.dropna(subset=['description'])\n",
    "\n",
    "# Definir las palabras clave para cada categoría\n",
    "categorias = {\n",
    "    'calidad_comida_positivo': [\"big variety\", \"love\", \"fresh\", \"delicious\", \"real deal\", \"comforting\", \"delicious\", \"fresh\", \"food amazing\", \"yummy\", \"excellent food\", \"wondeful\"],\n",
    "    'calidad_comida_negativo': [\"food burnt\", \"garbage\", \"mediocre\", \"dishes small\"],\n",
    "    'precios_positivo': [\"affordable prices\", \"great prices\", \"fair prices\", \"prices pretty good\", \"reasonable prices\", \"better prices\"],\n",
    "    'precios_negativo': [\"expensive\", \"overpriced\", \"exorbitant\"],\n",
    "    'servicio_positivo': [\"great staff\", \"great service\", \"helpful\", \"excellent people\", \"awesome people\", \"fast service\", \"good service\", \"friendly\", \"fast service\", \"excellent staff\"],\n",
    "    'servicio_negativo': [\"staff need paid attention\", \"poor service\", \"pricey\", \"ineptitude\", \"terrible service\"],\n",
    "}\n",
    "\n",
    "# Separar los textos y etiquetas\n",
    "textos = data['description'].tolist()\n",
    "etiquetas = data['description'].tolist()  # Asegúrate de reemplazar 'etiqueta_de_sentimiento' con la columna real\n",
    "\n",
    "# Preprocesamiento y vectorización de texto\n",
    "vectorizer = TfidfVectorizer()\n",
    "X = vectorizer.fit_transform(textos)\n",
    "\n",
    "# Dividir datos en entrenamiento y prueba\n",
    "X_train, X_test, y_train, y_test = train_test_split(X, etiquetas, test_size=0.2, random_state=42)\n",
    "\n",
    "# Construir y entrenar el modelo SVM\n",
    "clf = SVC(kernel='linear')\n",
    "clf.fit(X_train, y_train)\n",
    "\n",
    "# Realizar predicciones en el conjunto de prueba\n",
    "y_pred = clf.predict(X_test)\n",
    "\n",
    "# Evaluar el rendimiento del modelo\n",
    "print(classification_report(y_test, y_pred))"
   ]
  }
 ],
 "metadata": {
  "language_info": {
   "name": "python"
  },
  "orig_nbformat": 4
 },
 "nbformat": 4,
 "nbformat_minor": 2
}
